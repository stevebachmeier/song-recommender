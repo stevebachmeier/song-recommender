{
 "cells": [
  {
   "cell_type": "code",
   "execution_count": null,
   "metadata": {},
   "outputs": [],
   "source": [
    "#==============================================================================\n",
    "#\n",
    "# IMPORT LIBRARIES\n",
    "# \n",
    "#==============================================================================\n",
    "import time\n",
    "import pandas as pd\n",
    "#pd.options.display.max_columns = None # Shows all columns\n",
    "import string as str\n",
    "import numpy as np\n",
    "import matplotlib.pyplot as plt\n",
    "import dill\n",
    "import dask\n",
    "import dask.dataframe as dd\n",
    "import re\n",
    "from pprint import pprint\n",
    "\n",
    "#import csv\n",
    "#from googletrans import Translator\n",
    "#import copy\n",
    "#import numpy as np"
   ]
  },
  {
   "cell_type": "code",
   "execution_count": null,
   "metadata": {},
   "outputs": [],
   "source": []
  },
  {
   "cell_type": "code",
   "execution_count": null,
   "metadata": {},
   "outputs": [],
   "source": [
    "#==============================================================================\n",
    "# \n",
    "# DUMP/LOAD SESSIONS\n",
    "# \n",
    "#==============================================================================\n",
    "# ---- FULL SESSIONS ----\n",
    "# Dump\n",
    "#dill.dump_session('./working.db')\n",
    "\n",
    "# Load\n",
    "#dill.load_session('working.db')\n",
    "\n",
    "# ---- OBJECTS ----\n",
    "# Dump\n",
    "#dill.dump(df_raw, open(\"df_raw.pkl\", \"wb\"))\n",
    "\n",
    "# Load\n",
    "#dill_file = open(\"df_raw.pkl\", \"rb\")\n",
    "#df_raw = dill.load(dill_file)\n",
    "#dill_file.close()"
   ]
  },
  {
   "cell_type": "code",
   "execution_count": null,
   "metadata": {},
   "outputs": [],
   "source": []
  },
  {
   "cell_type": "code",
   "execution_count": null,
   "metadata": {},
   "outputs": [],
   "source": [
    "#==============================================================================\n",
    "# \n",
    "# READ/EXTRACT RAW DATA\n",
    "# \n",
    "#==============================================================================\n",
    "\n",
    "file_train = 'data/dataset/yes_complete/train.txt'\n",
    "print(pd.read_table(file_train, nrows=5, header=None))"
   ]
  },
  {
   "cell_type": "code",
   "execution_count": null,
   "metadata": {},
   "outputs": [],
   "source": [
    "with open(file_train) as f:\n",
    "    train_raw = f.readlines()"
   ]
  },
  {
   "cell_type": "code",
   "execution_count": null,
   "metadata": {},
   "outputs": [],
   "source": [
    "playlists_train_raw = train_raw[2:]"
   ]
  },
  {
   "cell_type": "code",
   "execution_count": null,
   "metadata": {},
   "outputs": [],
   "source": [
    "# How many unique playlists?\n",
    "print('There are ', len(playlists_train_raw), ' playlists.', sep='')"
   ]
  },
  {
   "cell_type": "code",
   "execution_count": null,
   "metadata": {},
   "outputs": [],
   "source": [
    "# Split playlist IDs and convert to integers\n",
    "playlists_train_list = []\n",
    "for i in range(0, len(playlists_train_raw)):\n",
    "    playlists_train_list.append(list(map(int, playlists_train_raw[i].split())))"
   ]
  },
  {
   "cell_type": "code",
   "execution_count": null,
   "metadata": {},
   "outputs": [],
   "source": [
    "# Flatmap the playlists list\n",
    "df_playlists_train = []\n",
    "for i in range(0, len(playlists_train_list)):\n",
    "    for j in range(0, len(playlists_train_list[i])):\n",
    "        df_playlists_train.append([i, playlists_train_list[i][j]])"
   ]
  },
  {
   "cell_type": "code",
   "execution_count": null,
   "metadata": {},
   "outputs": [],
   "source": [
    "df_playlists_train = pd.DataFrame(df_playlists_train, columns=['playlist', 'song_id'])"
   ]
  },
  {
   "cell_type": "code",
   "execution_count": null,
   "metadata": {},
   "outputs": [],
   "source": [
    "len(df_playlists_train)"
   ]
  },
  {
   "cell_type": "code",
   "execution_count": null,
   "metadata": {},
   "outputs": [],
   "source": [
    "# Create index primary key\n",
    "df_playlists_train.insert(loc=0, column='index', value=df_playlists_train.index)"
   ]
  },
  {
   "cell_type": "code",
   "execution_count": null,
   "metadata": {},
   "outputs": [],
   "source": [
    "# ---- Merge songs on song_id ----\n",
    "df_song_hash = pd.read_table('data/dataset/yes_complete/song_hash.txt', header=None, names=['song_id','song','band'])"
   ]
  },
  {
   "cell_type": "code",
   "execution_count": null,
   "metadata": {},
   "outputs": [],
   "source": [
    "df_playlists_train = df_playlists_train.merge(df_song_hash, on='song_id')\n",
    "df_playlists_train.sort_values('index', inplace=True)\n",
    "df_playlists_train.reset_index(drop=True, inplace=True)"
   ]
  },
  {
   "cell_type": "code",
   "execution_count": null,
   "metadata": {},
   "outputs": [],
   "source": [
    "df_playlists_train.head()"
   ]
  },
  {
   "cell_type": "code",
   "execution_count": null,
   "metadata": {},
   "outputs": [],
   "source": []
  },
  {
   "cell_type": "code",
   "execution_count": null,
   "metadata": {},
   "outputs": [],
   "source": [
    "#==============================================================================\n",
    "#\n",
    "# EDA\n",
    "# \n",
    "#=============================================================================="
   ]
  },
  {
   "cell_type": "code",
   "execution_count": null,
   "metadata": {},
   "outputs": [],
   "source": [
    "#song_count = pd.DataFrame(df_playlists_train.groupby(['song', 'band'])['playlist'].count().sort_values(ascending=False))\n",
    "song_count = df_playlists_train.groupby(['song_id','song','band']).count().reset_index().drop(columns='index')\n",
    "song_count.columns = ['song_id','song','band','count']\n",
    "song_count = song_count.sort_values('count', ascending=False)\n",
    "song_count.reset_index(inplace=True)\n",
    "song_count = song_count[['song_id','song','band','count']]"
   ]
  },
  {
   "cell_type": "code",
   "execution_count": null,
   "metadata": {},
   "outputs": [],
   "source": [
    "plt.figure(figsize=(10,4))\n",
    "song_count['count'].hist(bins=70)\n",
    "plt.xlabel('Song count')\n",
    "plt.ylabel('Quantity')\n",
    "plt.title('')"
   ]
  },
  {
   "cell_type": "code",
   "execution_count": null,
   "metadata": {},
   "outputs": [],
   "source": [
    "plt.figure(figsize=(10,4))\n",
    "song_count['count'].hist(bins=10000)\n",
    "plt.xlabel('Song count')\n",
    "plt.ylabel('Quantity')\n",
    "plt.title('')\n",
    "plt.xlim(0,25)"
   ]
  },
  {
   "cell_type": "code",
   "execution_count": null,
   "metadata": {},
   "outputs": [],
   "source": [
    "plt.figure(figsize=(10,4))\n",
    "song_count[song_count['count'] > 5]['count'].hist(bins=5000)\n",
    "plt.xlabel('Song count')\n",
    "plt.ylabel('Quantity')\n",
    "plt.title('')\n",
    "plt.xlim(5,20)"
   ]
  },
  {
   "cell_type": "code",
   "execution_count": null,
   "metadata": {},
   "outputs": [],
   "source": []
  },
  {
   "cell_type": "code",
   "execution_count": null,
   "metadata": {},
   "outputs": [],
   "source": [
    "band_count = pd.DataFrame(df_playlists_train.groupby('band')['playlist'].count().sort_values(ascending=False))\n",
    "band_count.reset_index(inplace=True)\n",
    "band_count.columns = ['band','count']"
   ]
  },
  {
   "cell_type": "code",
   "execution_count": null,
   "metadata": {},
   "outputs": [],
   "source": [
    "band_count.head()"
   ]
  },
  {
   "cell_type": "code",
   "execution_count": null,
   "metadata": {},
   "outputs": [],
   "source": [
    "plt.figure(figsize=(10,4))\n",
    "band_count['count'].hist(bins=70)\n",
    "plt.xlabel('Band count')\n",
    "plt.ylabel('Quantity')\n",
    "plt.title('')"
   ]
  },
  {
   "cell_type": "code",
   "execution_count": null,
   "metadata": {},
   "outputs": [],
   "source": [
    "plt.figure(figsize=(10,4))\n",
    "band_count['count'].hist(bins=1000)\n",
    "plt.xlabel('Band count')\n",
    "plt.ylabel('Quantity')\n",
    "plt.title('')\n",
    "plt.xlim(0,100)"
   ]
  },
  {
   "cell_type": "code",
   "execution_count": null,
   "metadata": {},
   "outputs": [],
   "source": []
  },
  {
   "cell_type": "code",
   "execution_count": null,
   "metadata": {},
   "outputs": [],
   "source": [
    "#==============================================================================\n",
    "#\n",
    "# CLEAN DATA\n",
    "# \n",
    "#=============================================================================="
   ]
  },
  {
   "cell_type": "code",
   "execution_count": null,
   "metadata": {},
   "outputs": [],
   "source": [
    "df_playlists_train.head()"
   ]
  },
  {
   "cell_type": "code",
   "execution_count": null,
   "metadata": {},
   "outputs": [],
   "source": [
    "len(df_playlists_train)"
   ]
  },
  {
   "cell_type": "code",
   "execution_count": null,
   "metadata": {},
   "outputs": [],
   "source": [
    "df_playlists_train = pd.merge(df_playlists_train, song_count)\n",
    "df_playlists_train.sort_values(by='index', inplace=True)\n",
    "df_playlists_train.reset_index(drop=True, inplace=True)"
   ]
  },
  {
   "cell_type": "code",
   "execution_count": null,
   "metadata": {},
   "outputs": [],
   "source": []
  },
  {
   "cell_type": "code",
   "execution_count": null,
   "metadata": {},
   "outputs": [],
   "source": [
    "# ---- PARE DATA ----\n",
    "# Remove songs that show up less than 6 times\n",
    "df_playlists_train = df_playlists_train[df_playlists_train['count']>=6]"
   ]
  },
  {
   "cell_type": "code",
   "execution_count": null,
   "metadata": {},
   "outputs": [],
   "source": [
    "df_playlists_train.head()"
   ]
  },
  {
   "cell_type": "code",
   "execution_count": null,
   "metadata": {},
   "outputs": [],
   "source": [
    "df_playlists_train.sort_values('count').head()"
   ]
  },
  {
   "cell_type": "code",
   "execution_count": null,
   "metadata": {},
   "outputs": [],
   "source": [
    "df_playlists_train.sort_values('count').tail()"
   ]
  },
  {
   "cell_type": "code",
   "execution_count": null,
   "metadata": {},
   "outputs": [],
   "source": []
  },
  {
   "cell_type": "code",
   "execution_count": null,
   "metadata": {},
   "outputs": [],
   "source": [
    "# ---- REMOVE NULLS ----"
   ]
  },
  {
   "cell_type": "code",
   "execution_count": null,
   "metadata": {},
   "outputs": [],
   "source": [
    "df_playlists_train.isnull().sum().sum()"
   ]
  },
  {
   "cell_type": "code",
   "execution_count": null,
   "metadata": {},
   "outputs": [],
   "source": [
    "df_playlists_train.isna().sum().sum()"
   ]
  },
  {
   "cell_type": "code",
   "execution_count": null,
   "metadata": {},
   "outputs": [],
   "source": []
  },
  {
   "cell_type": "code",
   "execution_count": null,
   "metadata": {},
   "outputs": [],
   "source": [
    "# ---- REMOVE \"\", \" \", \"-\" ----\n",
    "df_playlists_train[df_playlists_train['song'] == '-'].head()"
   ]
  },
  {
   "cell_type": "code",
   "execution_count": null,
   "metadata": {},
   "outputs": [],
   "source": [
    "df_playlists_train.drop(df_playlists_train[df_playlists_train['song']=='-'].index, inplace=True)"
   ]
  },
  {
   "cell_type": "code",
   "execution_count": null,
   "metadata": {},
   "outputs": [],
   "source": [
    "df_playlists_train[df_playlists_train['song'] == '-']"
   ]
  },
  {
   "cell_type": "code",
   "execution_count": null,
   "metadata": {},
   "outputs": [],
   "source": []
  },
  {
   "cell_type": "code",
   "execution_count": null,
   "metadata": {},
   "outputs": [],
   "source": [
    "df_playlists_train[df_playlists_train['band'] == '-'].head()"
   ]
  },
  {
   "cell_type": "code",
   "execution_count": null,
   "metadata": {},
   "outputs": [],
   "source": [
    "df_playlists_train.drop(df_playlists_train[df_playlists_train['band']=='-'].index, inplace=True)"
   ]
  },
  {
   "cell_type": "code",
   "execution_count": null,
   "metadata": {},
   "outputs": [],
   "source": [
    "df_playlists_train[df_playlists_train['band']=='-']"
   ]
  },
  {
   "cell_type": "code",
   "execution_count": null,
   "metadata": {},
   "outputs": [],
   "source": []
  },
  {
   "cell_type": "code",
   "execution_count": null,
   "metadata": {},
   "outputs": [],
   "source": [
    "df_playlists_train[df_playlists_train['song']=='']"
   ]
  },
  {
   "cell_type": "code",
   "execution_count": null,
   "metadata": {},
   "outputs": [],
   "source": [
    "df_playlists_train[df_playlists_train['band']=='']"
   ]
  },
  {
   "cell_type": "code",
   "execution_count": null,
   "metadata": {},
   "outputs": [],
   "source": [
    "df_playlists_train[df_playlists_train['song']==' ']"
   ]
  },
  {
   "cell_type": "code",
   "execution_count": null,
   "metadata": {},
   "outputs": [],
   "source": [
    "df_playlists_train[df_playlists_train['band']==' ']"
   ]
  },
  {
   "cell_type": "code",
   "execution_count": null,
   "metadata": {},
   "outputs": [],
   "source": []
  },
  {
   "cell_type": "code",
   "execution_count": null,
   "metadata": {},
   "outputs": [],
   "source": [
    "# ---- REMOVE ESCAPE CHARACTER '\\' ----\n",
    "df_playlists_train['song'] = [x.replace(\"\\\\\",\"\") for x in df_playlists_train['song']]\n",
    "df_playlists_train['band'] = [x.replace(\"\\\\\",\"\") for x in df_playlists_train['band']]"
   ]
  },
  {
   "cell_type": "code",
   "execution_count": null,
   "metadata": {},
   "outputs": [],
   "source": [
    "# REPLACE [] WITH ()\n",
    "df_playlists_train['song'] = [x.replace(\"[\",\"(\") for x in df_playlists_train['song']]\n",
    "df_playlists_train['song'] = [x.replace(\"]\",\")\") for x in df_playlists_train['song']]\n",
    "df_playlists_train['band'] = [x.replace(\"[\",\"(\") for x in df_playlists_train['band']]\n",
    "df_playlists_train['band'] = [x.replace(\"]\",\")\") for x in df_playlists_train['band']]"
   ]
  },
  {
   "cell_type": "code",
   "execution_count": null,
   "metadata": {},
   "outputs": [],
   "source": []
  },
  {
   "cell_type": "code",
   "execution_count": null,
   "metadata": {},
   "outputs": [],
   "source": [
    "# LOWER SONG AND BAND\n",
    "df_playlists_train.head()"
   ]
  },
  {
   "cell_type": "code",
   "execution_count": null,
   "metadata": {},
   "outputs": [],
   "source": [
    "df_playlists_train['song'] = [x.lower() for x in df_playlists_train['song']]\n",
    "df_playlists_train['band'] = [x.lower() for x in df_playlists_train['band']]"
   ]
  },
  {
   "cell_type": "code",
   "execution_count": null,
   "metadata": {},
   "outputs": [],
   "source": [
    "df_playlists_train.head()"
   ]
  },
  {
   "cell_type": "code",
   "execution_count": null,
   "metadata": {},
   "outputs": [],
   "source": []
  },
  {
   "cell_type": "code",
   "execution_count": null,
   "metadata": {},
   "outputs": [],
   "source": [
    "# ---- CONCAT SONG AND BAND ----\n",
    "df_playlists_train['song_band'] = df_playlists_train['song'] + \" [\" + df_playlists_train['band'] + \"]\"\n",
    "\n",
    "# Rearrange columns\n",
    "df_playlists_train = df_playlists_train[['index','playlist','song_id','song','band','song_band','count']]"
   ]
  },
  {
   "cell_type": "code",
   "execution_count": null,
   "metadata": {},
   "outputs": [],
   "source": [
    "df_playlists_train.tail()"
   ]
  },
  {
   "cell_type": "code",
   "execution_count": null,
   "metadata": {},
   "outputs": [],
   "source": [
    "df_playlists_train['song_id'].nunique()"
   ]
  },
  {
   "cell_type": "code",
   "execution_count": null,
   "metadata": {},
   "outputs": [],
   "source": [
    "df_playlists_train['song_band'].nunique()"
   ]
  },
  {
   "cell_type": "code",
   "execution_count": null,
   "metadata": {
    "scrolled": true
   },
   "outputs": [],
   "source": [
    "# Why the difference?\n",
    "df_playlists_train['song_id'].nunique() - df_playlists_train['song_band'].nunique()"
   ]
  },
  {
   "cell_type": "code",
   "execution_count": null,
   "metadata": {},
   "outputs": [],
   "source": []
  },
  {
   "cell_type": "code",
   "execution_count": null,
   "metadata": {},
   "outputs": [],
   "source": [
    "#==============================================================================\n",
    "#\n",
    "# BUILD RECOMMENDER\n",
    "#\n",
    "#=============================================================================="
   ]
  },
  {
   "cell_type": "code",
   "execution_count": null,
   "metadata": {},
   "outputs": [],
   "source": [
    "# ---- CREATE PLAYLIST-SONG MATRIX ----\n",
    "start_clock = time.clock()\n",
    "\n",
    "# Create song_band dummies\n",
    "#playlist_song_mat_train = pd.get_dummies(df_playlists_train['song_band'], sparse=True)\n",
    "playlist_song_mat_train = pd.get_dummies(df_playlists_train['song_band'])\n",
    "\n",
    "# Insert index and playlist columns\n",
    "playlist_song_mat_train.insert(loc=0, column='playlist', value=df_playlists_train['playlist'])\n",
    "playlist_song_mat_train.insert(loc=0, column='index', value=df_playlists_train['index'])\n",
    "\n",
    "end_clock = time.clock()\n",
    "    \n",
    "print('\\n')\n",
    "print('Runtime: ', round((end_clock - start_clock)/60, 2), ' min', sep='')"
   ]
  },
  {
   "cell_type": "code",
   "execution_count": null,
   "metadata": {},
   "outputs": [],
   "source": [
    "playlist_song_mat_train.info()"
   ]
  },
  {
   "cell_type": "code",
   "execution_count": null,
   "metadata": {},
   "outputs": [],
   "source": []
  },
  {
   "cell_type": "code",
   "execution_count": null,
   "metadata": {},
   "outputs": [],
   "source": [
    "# CONVERT TO DASK DATAFRAME "
   ]
  },
  {
   "cell_type": "code",
   "execution_count": null,
   "metadata": {},
   "outputs": [],
   "source": [
    "start_clock = time.clock()\n",
    "dd_playlist_song_mat_train = dd.from_pandas(data=playlist_song_mat_train, npartitions=1000)\n",
    "end_clock = time.clock()\n",
    "\n",
    "print('Runtime: ', round((end_clock - start_clock)/60, 2), ' min')"
   ]
  },
  {
   "cell_type": "code",
   "execution_count": null,
   "metadata": {},
   "outputs": [],
   "source": [
    "dd_playlist_song_mat_train.info()"
   ]
  },
  {
   "cell_type": "code",
   "execution_count": null,
   "metadata": {},
   "outputs": [],
   "source": []
  },
  {
   "cell_type": "code",
   "execution_count": null,
   "metadata": {},
   "outputs": [],
   "source": [
    "# CLEAR MEMORY "
   ]
  },
  {
   "cell_type": "code",
   "execution_count": null,
   "metadata": {},
   "outputs": [],
   "source": [
    "%who DataFrame"
   ]
  },
  {
   "cell_type": "code",
   "execution_count": null,
   "metadata": {},
   "outputs": [],
   "source": [
    "del(band_count, df_song_hash, playlist_song_mat_train, \n",
    "    playlists_train_list, playlists_train_raw, song_count, train_raw)"
   ]
  },
  {
   "cell_type": "code",
   "execution_count": null,
   "metadata": {},
   "outputs": [],
   "source": []
  },
  {
   "cell_type": "code",
   "execution_count": null,
   "metadata": {},
   "outputs": [],
   "source": [
    "# GROUP BY PLAYLIST "
   ]
  },
  {
   "cell_type": "code",
   "execution_count": null,
   "metadata": {},
   "outputs": [],
   "source": [
    "start_clock = time.clock()\n",
    "playlist_song_mat_train = dd_playlist_song_mat_train.groupby('playlist').sum().compute()\n",
    "playlist_song_mat_train.drop(columns='index', inplace=True)\n",
    "end_clock = time.clock()\n",
    "\n",
    "print('Runtime: ', round((end_clock - start_clock)/60, 2), ' min')"
   ]
  },
  {
   "cell_type": "code",
   "execution_count": null,
   "metadata": {},
   "outputs": [],
   "source": [
    "playlist_song_mat_train.info()"
   ]
  },
  {
   "cell_type": "code",
   "execution_count": null,
   "metadata": {},
   "outputs": [],
   "source": [
    "del(dd_playlist_song_mat_train)"
   ]
  },
  {
   "cell_type": "code",
   "execution_count": null,
   "metadata": {},
   "outputs": [],
   "source": [
    "playlist_song_mat_train.head()"
   ]
  },
  {
   "cell_type": "code",
   "execution_count": null,
   "metadata": {},
   "outputs": [],
   "source": []
  },
  {
   "cell_type": "code",
   "execution_count": null,
   "metadata": {},
   "outputs": [],
   "source": [
    "# ---- CHECKS ----"
   ]
  },
  {
   "cell_type": "code",
   "execution_count": null,
   "metadata": {},
   "outputs": [],
   "source": [
    "# Check number of Nelly's #1 songs\n",
    "len(df_playlists_train[df_playlists_train['song_band']=='#1 [nelly]'])"
   ]
  },
  {
   "cell_type": "code",
   "execution_count": null,
   "metadata": {},
   "outputs": [],
   "source": [
    "playlist_song_mat_train['#1 [nelly]'].sum()"
   ]
  },
  {
   "cell_type": "code",
   "execution_count": null,
   "metadata": {},
   "outputs": [],
   "source": [
    "# Check length of (arbitrarily chosen) playlist 472 (partially checks for re-indexing)\n",
    "sum(playlist_song_mat_train[playlist_song_mat_train.columns[playlist_song_mat_train.iloc[472,:] > 0]].iloc[472])"
   ]
  },
  {
   "cell_type": "code",
   "execution_count": null,
   "metadata": {},
   "outputs": [],
   "source": [
    "len(df_playlists_train[df_playlists_train['playlist']==472])"
   ]
  },
  {
   "cell_type": "code",
   "execution_count": null,
   "metadata": {},
   "outputs": [],
   "source": [
    "# Check number of playlists\n",
    "df_playlists_train['playlist'].nunique()"
   ]
  },
  {
   "cell_type": "code",
   "execution_count": null,
   "metadata": {},
   "outputs": [],
   "source": [
    "len(playlist_song_mat_train)"
   ]
  },
  {
   "cell_type": "code",
   "execution_count": null,
   "metadata": {},
   "outputs": [],
   "source": [
    "# Check number of unique songs\n",
    "df_playlists_train['song_band'].nunique()"
   ]
  },
  {
   "cell_type": "code",
   "execution_count": null,
   "metadata": {},
   "outputs": [],
   "source": [
    "playlist_song_mat_train.shape[1]"
   ]
  },
  {
   "cell_type": "code",
   "execution_count": null,
   "metadata": {},
   "outputs": [],
   "source": []
  },
  {
   "cell_type": "code",
   "execution_count": null,
   "metadata": {},
   "outputs": [],
   "source": [
    "# Convert every non-zero count to just 1, ie each playlist should count each unique song as appearing only once\n",
    "# regardless of how often it actually appears.\n",
    "playlist_song_mat_train = playlist_song_mat_train.astype(bool).astype(int)"
   ]
  },
  {
   "cell_type": "code",
   "execution_count": null,
   "metadata": {},
   "outputs": [],
   "source": [
    "playlist_song_mat_train['#1 [nelly]'].sum()"
   ]
  },
  {
   "cell_type": "code",
   "execution_count": null,
   "metadata": {},
   "outputs": [],
   "source": []
  },
  {
   "cell_type": "code",
   "execution_count": 5,
   "metadata": {},
   "outputs": [],
   "source": [
    "import dill\n",
    "import pandas as pd\n",
    "\n",
    "# Save out dataframes\n",
    "# Dump\n",
    "#dill.dump(df_playlists_train, open(\"df_playlists_train.pkl\", \"wb\"))\n",
    "#dill.dump(playlist_song_mat_train, open(\"playlist_song_mat_train.pkl\", \"wb\"))\n",
    "\n",
    "# Load\n",
    "df_playlists_train = dill.load(open(\"df_playlists_train.pkl\", \"rb\"))\n",
    "playlist_song_mat_train = dill.load(open(\"playlist_song_mat_train.pkl\", \"rb\"))"
   ]
  },
  {
   "cell_type": "code",
   "execution_count": null,
   "metadata": {},
   "outputs": [],
   "source": []
  },
  {
   "cell_type": "code",
   "execution_count": 40,
   "metadata": {},
   "outputs": [
    {
     "name": "stdout",
     "output_type": "stream",
     "text": [
      "What song or band do you like? NeLLy\n"
     ]
    }
   ],
   "source": [
    "# ---- SONG OR BAND INQUIRY ----\n",
    "song_band_inquiry = input('What song or band do you like? ').lower()"
   ]
  },
  {
   "cell_type": "code",
   "execution_count": 41,
   "metadata": {},
   "outputs": [],
   "source": [
    "options = pd.DataFrame([col for col in playlist_song_mat_train.columns if song_band_inquiry in col])[0]"
   ]
  },
  {
   "cell_type": "code",
   "execution_count": 42,
   "metadata": {},
   "outputs": [
    {
     "data": {
      "text/plain": [
       "0                                            #1 [nelly]\n",
       "1     air force ones (w/ fyjuan, ali & murphy lee) [...\n",
       "2                         bajo otra luz [nelly furtado]\n",
       "3                body on me (w/ akon & ashanti) [nelly]\n",
       "4                    dilemma (w/ kelly rowland) [nelly]\n",
       "5                                 do it [nelly furtado]\n",
       "6                                          e.i. [nelly]\n",
       "7                fotografia (w/ nelly furtado) [juanes]\n",
       "8     give it to me (w/ nelly furtado & justin timbe...\n",
       "9                       gone (w/ kelly rowland) [nelly]\n",
       "10        grillz (w/ paul wall, big gipp & ali) [nelly]\n",
       "11       here i am (w/ nelly & avery storm) [rick ross]\n",
       "12                                 hot in herre [nelly]\n",
       "13              hot-n-fun (w/ nelly furtado) [n.e.r.d.]\n",
       "14                      i'm like a bird [nelly furtado]\n",
       "15                   jump (w/ nelly furtado) [flo-rida]\n",
       "16                                 just a dream [nelly]\n",
       "17           long gone (w/ plies & chris brown) [nelly]\n",
       "18                lose control (w/ nelly) [keri hilson]\n",
       "19                        manos al aire [nelly furtado]\n",
       "20                                  mas [nelly furtado]\n",
       "21            move that body (w/ t-pain & akon) [nelly]\n",
       "22                         my place (w/ jaheim) [nelly]\n",
       "23       one of those days (w/ nelly) [whitney houston]\n",
       "24                over and over (w/ tim mcgraw) [nelly]\n",
       "25      party people (w/ fergie & polow da don) [nelly]\n",
       "26                                   pimp juice [nelly]\n",
       "27           promiscuous (w/ timbaland) [nelly furtado]\n",
       "28    quando, quando, quando (w/ nelly furtado) [mic...\n",
       "29                   ride wit me (w/ city spud) [nelly]\n",
       "30                         say it right [nelly furtado]\n",
       "31    shake ya tailfeather [nelly, p. diddy, & murph...\n",
       "32          where the party at (w/ nelly) [jagged edge]\n",
       "Name: 0, dtype: object"
      ]
     },
     "execution_count": 42,
     "metadata": {},
     "output_type": "execute_result"
    }
   ],
   "source": [
    "options"
   ]
  },
  {
   "cell_type": "code",
   "execution_count": 55,
   "metadata": {},
   "outputs": [
    {
     "name": "stdout",
     "output_type": "stream",
     "text": [
      "\n",
      "\n",
      "What number? 3\n"
     ]
    }
   ],
   "source": [
    "while True:\n",
    "    print('\\n')\n",
    "    options\n",
    "    try:\n",
    "        song_band_number = int(input('What number? '))\n",
    "    except:\n",
    "        print('\\n')\n",
    "        print('*** Must input an integer. ***')\n",
    "        continue\n",
    "    else: \n",
    "        if (song_band_number in range(0,len(options))):\n",
    "            song_band_choice = options[song_band_number]\n",
    "            break\n",
    "        else:\n",
    "            print('\\n')\n",
    "            print('*** Choose a number from the table. ***')\n",
    "            continue"
   ]
  },
  {
   "cell_type": "code",
   "execution_count": 50,
   "metadata": {},
   "outputs": [
    {
     "data": {
      "text/plain": [
       "'#1 [nelly]'"
      ]
     },
     "execution_count": 50,
     "metadata": {},
     "output_type": "execute_result"
    }
   ],
   "source": [
    "song_band_choice"
   ]
  },
  {
   "cell_type": "code",
   "execution_count": 51,
   "metadata": {},
   "outputs": [
    {
     "data": {
      "text/plain": [
       "\"# Return options\\nprint('Copy the song [band] you are interested in:')\\nprint('\\n')\\n#pprint([col for col in playlist_song_mat_train.columns.str.lower() if song_band_inquiry.lower() in col])\\npprint([col for col in playlist_song_mat_train.columns if song_band_inquiry in col])\""
      ]
     },
     "execution_count": 51,
     "metadata": {},
     "output_type": "execute_result"
    }
   ],
   "source": [
    "'''# Return options\n",
    "print('Copy the song [band] you are interested in:')\n",
    "print('\\n')\n",
    "#pprint([col for col in playlist_song_mat_train.columns.str.lower() if song_band_inquiry.lower() in col])\n",
    "pprint([col for col in playlist_song_mat_train.columns if song_band_inquiry in col])'''"
   ]
  },
  {
   "cell_type": "code",
   "execution_count": 52,
   "metadata": {},
   "outputs": [
    {
     "data": {
      "text/plain": [
       "\"song_band = input('Input the song [band] of interest: ')\""
      ]
     },
     "execution_count": 52,
     "metadata": {},
     "output_type": "execute_result"
    }
   ],
   "source": [
    "'''song_band = input('Input the song [band] of interest: ')'''"
   ]
  },
  {
   "cell_type": "code",
   "execution_count": 53,
   "metadata": {},
   "outputs": [
    {
     "name": "stdout",
     "output_type": "stream",
     "text": [
      "Top 3 suggested songs: \n",
      " *  down on me (w/ 50 cent) [jeremih]\n",
      " *  bottoms up (w/ nicki minaj) [trey songz]\n",
      " *  how do u want it (w/ k-ci & jojo) [2pac]\n"
     ]
    }
   ],
   "source": [
    "print('Top 3 suggested songs: ')\n",
    "for x_song_band, x_count in \\\n",
    "    playlist_song_mat_train[playlist_song_mat_train[song_band_choice]==1]\\\n",
    "        .sum().sort_values(ascending=False)[1:4,].iteritems():\n",
    "    print(' * ', x_song_band)"
   ]
  },
  {
   "cell_type": "code",
   "execution_count": 54,
   "metadata": {},
   "outputs": [
    {
     "data": {
      "text/plain": [
       "#1 [nelly]                                                12\n",
       "down on me (w/ 50 cent) [jeremih]                          7\n",
       "bottoms up (w/ nicki minaj) [trey songz]                   7\n",
       "how do u want it (w/ k-ci & jojo) [2pac]                   7\n",
       "slow jamz (w/ kanye west & jamie foxx) [twista]            7\n",
       "racks [yc]                                                 6\n",
       "all of the lights [kanye west]                             6\n",
       "deuces [chris brown & tyga]                                6\n",
       "nann nigga (w/ trina) [trick daddy]                        6\n",
       "did it on' em [nicki minaj]                                6\n",
       "cupid [lloyd]                                              6\n",
       "walking [mary mary]                                        5\n",
       "far away [marsha ambrosius]                                5\n",
       "a womans worth [alicia keys]                               5\n",
       "lay it down [lloyd]                                        5\n",
       "like a g6 (w/ the cataracs & dec) [far east movement]      5\n",
       "motivation (w/ lil wayne) [kelly rowland]                  5\n",
       "your love (w/ trey songz) [diddy-dirty money]              5\n",
       "whip my hair [willow]                                      5\n",
       "love faces [trey songz]                                    5\n",
       "perfect day (w/ chink santana & logic) [jim jones]         5\n",
       "99 problems [jay-z]                                        5\n",
       "no hands (w/ roscoe dash & wale) [waka flocka flame]       5\n",
       "my dip in da club [gena]                                   5\n",
       "right thru me [nicki minaj]                                5\n",
       "big pimpin' (w/ ugk) [jay-z]                               5\n",
       "hey baby (drop it to the floor) (w/ t-pain) [pitbull]      5\n",
       "grove st. party (w/ kebo gotti) [waka flocka flame]        5\n",
       "roll up [wiz khalifa]                                      5\n",
       "one night stand (w/ chris brown) [keri hilson]             5\n",
       "                                                          ..\n",
       "por hablarle de ti [keyla caballero]                       0\n",
       "por jugar [bruno de jesus]                                 0\n",
       "por las calles de chihuahua [conjunto primavera]           0\n",
       "por las calles de mexico [sonora santanera]                0\n",
       "popular [nada surf]                                        0\n",
       "popsicle toes [michael franks]                             0\n",
       "poppin' [chris brown]                                      0\n",
       "popo [eddie henderson]                                     0\n",
       "pon de river, pon de bank [elephant man]                   0\n",
       "pon pon [poder urbano]                                     0\n",
       "poney, pt. 1 [vitalic]                                     0\n",
       "ponta de areia [esperanza spalding]                        0\n",
       "ponte en mi lugar [espinoza paz]                           0\n",
       "ponteio (w/ stanley turrentine) [antonio carlos jobim]     0\n",
       "pony [far]                                                 0\n",
       "poom poom shorts [the baron]                               0\n",
       "poor georgie [mc lyte]                                     0\n",
       "poor little fool [ricky nelson]                            0\n",
       "poor twisted me [metallica]                                0\n",
       "poor, poor pitiful me [terri clark]                        0\n",
       "pop a top [alan jackson]                                   0\n",
       "pop a top [jim ed brown & the browns]                      0\n",
       "pop bottles (w/ lil wayne) [birdman]                       0\n",
       "pop moish [bobby matos]                                    0\n",
       "pop muzik [m]                                              0\n",
       "pop song '89 [r.e.m.]                                      0\n",
       "pop's cool groove [norman brown]                           0\n",
       "pop, lock and drop it [huey]                               0\n",
       "pop, pop, pop goes my mind [levert]                        0\n",
       " 2112-  [rush]                                             0\n",
       "Length: 26604, dtype: int64"
      ]
     },
     "execution_count": 54,
     "metadata": {},
     "output_type": "execute_result"
    }
   ],
   "source": [
    "playlist_song_mat_train[playlist_song_mat_train[song_band_choice]==1]\\\n",
    "    .sum().sort_values(ascending=False)"
   ]
  },
  {
   "cell_type": "code",
   "execution_count": null,
   "metadata": {},
   "outputs": [],
   "source": []
  }
 ],
 "metadata": {
  "kernelspec": {
   "display_name": "Python 3",
   "language": "python",
   "name": "python3"
  },
  "language_info": {
   "codemirror_mode": {
    "name": "ipython",
    "version": 3
   },
   "file_extension": ".py",
   "mimetype": "text/x-python",
   "name": "python",
   "nbconvert_exporter": "python",
   "pygments_lexer": "ipython3",
   "version": "3.6.5"
  }
 },
 "nbformat": 4,
 "nbformat_minor": 2
}
