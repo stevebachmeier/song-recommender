{
 "cells": [
  {
   "cell_type": "code",
   "execution_count": null,
   "metadata": {},
   "outputs": [],
   "source": [
    "#==============================================================================\n",
    "#\n",
    "# IMPORT LIBRARIES\n",
    "# \n",
    "#==============================================================================\n",
    "import time\n",
    "import pandas as pd\n",
    "#pd.options.display.max_columns = None # Shows all columns\n",
    "import string as str\n",
    "import numpy as np\n",
    "import matplotlib.pyplot as plt\n",
    "import dill\n",
    "import dask\n",
    "import dask.dataframe as dd\n",
    "import re\n",
    "from pprint import pprint"
   ]
  },
  {
   "cell_type": "code",
   "execution_count": null,
   "metadata": {},
   "outputs": [],
   "source": []
  },
  {
   "cell_type": "code",
   "execution_count": null,
   "metadata": {},
   "outputs": [],
   "source": [
    "#==============================================================================\n",
    "# \n",
    "# DUMP/LOAD SESSIONS\n",
    "# \n",
    "#==============================================================================\n",
    "# ---- FULL SESSIONS ----\n",
    "# Dump\n",
    "#dill.dump_session('./working.db')\n",
    "\n",
    "# Load\n",
    "#dill.load_session('working.db')\n",
    "\n",
    "# ---- OBJECTS ----\n",
    "# Dump\n",
    "#dill.dump(df_raw, open(\"df_raw.pkl\", \"wb\"))\n",
    "\n",
    "# Load\n",
    "#dill_file = open(\"df_raw.pkl\", \"rb\")\n",
    "#df_raw = dill.load(dill_file)\n",
    "#dill_file.close()"
   ]
  },
  {
   "cell_type": "code",
   "execution_count": null,
   "metadata": {},
   "outputs": [],
   "source": []
  },
  {
   "cell_type": "code",
   "execution_count": null,
   "metadata": {
    "scrolled": true
   },
   "outputs": [],
   "source": [
    "#==============================================================================\n",
    "# \n",
    "# READ/EXTRACT RAW DATA\n",
    "# \n",
    "#==============================================================================\n",
    "\n",
    "file_train = 'data/dataset/yes_complete/train.txt'\n",
    "print(pd.read_table(file_train, nrows=5, header=None))"
   ]
  },
  {
   "cell_type": "code",
   "execution_count": null,
   "metadata": {},
   "outputs": [],
   "source": [
    "with open(file_train) as f:\n",
    "    train_raw = f.readlines()"
   ]
  },
  {
   "cell_type": "code",
   "execution_count": null,
   "metadata": {},
   "outputs": [],
   "source": [
    "playlists_train_raw = train_raw[2:]"
   ]
  },
  {
   "cell_type": "code",
   "execution_count": null,
   "metadata": {},
   "outputs": [],
   "source": [
    "# How many unique playlists?\n",
    "print('There are ', len(playlists_train_raw), ' playlists.', sep='')"
   ]
  },
  {
   "cell_type": "code",
   "execution_count": null,
   "metadata": {},
   "outputs": [],
   "source": [
    "# Split and convert to integers\n",
    "playlists_train_list = []\n",
    "for i in range(0, len(playlists_train_raw)):\n",
    "    playlists_train_list.append(list(map(int, playlists_train_raw[i].split())))"
   ]
  },
  {
   "cell_type": "code",
   "execution_count": null,
   "metadata": {},
   "outputs": [],
   "source": [
    "# Flatmap the playlists list\n",
    "df_playlists_train = []\n",
    "for i in range(0, len(playlists_train_list)):\n",
    "    for j in range(0, len(playlists_train_list[i])):\n",
    "        df_playlists_train.append([i, playlists_train_list[i][j]])"
   ]
  },
  {
   "cell_type": "code",
   "execution_count": null,
   "metadata": {},
   "outputs": [],
   "source": [
    "df_playlists_train = pd.DataFrame(df_playlists_train, columns=['playlist', 'song_id'])"
   ]
  },
  {
   "cell_type": "code",
   "execution_count": null,
   "metadata": {},
   "outputs": [],
   "source": [
    "len(df_playlists_train)"
   ]
  },
  {
   "cell_type": "code",
   "execution_count": null,
   "metadata": {},
   "outputs": [],
   "source": [
    "# Create index primary key\n",
    "df_playlists_train.insert(loc=0, column='index', value=df_playlists_train.index)"
   ]
  },
  {
   "cell_type": "code",
   "execution_count": null,
   "metadata": {},
   "outputs": [],
   "source": [
    "# ---- Merge songs on song_id ----\n",
    "df_song_hash = pd.read_table('data/dataset/yes_complete/song_hash.txt', header=None, names=['song_id','song','band'])"
   ]
  },
  {
   "cell_type": "code",
   "execution_count": null,
   "metadata": {},
   "outputs": [],
   "source": [
    "df_playlists_train = df_playlists_train.merge(df_song_hash, on='song_id')\n",
    "df_playlists_train.sort_values('index', inplace=True)\n",
    "df_playlists_train.reset_index(drop=True, inplace=True)"
   ]
  },
  {
   "cell_type": "code",
   "execution_count": null,
   "metadata": {},
   "outputs": [],
   "source": [
    "df_playlists_train.head()"
   ]
  },
  {
   "cell_type": "code",
   "execution_count": null,
   "metadata": {},
   "outputs": [],
   "source": [
    "df_playlists_train.shape"
   ]
  },
  {
   "cell_type": "code",
   "execution_count": null,
   "metadata": {},
   "outputs": [],
   "source": [
    "#==============================================================================\n",
    "#\n",
    "# EDA\n",
    "# \n",
    "#=============================================================================="
   ]
  },
  {
   "cell_type": "code",
   "execution_count": null,
   "metadata": {},
   "outputs": [],
   "source": [
    "#song_count = pd.DataFrame(df_playlists_train.groupby(['song', 'band'])['playlist'].count().sort_values(ascending=False))\n",
    "song_count = df_playlists_train.groupby(['song_id','song','band']).count().reset_index().drop(columns='index')\n",
    "song_count.columns = ['song_id','song','band','count']\n",
    "song_count = song_count.sort_values('count', ascending=False)\n",
    "song_count.reset_index(inplace=True)\n",
    "song_count = song_count[['song_id','song','band','count']]"
   ]
  },
  {
   "cell_type": "code",
   "execution_count": null,
   "metadata": {},
   "outputs": [],
   "source": [
    "%matplotlib qt\n",
    "plt.figure(figsize=(10,4))\n",
    "song_count['count'].hist(bins=70)\n",
    "plt.xlabel('Song count')\n",
    "plt.ylabel('Quantity')\n",
    "plt.title('')\n",
    "plt.rcParams.update({'font.size': 120})"
   ]
  },
  {
   "cell_type": "code",
   "execution_count": null,
   "metadata": {},
   "outputs": [],
   "source": [
    "%matplotlib qt\n",
    "plt.figure(figsize=(10,4))\n",
    "song_count['count'].hist(bins=10000)\n",
    "plt.xlabel('Song count')\n",
    "plt.ylabel('Quantity')\n",
    "plt.title('')\n",
    "plt.xlim(0,25)\n",
    "plt.rcParams.update({'font.size': 10})"
   ]
  },
  {
   "cell_type": "code",
   "execution_count": null,
   "metadata": {},
   "outputs": [],
   "source": [
    "%matplotlib qt\n",
    "plt.figure(figsize=(10,4))\n",
    "song_count[song_count['count'] > 5]['count'].hist(bins=5000)\n",
    "plt.xlabel('Song count')\n",
    "plt.ylabel('Quantity')\n",
    "plt.title('')\n",
    "plt.xlim(5,20)\n",
    "plt.rcParams.update({'font.size': 40})"
   ]
  },
  {
   "cell_type": "code",
   "execution_count": null,
   "metadata": {},
   "outputs": [],
   "source": []
  },
  {
   "cell_type": "code",
   "execution_count": null,
   "metadata": {},
   "outputs": [],
   "source": [
    "band_count = pd.DataFrame(df_playlists_train.groupby('band')['playlist'].count().sort_values(ascending=False))\n",
    "band_count.reset_index(inplace=True)\n",
    "band_count.columns = ['band','count']"
   ]
  },
  {
   "cell_type": "code",
   "execution_count": null,
   "metadata": {},
   "outputs": [],
   "source": [
    "band_count.head()"
   ]
  },
  {
   "cell_type": "code",
   "execution_count": null,
   "metadata": {},
   "outputs": [],
   "source": [
    "%matplotlib qt\n",
    "plt.figure(figsize=(10,4))\n",
    "band_count['count'].hist(bins=70)\n",
    "plt.xlabel('Band count')\n",
    "plt.ylabel('Quantity')\n",
    "plt.title('')\n",
    "plt.rcParams.update({'font.size': 40})"
   ]
  },
  {
   "cell_type": "code",
   "execution_count": null,
   "metadata": {},
   "outputs": [],
   "source": [
    "%matplotlib qt\n",
    "plt.figure(figsize=(10,4))\n",
    "band_count['count'].hist(bins=1000)\n",
    "plt.xlabel('Band count')\n",
    "plt.ylabel('Quantity')\n",
    "plt.title('')\n",
    "plt.xlim(0,100)\n",
    "plt.rcParams.update({'font.size': 40})"
   ]
  },
  {
   "cell_type": "code",
   "execution_count": null,
   "metadata": {},
   "outputs": [],
   "source": []
  },
  {
   "cell_type": "code",
   "execution_count": null,
   "metadata": {},
   "outputs": [],
   "source": [
    "#==============================================================================\n",
    "#\n",
    "# CLEAN DATA\n",
    "# \n",
    "#=============================================================================="
   ]
  },
  {
   "cell_type": "code",
   "execution_count": null,
   "metadata": {},
   "outputs": [],
   "source": [
    "df_playlists_train.head()"
   ]
  },
  {
   "cell_type": "code",
   "execution_count": null,
   "metadata": {},
   "outputs": [],
   "source": [
    "len(df_playlists_train)"
   ]
  },
  {
   "cell_type": "code",
   "execution_count": null,
   "metadata": {},
   "outputs": [],
   "source": [
    "# Add count column\n",
    "df_playlists_train = pd.merge(df_playlists_train, song_count)\n",
    "df_playlists_train.sort_values(by='index', inplace=True)\n",
    "df_playlists_train.reset_index(drop=True, inplace=True)"
   ]
  },
  {
   "cell_type": "code",
   "execution_count": null,
   "metadata": {},
   "outputs": [],
   "source": [
    "df_playlists_train.head()"
   ]
  },
  {
   "cell_type": "code",
   "execution_count": null,
   "metadata": {},
   "outputs": [],
   "source": []
  },
  {
   "cell_type": "code",
   "execution_count": null,
   "metadata": {},
   "outputs": [],
   "source": [
    "# ---- PARE DATA ----\n",
    "# Remove songs that show up less than 6 times\n",
    "df_playlists_train = df_playlists_train[df_playlists_train['count']>=6]"
   ]
  },
  {
   "cell_type": "code",
   "execution_count": null,
   "metadata": {},
   "outputs": [],
   "source": [
    "df_playlists_train.head()"
   ]
  },
  {
   "cell_type": "code",
   "execution_count": null,
   "metadata": {},
   "outputs": [],
   "source": [
    "df_playlists_train.sort_values('count').head()"
   ]
  },
  {
   "cell_type": "code",
   "execution_count": null,
   "metadata": {},
   "outputs": [],
   "source": [
    "df_playlists_train.sort_values('count').tail()"
   ]
  },
  {
   "cell_type": "code",
   "execution_count": null,
   "metadata": {},
   "outputs": [],
   "source": []
  },
  {
   "cell_type": "code",
   "execution_count": null,
   "metadata": {},
   "outputs": [],
   "source": [
    "# ---- REMOVE NULLS ----"
   ]
  },
  {
   "cell_type": "code",
   "execution_count": null,
   "metadata": {},
   "outputs": [],
   "source": [
    "df_playlists_train.isnull().sum().sum()"
   ]
  },
  {
   "cell_type": "code",
   "execution_count": null,
   "metadata": {},
   "outputs": [],
   "source": [
    "df_playlists_train.isna().sum().sum()"
   ]
  },
  {
   "cell_type": "code",
   "execution_count": null,
   "metadata": {},
   "outputs": [],
   "source": []
  },
  {
   "cell_type": "code",
   "execution_count": null,
   "metadata": {},
   "outputs": [],
   "source": [
    "# ---- REMOVE \"\", \" \", \"-\" ----\n",
    "df_playlists_train[df_playlists_train['song'] == '-'].head()"
   ]
  },
  {
   "cell_type": "code",
   "execution_count": null,
   "metadata": {},
   "outputs": [],
   "source": [
    "df_playlists_train.drop(df_playlists_train[df_playlists_train['song']=='-'].index, inplace=True)"
   ]
  },
  {
   "cell_type": "code",
   "execution_count": null,
   "metadata": {},
   "outputs": [],
   "source": [
    "df_playlists_train[df_playlists_train['song'] == '-']"
   ]
  },
  {
   "cell_type": "code",
   "execution_count": null,
   "metadata": {},
   "outputs": [],
   "source": []
  },
  {
   "cell_type": "code",
   "execution_count": null,
   "metadata": {},
   "outputs": [],
   "source": [
    "df_playlists_train[df_playlists_train['band'] == '-'].head()"
   ]
  },
  {
   "cell_type": "code",
   "execution_count": null,
   "metadata": {},
   "outputs": [],
   "source": [
    "df_playlists_train.drop(df_playlists_train[df_playlists_train['band']=='-'].index, inplace=True)"
   ]
  },
  {
   "cell_type": "code",
   "execution_count": null,
   "metadata": {},
   "outputs": [],
   "source": [
    "df_playlists_train[df_playlists_train['band']=='-']"
   ]
  },
  {
   "cell_type": "code",
   "execution_count": null,
   "metadata": {},
   "outputs": [],
   "source": []
  },
  {
   "cell_type": "code",
   "execution_count": null,
   "metadata": {},
   "outputs": [],
   "source": [
    "df_playlists_train[df_playlists_train['song']=='']"
   ]
  },
  {
   "cell_type": "code",
   "execution_count": null,
   "metadata": {},
   "outputs": [],
   "source": [
    "df_playlists_train[df_playlists_train['band']=='']"
   ]
  },
  {
   "cell_type": "code",
   "execution_count": null,
   "metadata": {},
   "outputs": [],
   "source": [
    "df_playlists_train[df_playlists_train['song']==' ']"
   ]
  },
  {
   "cell_type": "code",
   "execution_count": null,
   "metadata": {},
   "outputs": [],
   "source": [
    "df_playlists_train[df_playlists_train['band']==' ']"
   ]
  },
  {
   "cell_type": "code",
   "execution_count": null,
   "metadata": {},
   "outputs": [],
   "source": []
  },
  {
   "cell_type": "code",
   "execution_count": null,
   "metadata": {},
   "outputs": [],
   "source": [
    "# ---- REMOVE ESCAPE CHARACTER '\\' ----\n",
    "df_playlists_train['song'] = [x.replace(\"\\\\\",\"\") for x in df_playlists_train['song']]\n",
    "df_playlists_train['band'] = [x.replace(\"\\\\\",\"\") for x in df_playlists_train['band']]"
   ]
  },
  {
   "cell_type": "code",
   "execution_count": null,
   "metadata": {},
   "outputs": [],
   "source": [
    "# REPLACE [] WITH ()\n",
    "df_playlists_train['song'] = [x.replace(\"[\",\"(\") for x in df_playlists_train['song']]\n",
    "df_playlists_train['song'] = [x.replace(\"]\",\")\") for x in df_playlists_train['song']]\n",
    "df_playlists_train['band'] = [x.replace(\"[\",\"(\") for x in df_playlists_train['band']]\n",
    "df_playlists_train['band'] = [x.replace(\"]\",\")\") for x in df_playlists_train['band']]"
   ]
  },
  {
   "cell_type": "code",
   "execution_count": null,
   "metadata": {},
   "outputs": [],
   "source": []
  },
  {
   "cell_type": "code",
   "execution_count": null,
   "metadata": {},
   "outputs": [],
   "source": [
    "# LOWER SONG AND BAND\n",
    "df_playlists_train.head()"
   ]
  },
  {
   "cell_type": "code",
   "execution_count": null,
   "metadata": {},
   "outputs": [],
   "source": [
    "df_playlists_train['song'] = [x.lower() for x in df_playlists_train['song']]\n",
    "df_playlists_train['band'] = [x.lower() for x in df_playlists_train['band']]"
   ]
  },
  {
   "cell_type": "code",
   "execution_count": null,
   "metadata": {},
   "outputs": [],
   "source": [
    "df_playlists_train.head()"
   ]
  },
  {
   "cell_type": "code",
   "execution_count": null,
   "metadata": {},
   "outputs": [],
   "source": []
  },
  {
   "cell_type": "code",
   "execution_count": null,
   "metadata": {},
   "outputs": [],
   "source": [
    "# ---- CONCAT SONG AND BAND ----\n",
    "df_playlists_train['song_band'] = df_playlists_train['song'] + \" [\" + df_playlists_train['band'] + \"]\"\n",
    "\n",
    "# Rearrange columns\n",
    "df_playlists_train = df_playlists_train[['index','playlist','song_id','song','band','song_band','count']]"
   ]
  },
  {
   "cell_type": "code",
   "execution_count": null,
   "metadata": {},
   "outputs": [],
   "source": [
    "df_playlists_train.tail()"
   ]
  },
  {
   "cell_type": "code",
   "execution_count": null,
   "metadata": {},
   "outputs": [],
   "source": [
    "df_playlists_train['song_id'].nunique()"
   ]
  },
  {
   "cell_type": "code",
   "execution_count": null,
   "metadata": {},
   "outputs": [],
   "source": [
    "df_playlists_train['song_band'].nunique()"
   ]
  },
  {
   "cell_type": "code",
   "execution_count": null,
   "metadata": {
    "scrolled": true
   },
   "outputs": [],
   "source": [
    "# Why the difference?\n",
    "df_playlists_train['song_id'].nunique() - df_playlists_train['song_band'].nunique()"
   ]
  },
  {
   "cell_type": "code",
   "execution_count": null,
   "metadata": {},
   "outputs": [],
   "source": []
  },
  {
   "cell_type": "code",
   "execution_count": null,
   "metadata": {},
   "outputs": [],
   "source": [
    "#==============================================================================\n",
    "#\n",
    "# BUILD RECOMMENDER\n",
    "#\n",
    "#=============================================================================="
   ]
  },
  {
   "cell_type": "code",
   "execution_count": null,
   "metadata": {},
   "outputs": [],
   "source": [
    "# ---- CREATE PLAYLIST-SONG MATRIX ----\n",
    "start_clock = time.clock()\n",
    "\n",
    "# Create song_band dummies\n",
    "#playlist_song_mat_train = pd.get_dummies(df_playlists_train['song_band'], sparse=True)\n",
    "playlist_song_mat_train = pd.get_dummies(df_playlists_train['song_band'])\n",
    "\n",
    "# Insert index and playlist columns\n",
    "playlist_song_mat_train.insert(loc=0, column='playlist', value=df_playlists_train['playlist'])\n",
    "playlist_song_mat_train.insert(loc=0, column='index', value=df_playlists_train['index'])\n",
    "\n",
    "end_clock = time.clock()\n",
    "    \n",
    "print('\\n')\n",
    "print('Runtime: ', round((end_clock - start_clock)/60, 2), ' min', sep='')"
   ]
  },
  {
   "cell_type": "code",
   "execution_count": null,
   "metadata": {},
   "outputs": [],
   "source": [
    "playlist_song_mat_train.info()"
   ]
  },
  {
   "cell_type": "code",
   "execution_count": null,
   "metadata": {},
   "outputs": [],
   "source": []
  },
  {
   "cell_type": "code",
   "execution_count": null,
   "metadata": {},
   "outputs": [],
   "source": [
    "# CONVERT TO DASK DATAFRAME "
   ]
  },
  {
   "cell_type": "code",
   "execution_count": null,
   "metadata": {},
   "outputs": [],
   "source": [
    "start_clock = time.clock()\n",
    "dd_playlist_song_mat_train = dd.from_pandas(data=playlist_song_mat_train, npartitions=1000)\n",
    "end_clock = time.clock()\n",
    "\n",
    "print('Runtime: ', round((end_clock - start_clock)/60, 2), ' min')"
   ]
  },
  {
   "cell_type": "code",
   "execution_count": null,
   "metadata": {},
   "outputs": [],
   "source": [
    "dd_playlist_song_mat_train.info()"
   ]
  },
  {
   "cell_type": "code",
   "execution_count": null,
   "metadata": {},
   "outputs": [],
   "source": []
  },
  {
   "cell_type": "code",
   "execution_count": null,
   "metadata": {},
   "outputs": [],
   "source": [
    "# CLEAR MEMORY "
   ]
  },
  {
   "cell_type": "code",
   "execution_count": null,
   "metadata": {},
   "outputs": [],
   "source": [
    "%who DataFrame"
   ]
  },
  {
   "cell_type": "code",
   "execution_count": null,
   "metadata": {},
   "outputs": [],
   "source": [
    "del(band_count, df_song_hash, playlist_song_mat_train, \n",
    "    playlists_train_list, playlists_train_raw, song_count, train_raw)"
   ]
  },
  {
   "cell_type": "code",
   "execution_count": null,
   "metadata": {},
   "outputs": [],
   "source": []
  },
  {
   "cell_type": "code",
   "execution_count": null,
   "metadata": {},
   "outputs": [],
   "source": [
    "# GROUP BY PLAYLIST "
   ]
  },
  {
   "cell_type": "code",
   "execution_count": null,
   "metadata": {},
   "outputs": [],
   "source": [
    "start_clock = time.clock()\n",
    "playlist_song_mat_train = dd_playlist_song_mat_train.groupby('playlist').sum().compute()\n",
    "playlist_song_mat_train.drop(columns='index', inplace=True)\n",
    "end_clock = time.clock()\n",
    "\n",
    "print('Runtime: ', round((end_clock - start_clock)/60, 2), ' min')"
   ]
  },
  {
   "cell_type": "code",
   "execution_count": null,
   "metadata": {},
   "outputs": [],
   "source": [
    "playlist_song_mat_train.info()"
   ]
  },
  {
   "cell_type": "code",
   "execution_count": null,
   "metadata": {},
   "outputs": [],
   "source": [
    "del(dd_playlist_song_mat_train)"
   ]
  },
  {
   "cell_type": "code",
   "execution_count": null,
   "metadata": {},
   "outputs": [],
   "source": [
    "playlist_song_mat_train.head()"
   ]
  },
  {
   "cell_type": "code",
   "execution_count": null,
   "metadata": {},
   "outputs": [],
   "source": []
  },
  {
   "cell_type": "code",
   "execution_count": null,
   "metadata": {},
   "outputs": [],
   "source": [
    "# ---- CHECKS ----"
   ]
  },
  {
   "cell_type": "code",
   "execution_count": null,
   "metadata": {},
   "outputs": [],
   "source": [
    "# Check number of Nelly's #1 songs\n",
    "len(df_playlists_train[df_playlists_train['song_band']=='#1 [nelly]'])"
   ]
  },
  {
   "cell_type": "code",
   "execution_count": null,
   "metadata": {},
   "outputs": [],
   "source": [
    "playlist_song_mat_train['#1 [nelly]'].sum()"
   ]
  },
  {
   "cell_type": "code",
   "execution_count": null,
   "metadata": {},
   "outputs": [],
   "source": [
    "# Check length of (arbitrarily chosen) playlist 472 (partially checks for re-indexing)\n",
    "sum(playlist_song_mat_train[playlist_song_mat_train.columns[playlist_song_mat_train.iloc[472,:] > 0]].iloc[472])"
   ]
  },
  {
   "cell_type": "code",
   "execution_count": null,
   "metadata": {},
   "outputs": [],
   "source": [
    "len(df_playlists_train[df_playlists_train['playlist']==472])"
   ]
  },
  {
   "cell_type": "code",
   "execution_count": null,
   "metadata": {},
   "outputs": [],
   "source": [
    "# Check number of playlists\n",
    "df_playlists_train['playlist'].nunique()"
   ]
  },
  {
   "cell_type": "code",
   "execution_count": null,
   "metadata": {},
   "outputs": [],
   "source": [
    "len(playlist_song_mat_train)"
   ]
  },
  {
   "cell_type": "code",
   "execution_count": null,
   "metadata": {},
   "outputs": [],
   "source": [
    "# Check number of unique songs\n",
    "df_playlists_train['song_band'].nunique()"
   ]
  },
  {
   "cell_type": "code",
   "execution_count": null,
   "metadata": {},
   "outputs": [],
   "source": [
    "playlist_song_mat_train.shape[1]"
   ]
  },
  {
   "cell_type": "code",
   "execution_count": null,
   "metadata": {},
   "outputs": [],
   "source": []
  },
  {
   "cell_type": "code",
   "execution_count": null,
   "metadata": {},
   "outputs": [],
   "source": [
    "# Convert every non-zero count to just 1, ie each playlist should count each unique song as appearing only once\n",
    "# regardless of how often it actually appears.\n",
    "playlist_song_mat_train = playlist_song_mat_train.astype(bool).astype(int)"
   ]
  },
  {
   "cell_type": "code",
   "execution_count": null,
   "metadata": {},
   "outputs": [],
   "source": [
    "playlist_song_mat_train['#1 [nelly]'].sum()"
   ]
  },
  {
   "cell_type": "code",
   "execution_count": null,
   "metadata": {},
   "outputs": [],
   "source": []
  },
  {
   "cell_type": "code",
   "execution_count": 1,
   "metadata": {},
   "outputs": [],
   "source": [
    "import dill\n",
    "import pandas as pd\n",
    "\n",
    "# Save out dataframes\n",
    "# Dump\n",
    "#dill.dump(df_playlists_train, open(\"df_playlists_train.pkl\", \"wb\"))\n",
    "#dill.dump(playlist_song_mat_train, open(\"playlist_song_mat_train.pkl\", \"wb\"))\n",
    "\n",
    "# Load\n",
    "df_playlists_train = dill.load(open(\"df_playlists_train.pkl\", \"rb\"))\n",
    "playlist_song_mat_train = dill.load(open(\"playlist_song_mat_train.pkl\", \"rb\"))"
   ]
  },
  {
   "cell_type": "code",
   "execution_count": null,
   "metadata": {},
   "outputs": [],
   "source": []
  },
  {
   "cell_type": "code",
   "execution_count": null,
   "metadata": {},
   "outputs": [],
   "source": [
    "#==============================================================================\n",
    "#\n",
    "# RUN\n",
    "#\n",
    "#=============================================================================="
   ]
  },
  {
   "cell_type": "code",
   "execution_count": 2,
   "metadata": {},
   "outputs": [
    {
     "name": "stdout",
     "output_type": "stream",
     "text": [
      "What song or band do you like? rancid\n"
     ]
    }
   ],
   "source": [
    "# ---- SONG OR BAND INQUIRY ----\n",
    "song_band_inquiry = input('What song or band do you like? ').lower()"
   ]
  },
  {
   "cell_type": "code",
   "execution_count": 3,
   "metadata": {},
   "outputs": [],
   "source": [
    "options = pd.DataFrame([col for col in playlist_song_mat_train.columns if song_band_inquiry in col])[0]"
   ]
  },
  {
   "cell_type": "code",
   "execution_count": 4,
   "metadata": {},
   "outputs": [
    {
     "data": {
      "text/plain": [
       "0        'ruby soho [rancid]\n",
       "1        l.a. river [rancid]\n",
       "2    maxwell murder [rancid]\n",
       "3        olympia wa [rancid]\n",
       "4    roots radicals [rancid]\n",
       "5         time bomb [rancid]\n",
       "Name: 0, dtype: object"
      ]
     },
     "execution_count": 4,
     "metadata": {},
     "output_type": "execute_result"
    }
   ],
   "source": [
    "options"
   ]
  },
  {
   "cell_type": "code",
   "execution_count": 5,
   "metadata": {},
   "outputs": [
    {
     "name": "stdout",
     "output_type": "stream",
     "text": [
      "\n",
      "\n",
      "What number? 4\n"
     ]
    }
   ],
   "source": [
    "while True:\n",
    "    print('\\n')\n",
    "    options\n",
    "    try:\n",
    "        song_band_number = int(input('What number? '))\n",
    "    except:\n",
    "        print('\\n')\n",
    "        print('*** Must input an integer. ***')\n",
    "        continue\n",
    "    else: \n",
    "        if (song_band_number in range(0,len(options))):\n",
    "            song_band_choice = options[song_band_number]\n",
    "            break\n",
    "        else:\n",
    "            print('\\n')\n",
    "            print('*** Choose a number from the table. ***')\n",
    "            continue"
   ]
  },
  {
   "cell_type": "code",
   "execution_count": 6,
   "metadata": {},
   "outputs": [
    {
     "data": {
      "text/plain": [
       "'roots radicals [rancid]'"
      ]
     },
     "execution_count": 6,
     "metadata": {},
     "output_type": "execute_result"
    }
   ],
   "source": [
    "song_band_choice"
   ]
  },
  {
   "cell_type": "code",
   "execution_count": 7,
   "metadata": {},
   "outputs": [
    {
     "data": {
      "text/plain": [
       "\"# Return options\\nprint('Copy the song [band] you are interested in:')\\nprint('\\n')\\n#pprint([col for col in playlist_song_mat_train.columns.str.lower() if song_band_inquiry.lower() in col])\\npprint([col for col in playlist_song_mat_train.columns if song_band_inquiry in col])\""
      ]
     },
     "execution_count": 7,
     "metadata": {},
     "output_type": "execute_result"
    }
   ],
   "source": [
    "'''# Return options\n",
    "print('Copy the song [band] you are interested in:')\n",
    "print('\\n')\n",
    "#pprint([col for col in playlist_song_mat_train.columns.str.lower() if song_band_inquiry.lower() in col])\n",
    "pprint([col for col in playlist_song_mat_train.columns if song_band_inquiry in col])'''"
   ]
  },
  {
   "cell_type": "code",
   "execution_count": 8,
   "metadata": {},
   "outputs": [
    {
     "data": {
      "text/plain": [
       "\"song_band = input('Input the song [band] of interest: ')\""
      ]
     },
     "execution_count": 8,
     "metadata": {},
     "output_type": "execute_result"
    }
   ],
   "source": [
    "'''song_band = input('Input the song [band] of interest: ')'''"
   ]
  },
  {
   "cell_type": "code",
   "execution_count": 9,
   "metadata": {},
   "outputs": [
    {
     "name": "stdout",
     "output_type": "stream",
     "text": [
      "Top 3 suggested songs: \n",
      " *  longview [green day]\n",
      " *  scar tissue [the red hot chili peppers]\n",
      " *  the sound (john m. perkins' blues) [switchfoot]\n"
     ]
    }
   ],
   "source": [
    "print('Top 3 suggested songs: ')\n",
    "for x_song_band, x_count in \\\n",
    "    playlist_song_mat_train[playlist_song_mat_train[song_band_choice]==1]\\\n",
    "        .sum().sort_values(ascending=False)[1:4,].iteritems():\n",
    "    print(' * ', x_song_band)"
   ]
  },
  {
   "cell_type": "code",
   "execution_count": 14,
   "metadata": {},
   "outputs": [
    {
     "name": "stdout",
     "output_type": "stream",
     "text": [
      "roots radicals [rancid]                                                       9\n",
      "longview [green day]                                                          5\n",
      "scar tissue [the red hot chili peppers]                                       5\n",
      "the sound (john m. perkins' blues) [switchfoot]                               5\n",
      "say it ain't so [weezer]                                                      5\n",
      "new slang [the shins]                                                         4\n",
      "help is on the way [rise against]                                             4\n",
      "dashboard [modest mouse]                                                      4\n",
      "creep [radiohead]                                                             4\n",
      "jane says [jane's addiction]                                                  4\n",
      "possum kingdom [toadies]                                                      4\n",
      "knights of cydonia [muse]                                                     4\n",
      "shake me down [cage the elephant]                                             4\n",
      "seven nation army [the white stripes]                                         4\n",
      "santeria [sublime]                                                            4\n",
      "killing in the name [rage against the machine]                                4\n",
      "you are a tourist [death cab for cutie]                                       4\n",
      "undisclosed desire [muse]                                                     4\n",
      "rope [foo fighters]                                                           4\n",
      "self esteem [the offspring]                                                   4\n",
      "take me out [franz ferdinand]                                                 4\n",
      "today [smashing pumpkins]                                                     4\n",
      "loser [beck]                                                                  4\n",
      "all apologies [nirvana]                                                       4\n",
      "machine gun blues [social distortion]                                         4\n",
      "howlin' for you [the black keys]                                              4\n",
      "daughter [pearl jam]                                                          4\n",
      "reptilia [the strokes]                                                        4\n",
      "float on [modest mouse]                                                       3\n",
      "god's gonna cut you down [johnny cash]                                        3\n",
      "                                                                             ..\n",
      "pop muzik [m]                                                                 0\n",
      "pop song '89 [r.e.m.]                                                         0\n",
      "pop's cool groove [norman brown]                                              0\n",
      "pop, lock and drop it [huey]                                                  0\n",
      "pon de replay [rihanna]                                                       0\n",
      "pon de floor (w/ vybz kartel) [major lazer]                                   0\n",
      "polo opuesto [monchy & alexandra]                                             0\n",
      "polo down [young dro]                                                         0\n",
      "point of know return [kansas]                                                 0\n",
      "point of no return [expose']                                                  0\n",
      "point venus [jeff lorber]                                                     0\n",
      "points of authority [linkin park]                                             0\n",
      "poison & wine [the civil wars]                                                0\n",
      "poison [alice cooper]                                                         0\n",
      "poison [bell biv devoe]                                                       0\n",
      "poison cup [m. ward]                                                          0\n",
      "poker face [lady gaga]                                                        0\n",
      "polaroid [the band of heathens]                                               0\n",
      "police and thieves [junior murvin]                                            0\n",
      "police and thieves [the clash]                                                0\n",
      "police in helicopter [john holt]                                              0\n",
      "police on my back [the clash]                                                 0\n",
      "policy of truth [depeche mode]                                                0\n",
      "politic amagni [amadou & mariam]                                              0\n",
      "polka dots & moonbeams [james moody]                                          0\n",
      "polka dots and moonbeams (w/ frank sinatra) [tommy dorsey & his orchestra]    0\n",
      "pollito con papas [el super show de los vaskez]                               0\n",
      "polly (unplugged) [nirvana]                                                   0\n",
      "polo [vado]                                                                   0\n",
      " 2112-  [rush]                                                                0\n",
      "Length: 26604, dtype: int64\n"
     ]
    }
   ],
   "source": [
    "print(playlist_song_mat_train[playlist_song_mat_train[song_band_choice]==1]\\\n",
    "    .sum().sort_values(ascending=False))"
   ]
  },
  {
   "cell_type": "code",
   "execution_count": 20,
   "metadata": {},
   "outputs": [
    {
     "data": {
      "text/plain": [
       " 2112-  [rush]                                                                          0\n",
       " i got your country right here [gretchen wilson]                                        0\n",
       " ordinary world [duran duran]                                                           0\n",
       " the girls next door [pat metheny group]                                                0\n",
       "#!*@ you tonight (w/ r. kelly) [the notorious b.i.g.]                                   0\n",
       "#1 [nelly]                                                                              0\n",
       "#1 crush [garbage]                                                                      0\n",
       "#1 thing [amerie]                                                                       0\n",
       "#9 dream [john lennon]                                                                  0\n",
       "'03 bonnie & clyde (w/ beyonce) [jay-z]                                                 0\n",
       "'74-'75 [the connells]                                                                  0\n",
       "'a' dance [amina figarova]                                                              0\n",
       "'cello song [nick drake]                                                                0\n",
       "'deed i do [hilary kole]                                                                0\n",
       "'fore she was mama [clay walker]                                                        0\n",
       "'merican [descendents]                                                                  0\n",
       "'round midnight (w/ sting) [andy summers]                                               0\n",
       "'round midnight [dexter gordon]                                                         0\n",
       "'round midnight [miles davis]                                                           0\n",
       "'round midnight [milton suggs]                                                          0\n",
       "'round midnight [sarah vaughan]                                                         0\n",
       "'round midnight [the dizzy gillespie all-star big band]                                 0\n",
       "'round midnight [thelonious monk]                                                       0\n",
       "'ruby soho [rancid]                                                                     2\n",
       "'s wonderful [diana krall]                                                              0\n",
       "'s wonderful [rod stewart]                                                              0\n",
       "'sup with that [greg adams]                                                             0\n",
       "'tain't what you do (it's the way that you do it) [jimmie lunceford & his orchestra]    0\n",
       "'til i'm laid to rest [buju banton]                                                     0\n",
       "'til summer comes around [keith urban]                                                  0\n",
       "                                                                                       ..\n",
       "yu's blues [cyrus chestnut]                                                             0\n",
       "yuh lookin' for horn [shadow]                                                           0\n",
       "yuh never know [patrice roberts]                                                        0\n",
       "yuh nuh ready fi dis yet [tanya stephens]                                               0\n",
       "yummy yummy yummy [ohio express]                                                        0\n",
       "yuyo [bobby hutcherson]                                                                 0\n",
       "yyz [rush]                                                                              0\n",
       "zanza ii [joe zawinul & the zawinul syndicate]                                          0\n",
       "zattitude [the nightcrawlers]                                                           0\n",
       "zawinul's mambo [chucho valdes]                                                         0\n",
       "zebra [beach house]                                                                     0\n",
       "zemah zeshan [damon williams]                                                           0\n",
       "zenaida ingrata [dueto america]                                                         0\n",
       "zephyr song [the red hot chili peppers]                                                 0\n",
       "zero [smashing pumpkins]                                                                0\n",
       "ziggy stardust [david bowie]                                                            0\n",
       "zimbabwe [bob marley & the wailers]                                                     0\n",
       "zimbabwe [dr. lonnie smith]                                                             0\n",
       "zin zak [john labarbera]                                                                0\n",
       "zion in a vision [garnett silk]                                                         0\n",
       "zion train [bob marley & the wailers]                                                   0\n",
       "zombie [lights from space]                                                              0\n",
       "zombie [the cranberries]                                                                0\n",
       "zona [michael davis]                                                                    0\n",
       "zona de peligro [bobby pulido]                                                          0\n",
       "zoo boogaloo [rusty bryant]                                                             0\n",
       "zoom [the commodores]                                                                   0\n",
       "zun da da [zion]                                                                        0\n",
       "zun zun rompiendo cadera [wisin & yandel]                                               0\n",
       "zunga zeng [yellowman]                                                                  0\n",
       "Length: 26604, dtype: int64"
      ]
     },
     "execution_count": 20,
     "metadata": {},
     "output_type": "execute_result"
    }
   ],
   "source": [
    "playlist_song_mat_train[playlist_song_mat_train[song_band_choice]==1].sum()"
   ]
  },
  {
   "cell_type": "code",
   "execution_count": null,
   "metadata": {},
   "outputs": [],
   "source": []
  }
 ],
 "metadata": {
  "kernelspec": {
   "display_name": "Python 3",
   "language": "python",
   "name": "python3"
  },
  "language_info": {
   "codemirror_mode": {
    "name": "ipython",
    "version": 3
   },
   "file_extension": ".py",
   "mimetype": "text/x-python",
   "name": "python",
   "nbconvert_exporter": "python",
   "pygments_lexer": "ipython3",
   "version": "3.6.5"
  }
 },
 "nbformat": 4,
 "nbformat_minor": 2
}
