{
 "cells": [
  {
   "cell_type": "code",
   "execution_count": 1,
   "metadata": {},
   "outputs": [],
   "source": [
    "#==============================================================================\n",
    "#\n",
    "# IMPORT LIBRARIES\n",
    "# \n",
    "#==============================================================================\n",
    "import time\n",
    "import pandas as pd\n",
    "#pd.options.display.max_columns = None # Shows all columns\n",
    "import string as str\n",
    "import numpy as np\n",
    "import matplotlib.pyplot as plt\n",
    "import dill\n",
    "import dask\n",
    "import dask.dataframe as dd\n",
    "\n",
    "#import csv\n",
    "#from googletrans import Translator\n",
    "#import copy\n",
    "#import numpy as np"
   ]
  },
  {
   "cell_type": "code",
   "execution_count": null,
   "metadata": {},
   "outputs": [],
   "source": []
  },
  {
   "cell_type": "code",
   "execution_count": 2,
   "metadata": {},
   "outputs": [],
   "source": [
    "#==============================================================================\n",
    "# \n",
    "# DUMP/LOAD SESSIONS\n",
    "# \n",
    "#==============================================================================\n",
    "# ---- FULL SESSIONS ----\n",
    "# Dump\n",
    "#dill.dump_session('./working.db')\n",
    "\n",
    "# Load\n",
    "#dill.load_session('working.db')\n",
    "\n",
    "# ---- OBJECTS ----\n",
    "# Dump\n",
    "#dill.dump(df_raw, open(\"df_raw.pkl\", \"wb\"))\n",
    "\n",
    "# Load\n",
    "#dill_file = open(\"df_raw.pkl\", \"rb\")\n",
    "#df_raw = dill.load(dill_file)\n",
    "#dill_file.close()"
   ]
  },
  {
   "cell_type": "code",
   "execution_count": null,
   "metadata": {},
   "outputs": [],
   "source": []
  },
  {
   "cell_type": "code",
   "execution_count": 3,
   "metadata": {},
   "outputs": [
    {
     "name": "stdout",
     "output_type": "stream",
     "text": [
      "                                                   0\n",
      "0  17430147 17277121 17767569 17352501 17567841 1...\n",
      "1  138 2833 297 502 700 5041 3235 72 1004 2 1 116...\n",
      "2  0 1 2 3 4 5 6 7 8 9 10 11 12 13 14 15 16 17 18...\n",
      "3  78 79 80 3 62 81 14 82 48 83 84 17 85 86 87 88...\n",
      "4  211 212 213 59 25 214 215 57 93 216 70 3 81 62...\n"
     ]
    }
   ],
   "source": [
    "#==============================================================================\n",
    "# \n",
    "# READ/EXTRACT RAW DATA\n",
    "# \n",
    "#==============================================================================\n",
    "\n",
    "file_train = 'data/dataset/yes_complete/train.txt'\n",
    "print(pd.read_table(file_train, nrows=5, header=None))"
   ]
  },
  {
   "cell_type": "code",
   "execution_count": 4,
   "metadata": {},
   "outputs": [],
   "source": [
    "with open(file_train) as f:\n",
    "    train_raw = f.readlines()"
   ]
  },
  {
   "cell_type": "code",
   "execution_count": 5,
   "metadata": {},
   "outputs": [],
   "source": [
    "playlists_train_raw = train_raw[2:]"
   ]
  },
  {
   "cell_type": "code",
   "execution_count": 6,
   "metadata": {},
   "outputs": [
    {
     "name": "stdout",
     "output_type": "stream",
     "text": [
      "There are 11137 playlists.\n"
     ]
    }
   ],
   "source": [
    "# How many unique playlists?\n",
    "print('There are ', len(playlists_train_raw), ' playlists.', sep='')"
   ]
  },
  {
   "cell_type": "code",
   "execution_count": 7,
   "metadata": {},
   "outputs": [],
   "source": [
    "# Split playlist IDs and convert to integers\n",
    "playlists_train_list = []\n",
    "for i in range(0, len(playlists_train_raw)):\n",
    "    playlists_train_list.append(list(map(int, playlists_train_raw[i].split())))"
   ]
  },
  {
   "cell_type": "code",
   "execution_count": 8,
   "metadata": {},
   "outputs": [],
   "source": [
    "# Flatmap the playlists list\n",
    "df_playlists_train = []\n",
    "for i in range(0, len(playlists_train_list)):\n",
    "    for j in range(0, len(playlists_train_list[i])):\n",
    "        df_playlists_train.append([i, playlists_train_list[i][j]])"
   ]
  },
  {
   "cell_type": "code",
   "execution_count": 9,
   "metadata": {},
   "outputs": [],
   "source": [
    "df_playlists_train = pd.DataFrame(df_playlists_train, columns=['playlist', 'song_id'])"
   ]
  },
  {
   "cell_type": "code",
   "execution_count": 10,
   "metadata": {},
   "outputs": [
    {
     "data": {
      "text/plain": [
       "1887938"
      ]
     },
     "execution_count": 10,
     "metadata": {},
     "output_type": "execute_result"
    }
   ],
   "source": [
    "len(df_playlists_train)"
   ]
  },
  {
   "cell_type": "code",
   "execution_count": 11,
   "metadata": {},
   "outputs": [],
   "source": [
    "# Create index primary key\n",
    "df_playlists_train.insert(loc=0, column='index', value=df_playlists_train.index)"
   ]
  },
  {
   "cell_type": "code",
   "execution_count": 12,
   "metadata": {},
   "outputs": [],
   "source": [
    "# ---- Merge songs on song_id ----\n",
    "df_song_hash = pd.read_table('data/dataset/yes_complete/song_hash.txt', header=None, names=['song_id','song','band'])"
   ]
  },
  {
   "cell_type": "code",
   "execution_count": 13,
   "metadata": {},
   "outputs": [],
   "source": [
    "df_playlists_train = df_playlists_train.merge(df_song_hash, on='song_id')\n",
    "df_playlists_train.sort_values('index', inplace=True)\n",
    "df_playlists_train.reset_index(drop=True, inplace=True)"
   ]
  },
  {
   "cell_type": "code",
   "execution_count": 14,
   "metadata": {},
   "outputs": [
    {
     "data": {
      "text/html": [
       "<div>\n",
       "<style scoped>\n",
       "    .dataframe tbody tr th:only-of-type {\n",
       "        vertical-align: middle;\n",
       "    }\n",
       "\n",
       "    .dataframe tbody tr th {\n",
       "        vertical-align: top;\n",
       "    }\n",
       "\n",
       "    .dataframe thead th {\n",
       "        text-align: right;\n",
       "    }\n",
       "</style>\n",
       "<table border=\"1\" class=\"dataframe\">\n",
       "  <thead>\n",
       "    <tr style=\"text-align: right;\">\n",
       "      <th></th>\n",
       "      <th>index</th>\n",
       "      <th>playlist</th>\n",
       "      <th>song_id</th>\n",
       "      <th>song</th>\n",
       "      <th>band</th>\n",
       "    </tr>\n",
       "  </thead>\n",
       "  <tbody>\n",
       "    <tr>\n",
       "      <th>0</th>\n",
       "      <td>0</td>\n",
       "      <td>0</td>\n",
       "      <td>0</td>\n",
       "      <td>Gucci Time (w\\/ Swizz Beatz)</td>\n",
       "      <td>Gucci Mane</td>\n",
       "    </tr>\n",
       "    <tr>\n",
       "      <th>1</th>\n",
       "      <td>1</td>\n",
       "      <td>0</td>\n",
       "      <td>1</td>\n",
       "      <td>Aston Martin Music (w\\/ Drake &amp; Chrisette Mich...</td>\n",
       "      <td>Rick Ross</td>\n",
       "    </tr>\n",
       "    <tr>\n",
       "      <th>2</th>\n",
       "      <td>2</td>\n",
       "      <td>0</td>\n",
       "      <td>2</td>\n",
       "      <td>Get Back Up (w\\/ Chris Brown)</td>\n",
       "      <td>T.I.</td>\n",
       "    </tr>\n",
       "    <tr>\n",
       "      <th>3</th>\n",
       "      <td>3</td>\n",
       "      <td>0</td>\n",
       "      <td>3</td>\n",
       "      <td>Hot Toddy (w\\/ Jay-Z &amp; Ester Dean)</td>\n",
       "      <td>Usher</td>\n",
       "    </tr>\n",
       "    <tr>\n",
       "      <th>4</th>\n",
       "      <td>4</td>\n",
       "      <td>0</td>\n",
       "      <td>4</td>\n",
       "      <td>Whip My Hair</td>\n",
       "      <td>Willow</td>\n",
       "    </tr>\n",
       "  </tbody>\n",
       "</table>\n",
       "</div>"
      ],
      "text/plain": [
       "   index  playlist  song_id  \\\n",
       "0      0         0        0   \n",
       "1      1         0        1   \n",
       "2      2         0        2   \n",
       "3      3         0        3   \n",
       "4      4         0        4   \n",
       "\n",
       "                                                song        band  \n",
       "0                       Gucci Time (w\\/ Swizz Beatz)  Gucci Mane  \n",
       "1  Aston Martin Music (w\\/ Drake & Chrisette Mich...   Rick Ross  \n",
       "2                      Get Back Up (w\\/ Chris Brown)        T.I.  \n",
       "3                 Hot Toddy (w\\/ Jay-Z & Ester Dean)       Usher  \n",
       "4                                       Whip My Hair      Willow  "
      ]
     },
     "execution_count": 14,
     "metadata": {},
     "output_type": "execute_result"
    }
   ],
   "source": [
    "df_playlists_train.head()"
   ]
  },
  {
   "cell_type": "code",
   "execution_count": null,
   "metadata": {},
   "outputs": [],
   "source": []
  },
  {
   "cell_type": "code",
   "execution_count": 15,
   "metadata": {},
   "outputs": [],
   "source": [
    "#==============================================================================\n",
    "#\n",
    "# EDA\n",
    "# \n",
    "#=============================================================================="
   ]
  },
  {
   "cell_type": "code",
   "execution_count": 16,
   "metadata": {},
   "outputs": [],
   "source": [
    "#song_count = pd.DataFrame(df_playlists_train.groupby(['song', 'band'])['playlist'].count().sort_values(ascending=False))\n",
    "song_count = df_playlists_train.groupby(['song_id','song','band']).count().reset_index().drop(columns='index')\n",
    "song_count.columns = ['song_id','song','band','count']\n",
    "song_count = song_count.sort_values('count', ascending=False)\n",
    "song_count.reset_index(inplace=True)\n",
    "song_count = song_count[['song_id','song','band','count']]"
   ]
  },
  {
   "cell_type": "code",
   "execution_count": 17,
   "metadata": {},
   "outputs": [
    {
     "data": {
      "text/plain": [
       "Text(0.5,1,'')"
      ]
     },
     "execution_count": 17,
     "metadata": {},
     "output_type": "execute_result"
    },
    {
     "data": {
      "image/png": "[encoded data removed]",
      "text/plain": [
       "<Figure size 720x288 with 1 Axes>"
      ]
     },
     "metadata": {},
     "output_type": "display_data"
    }
   ],
   "source": [
    "plt.figure(figsize=(10,4))\n",
    "song_count['count'].hist(bins=70)\n",
    "plt.xlabel('Song count')\n",
    "plt.ylabel('Quantity')\n",
    "plt.title('')"
   ]
  },
  {
   "cell_type": "code",
   "execution_count": 18,
   "metadata": {},
   "outputs": [
    {
     "data": {
      "text/plain": [
       "(0, 25)"
      ]
     },
     "execution_count": 18,
     "metadata": {},
     "output_type": "execute_result"
    },
    {
     "data": {
      "image/png": "[encoded data removed]",
      "text/plain": [
       "<Figure size 720x288 with 1 Axes>"
      ]
     },
     "metadata": {},
     "output_type": "display_data"
    }
   ],
   "source": [
    "plt.figure(figsize=(10,4))\n",
    "song_count['count'].hist(bins=10000)\n",
    "plt.xlabel('Song count')\n",
    "plt.ylabel('Quantity')\n",
    "plt.title('')\n",
    "plt.xlim(0,25)"
   ]
  },
  {
   "cell_type": "code",
   "execution_count": 19,
   "metadata": {},
   "outputs": [
    {
     "data": {
      "text/plain": [
       "(5, 20)"
      ]
     },
     "execution_count": 19,
     "metadata": {},
     "output_type": "execute_result"
    },
    {
     "data": {
      "image/png": "[encoded data removed]",
      "text/plain": [
       "<Figure size 720x288 with 1 Axes>"
      ]
     },
     "metadata": {},
     "output_type": "display_data"
    }
   ],
   "source": [
    "plt.figure(figsize=(10,4))\n",
    "song_count[song_count['count'] > 5]['count'].hist(bins=5000)\n",
    "plt.xlabel('Song count')\n",
    "plt.ylabel('Quantity')\n",
    "plt.title('')\n",
    "plt.xlim(5,20)"
   ]
  },
  {
   "cell_type": "code",
   "execution_count": null,
   "metadata": {},
   "outputs": [],
   "source": []
  },
  {
   "cell_type": "code",
   "execution_count": 20,
   "metadata": {},
   "outputs": [],
   "source": [
    "band_count = pd.DataFrame(df_playlists_train.groupby('band')['playlist'].count().sort_values(ascending=False))\n",
    "band_count.reset_index(inplace=True)\n",
    "band_count.columns = ['band','count']"
   ]
  },
  {
   "cell_type": "code",
   "execution_count": 21,
   "metadata": {},
   "outputs": [
    {
     "data": {
      "text/html": [
       "<div>\n",
       "<style scoped>\n",
       "    .dataframe tbody tr th:only-of-type {\n",
       "        vertical-align: middle;\n",
       "    }\n",
       "\n",
       "    .dataframe tbody tr th {\n",
       "        vertical-align: top;\n",
       "    }\n",
       "\n",
       "    .dataframe thead th {\n",
       "        text-align: right;\n",
       "    }\n",
       "</style>\n",
       "<table border=\"1\" class=\"dataframe\">\n",
       "  <thead>\n",
       "    <tr style=\"text-align: right;\">\n",
       "      <th></th>\n",
       "      <th>band</th>\n",
       "      <th>count</th>\n",
       "    </tr>\n",
       "  </thead>\n",
       "  <tbody>\n",
       "    <tr>\n",
       "      <th>0</th>\n",
       "      <td>Rihanna</td>\n",
       "      <td>12550</td>\n",
       "    </tr>\n",
       "    <tr>\n",
       "      <th>1</th>\n",
       "      <td>Nicki Minaj</td>\n",
       "      <td>10228</td>\n",
       "    </tr>\n",
       "    <tr>\n",
       "      <th>2</th>\n",
       "      <td>Kenny Chesney</td>\n",
       "      <td>10181</td>\n",
       "    </tr>\n",
       "    <tr>\n",
       "      <th>3</th>\n",
       "      <td>Brad Paisley</td>\n",
       "      <td>9128</td>\n",
       "    </tr>\n",
       "    <tr>\n",
       "      <th>4</th>\n",
       "      <td>Chris Brown</td>\n",
       "      <td>9096</td>\n",
       "    </tr>\n",
       "  </tbody>\n",
       "</table>\n",
       "</div>"
      ],
      "text/plain": [
       "            band  count\n",
       "0        Rihanna  12550\n",
       "1    Nicki Minaj  10228\n",
       "2  Kenny Chesney  10181\n",
       "3   Brad Paisley   9128\n",
       "4    Chris Brown   9096"
      ]
     },
     "execution_count": 21,
     "metadata": {},
     "output_type": "execute_result"
    }
   ],
   "source": [
    "band_count.head()"
   ]
  },
  {
   "cell_type": "code",
   "execution_count": 22,
   "metadata": {},
   "outputs": [
    {
     "data": {
      "text/plain": [
       "Text(0.5,1,'')"
      ]
     },
     "execution_count": 22,
     "metadata": {},
     "output_type": "execute_result"
    },
    {
     "data": {
      "image/png": "[encoded data removed]",
      "text/plain": [
       "<Figure size 720x288 with 1 Axes>"
      ]
     },
     "metadata": {},
     "output_type": "display_data"
    }
   ],
   "source": [
    "plt.figure(figsize=(10,4))\n",
    "band_count['count'].hist(bins=70)\n",
    "plt.xlabel('Band count')\n",
    "plt.ylabel('Quantity')\n",
    "plt.title('')"
   ]
  },
  {
   "cell_type": "code",
   "execution_count": 23,
   "metadata": {},
   "outputs": [
    {
     "data": {
      "text/plain": [
       "(0, 100)"
      ]
     },
     "execution_count": 23,
     "metadata": {},
     "output_type": "execute_result"
    },
    {
     "data": {
      "image/png": "[encoded data removed]",
      "text/plain": [
       "<Figure size 720x288 with 1 Axes>"
      ]
     },
     "metadata": {},
     "output_type": "display_data"
    }
   ],
   "source": [
    "plt.figure(figsize=(10,4))\n",
    "band_count['count'].hist(bins=1000)\n",
    "plt.xlabel('Band count')\n",
    "plt.ylabel('Quantity')\n",
    "plt.title('')\n",
    "plt.xlim(0,100)"
   ]
  },
  {
   "cell_type": "code",
   "execution_count": null,
   "metadata": {},
   "outputs": [],
   "source": []
  },
  {
   "cell_type": "code",
   "execution_count": 24,
   "metadata": {},
   "outputs": [],
   "source": [
    "#==============================================================================\n",
    "#\n",
    "# CLEAN DATA\n",
    "# \n",
    "#=============================================================================="
   ]
  },
  {
   "cell_type": "code",
   "execution_count": 25,
   "metadata": {},
   "outputs": [
    {
     "data": {
      "text/plain": [
       "1887938"
      ]
     },
     "execution_count": 25,
     "metadata": {},
     "output_type": "execute_result"
    }
   ],
   "source": [
    "len(df_playlists_train)"
   ]
  },
  {
   "cell_type": "code",
   "execution_count": 26,
   "metadata": {},
   "outputs": [],
   "source": [
    "df_playlists_train = pd.merge(df_playlists_train, song_count)\n",
    "df_playlists_train.sort_values(by='index', inplace=True)\n",
    "df_playlists_train.reset_index(drop=True, inplace=True)"
   ]
  },
  {
   "cell_type": "code",
   "execution_count": null,
   "metadata": {},
   "outputs": [],
   "source": []
  },
  {
   "cell_type": "code",
   "execution_count": 27,
   "metadata": {},
   "outputs": [],
   "source": [
    "# ---- PARE DATA ----\n",
    "# Remove songs that show up less than 6 times\n",
    "df_playlists_train = df_playlists_train[df_playlists_train['count']>=6]"
   ]
  },
  {
   "cell_type": "code",
   "execution_count": 28,
   "metadata": {},
   "outputs": [
    {
     "data": {
      "text/html": [
       "<div>\n",
       "<style scoped>\n",
       "    .dataframe tbody tr th:only-of-type {\n",
       "        vertical-align: middle;\n",
       "    }\n",
       "\n",
       "    .dataframe tbody tr th {\n",
       "        vertical-align: top;\n",
       "    }\n",
       "\n",
       "    .dataframe thead th {\n",
       "        text-align: right;\n",
       "    }\n",
       "</style>\n",
       "<table border=\"1\" class=\"dataframe\">\n",
       "  <thead>\n",
       "    <tr style=\"text-align: right;\">\n",
       "      <th></th>\n",
       "      <th>index</th>\n",
       "      <th>playlist</th>\n",
       "      <th>song_id</th>\n",
       "      <th>song</th>\n",
       "      <th>band</th>\n",
       "      <th>count</th>\n",
       "    </tr>\n",
       "  </thead>\n",
       "  <tbody>\n",
       "    <tr>\n",
       "      <th>0</th>\n",
       "      <td>0</td>\n",
       "      <td>0</td>\n",
       "      <td>0</td>\n",
       "      <td>Gucci Time (w\\/ Swizz Beatz)</td>\n",
       "      <td>Gucci Mane</td>\n",
       "      <td>138</td>\n",
       "    </tr>\n",
       "    <tr>\n",
       "      <th>1</th>\n",
       "      <td>1</td>\n",
       "      <td>0</td>\n",
       "      <td>1</td>\n",
       "      <td>Aston Martin Music (w\\/ Drake &amp; Chrisette Mich...</td>\n",
       "      <td>Rick Ross</td>\n",
       "      <td>2833</td>\n",
       "    </tr>\n",
       "    <tr>\n",
       "      <th>2</th>\n",
       "      <td>2</td>\n",
       "      <td>0</td>\n",
       "      <td>2</td>\n",
       "      <td>Get Back Up (w\\/ Chris Brown)</td>\n",
       "      <td>T.I.</td>\n",
       "      <td>297</td>\n",
       "    </tr>\n",
       "    <tr>\n",
       "      <th>3</th>\n",
       "      <td>3</td>\n",
       "      <td>0</td>\n",
       "      <td>3</td>\n",
       "      <td>Hot Toddy (w\\/ Jay-Z &amp; Ester Dean)</td>\n",
       "      <td>Usher</td>\n",
       "      <td>502</td>\n",
       "    </tr>\n",
       "    <tr>\n",
       "      <th>4</th>\n",
       "      <td>4</td>\n",
       "      <td>0</td>\n",
       "      <td>4</td>\n",
       "      <td>Whip My Hair</td>\n",
       "      <td>Willow</td>\n",
       "      <td>700</td>\n",
       "    </tr>\n",
       "  </tbody>\n",
       "</table>\n",
       "</div>"
      ],
      "text/plain": [
       "   index  playlist  song_id  \\\n",
       "0      0         0        0   \n",
       "1      1         0        1   \n",
       "2      2         0        2   \n",
       "3      3         0        3   \n",
       "4      4         0        4   \n",
       "\n",
       "                                                song        band  count  \n",
       "0                       Gucci Time (w\\/ Swizz Beatz)  Gucci Mane    138  \n",
       "1  Aston Martin Music (w\\/ Drake & Chrisette Mich...   Rick Ross   2833  \n",
       "2                      Get Back Up (w\\/ Chris Brown)        T.I.    297  \n",
       "3                 Hot Toddy (w\\/ Jay-Z & Ester Dean)       Usher    502  \n",
       "4                                       Whip My Hair      Willow    700  "
      ]
     },
     "execution_count": 28,
     "metadata": {},
     "output_type": "execute_result"
    }
   ],
   "source": [
    "df_playlists_train.head()"
   ]
  },
  {
   "cell_type": "code",
   "execution_count": 29,
   "metadata": {},
   "outputs": [
    {
     "data": {
      "text/html": [
       "<div>\n",
       "<style scoped>\n",
       "    .dataframe tbody tr th:only-of-type {\n",
       "        vertical-align: middle;\n",
       "    }\n",
       "\n",
       "    .dataframe tbody tr th {\n",
       "        vertical-align: top;\n",
       "    }\n",
       "\n",
       "    .dataframe thead th {\n",
       "        text-align: right;\n",
       "    }\n",
       "</style>\n",
       "<table border=\"1\" class=\"dataframe\">\n",
       "  <thead>\n",
       "    <tr style=\"text-align: right;\">\n",
       "      <th></th>\n",
       "      <th>index</th>\n",
       "      <th>playlist</th>\n",
       "      <th>song_id</th>\n",
       "      <th>song</th>\n",
       "      <th>band</th>\n",
       "      <th>count</th>\n",
       "    </tr>\n",
       "  </thead>\n",
       "  <tbody>\n",
       "    <tr>\n",
       "      <th>824260</th>\n",
       "      <td>824293</td>\n",
       "      <td>4937</td>\n",
       "      <td>20463</td>\n",
       "      <td>North Portland</td>\n",
       "      <td>Robert Glasper</td>\n",
       "      <td>6</td>\n",
       "    </tr>\n",
       "    <tr>\n",
       "      <th>864263</th>\n",
       "      <td>864297</td>\n",
       "      <td>5233</td>\n",
       "      <td>8757</td>\n",
       "      <td>You Are Holy</td>\n",
       "      <td>Lisa McClendon</td>\n",
       "      <td>6</td>\n",
       "    </tr>\n",
       "    <tr>\n",
       "      <th>1066158</th>\n",
       "      <td>1066214</td>\n",
       "      <td>6672</td>\n",
       "      <td>50944</td>\n",
       "      <td>Joshua</td>\n",
       "      <td>Mulgrew Miller</td>\n",
       "      <td>6</td>\n",
       "    </tr>\n",
       "    <tr>\n",
       "      <th>1066157</th>\n",
       "      <td>1066213</td>\n",
       "      <td>6672</td>\n",
       "      <td>38507</td>\n",
       "      <td>Pure Imagination</td>\n",
       "      <td>Bill Mays Trio</td>\n",
       "      <td>6</td>\n",
       "    </tr>\n",
       "    <tr>\n",
       "      <th>673854</th>\n",
       "      <td>673873</td>\n",
       "      <td>3956</td>\n",
       "      <td>50183</td>\n",
       "      <td>Scar Tissue</td>\n",
       "      <td>Red Hot Chili Peppers</td>\n",
       "      <td>6</td>\n",
       "    </tr>\n",
       "  </tbody>\n",
       "</table>\n",
       "</div>"
      ],
      "text/plain": [
       "           index  playlist  song_id              song                   band  \\\n",
       "824260    824293      4937    20463    North Portland         Robert Glasper   \n",
       "864263    864297      5233     8757      You Are Holy         Lisa McClendon   \n",
       "1066158  1066214      6672    50944            Joshua         Mulgrew Miller   \n",
       "1066157  1066213      6672    38507  Pure Imagination         Bill Mays Trio   \n",
       "673854    673873      3956    50183       Scar Tissue  Red Hot Chili Peppers   \n",
       "\n",
       "         count  \n",
       "824260       6  \n",
       "864263       6  \n",
       "1066158      6  \n",
       "1066157      6  \n",
       "673854       6  "
      ]
     },
     "execution_count": 29,
     "metadata": {},
     "output_type": "execute_result"
    }
   ],
   "source": [
    "df_playlists_train.sort_values('count').head()"
   ]
  },
  {
   "cell_type": "code",
   "execution_count": 30,
   "metadata": {},
   "outputs": [
    {
     "data": {
      "text/html": [
       "<div>\n",
       "<style scoped>\n",
       "    .dataframe tbody tr th:only-of-type {\n",
       "        vertical-align: middle;\n",
       "    }\n",
       "\n",
       "    .dataframe tbody tr th {\n",
       "        vertical-align: top;\n",
       "    }\n",
       "\n",
       "    .dataframe thead th {\n",
       "        text-align: right;\n",
       "    }\n",
       "</style>\n",
       "<table border=\"1\" class=\"dataframe\">\n",
       "  <thead>\n",
       "    <tr style=\"text-align: right;\">\n",
       "      <th></th>\n",
       "      <th>index</th>\n",
       "      <th>playlist</th>\n",
       "      <th>song_id</th>\n",
       "      <th>song</th>\n",
       "      <th>band</th>\n",
       "      <th>count</th>\n",
       "    </tr>\n",
       "  </thead>\n",
       "  <tbody>\n",
       "    <tr>\n",
       "      <th>684524</th>\n",
       "      <td>684543</td>\n",
       "      <td>4007</td>\n",
       "      <td>20065</td>\n",
       "      <td>Moment 4 Life (w\\/ Drake)</td>\n",
       "      <td>Nicki Minaj</td>\n",
       "      <td>5593</td>\n",
       "    </tr>\n",
       "    <tr>\n",
       "      <th>1439902</th>\n",
       "      <td>1439985</td>\n",
       "      <td>9007</td>\n",
       "      <td>20065</td>\n",
       "      <td>Moment 4 Life (w\\/ Drake)</td>\n",
       "      <td>Nicki Minaj</td>\n",
       "      <td>5593</td>\n",
       "    </tr>\n",
       "    <tr>\n",
       "      <th>1439895</th>\n",
       "      <td>1439978</td>\n",
       "      <td>9007</td>\n",
       "      <td>20065</td>\n",
       "      <td>Moment 4 Life (w\\/ Drake)</td>\n",
       "      <td>Nicki Minaj</td>\n",
       "      <td>5593</td>\n",
       "    </tr>\n",
       "    <tr>\n",
       "      <th>1823298</th>\n",
       "      <td>1823385</td>\n",
       "      <td>10781</td>\n",
       "      <td>20065</td>\n",
       "      <td>Moment 4 Life (w\\/ Drake)</td>\n",
       "      <td>Nicki Minaj</td>\n",
       "      <td>5593</td>\n",
       "    </tr>\n",
       "    <tr>\n",
       "      <th>638751</th>\n",
       "      <td>638770</td>\n",
       "      <td>3738</td>\n",
       "      <td>20065</td>\n",
       "      <td>Moment 4 Life (w\\/ Drake)</td>\n",
       "      <td>Nicki Minaj</td>\n",
       "      <td>5593</td>\n",
       "    </tr>\n",
       "  </tbody>\n",
       "</table>\n",
       "</div>"
      ],
      "text/plain": [
       "           index  playlist  song_id                       song         band  \\\n",
       "684524    684543      4007    20065  Moment 4 Life (w\\/ Drake)  Nicki Minaj   \n",
       "1439902  1439985      9007    20065  Moment 4 Life (w\\/ Drake)  Nicki Minaj   \n",
       "1439895  1439978      9007    20065  Moment 4 Life (w\\/ Drake)  Nicki Minaj   \n",
       "1823298  1823385     10781    20065  Moment 4 Life (w\\/ Drake)  Nicki Minaj   \n",
       "638751    638770      3738    20065  Moment 4 Life (w\\/ Drake)  Nicki Minaj   \n",
       "\n",
       "         count  \n",
       "684524    5593  \n",
       "1439902   5593  \n",
       "1439895   5593  \n",
       "1823298   5593  \n",
       "638751    5593  "
      ]
     },
     "execution_count": 30,
     "metadata": {},
     "output_type": "execute_result"
    }
   ],
   "source": [
    "df_playlists_train.sort_values('count').tail()"
   ]
  },
  {
   "cell_type": "code",
   "execution_count": null,
   "metadata": {},
   "outputs": [],
   "source": []
  },
  {
   "cell_type": "code",
   "execution_count": 31,
   "metadata": {},
   "outputs": [],
   "source": [
    "# ---- REMOVE NULLS ----"
   ]
  },
  {
   "cell_type": "code",
   "execution_count": 32,
   "metadata": {},
   "outputs": [
    {
     "data": {
      "text/plain": [
       "0"
      ]
     },
     "execution_count": 32,
     "metadata": {},
     "output_type": "execute_result"
    }
   ],
   "source": [
    "df_playlists_train.isnull().sum().sum()"
   ]
  },
  {
   "cell_type": "code",
   "execution_count": 33,
   "metadata": {},
   "outputs": [
    {
     "data": {
      "text/plain": [
       "0"
      ]
     },
     "execution_count": 33,
     "metadata": {},
     "output_type": "execute_result"
    }
   ],
   "source": [
    "df_playlists_train.isna().sum().sum()"
   ]
  },
  {
   "cell_type": "code",
   "execution_count": null,
   "metadata": {},
   "outputs": [],
   "source": []
  },
  {
   "cell_type": "code",
   "execution_count": 34,
   "metadata": {},
   "outputs": [
    {
     "data": {
      "text/html": [
       "<div>\n",
       "<style scoped>\n",
       "    .dataframe tbody tr th:only-of-type {\n",
       "        vertical-align: middle;\n",
       "    }\n",
       "\n",
       "    .dataframe tbody tr th {\n",
       "        vertical-align: top;\n",
       "    }\n",
       "\n",
       "    .dataframe thead th {\n",
       "        text-align: right;\n",
       "    }\n",
       "</style>\n",
       "<table border=\"1\" class=\"dataframe\">\n",
       "  <thead>\n",
       "    <tr style=\"text-align: right;\">\n",
       "      <th></th>\n",
       "      <th>index</th>\n",
       "      <th>playlist</th>\n",
       "      <th>song_id</th>\n",
       "      <th>song</th>\n",
       "      <th>band</th>\n",
       "      <th>count</th>\n",
       "    </tr>\n",
       "  </thead>\n",
       "  <tbody>\n",
       "    <tr>\n",
       "      <th>66438</th>\n",
       "      <td>66442</td>\n",
       "      <td>359</td>\n",
       "      <td>13382</td>\n",
       "      <td>-</td>\n",
       "      <td>-</td>\n",
       "      <td>25</td>\n",
       "    </tr>\n",
       "    <tr>\n",
       "      <th>66623</th>\n",
       "      <td>66627</td>\n",
       "      <td>360</td>\n",
       "      <td>13382</td>\n",
       "      <td>-</td>\n",
       "      <td>-</td>\n",
       "      <td>25</td>\n",
       "    </tr>\n",
       "    <tr>\n",
       "      <th>66837</th>\n",
       "      <td>66841</td>\n",
       "      <td>360</td>\n",
       "      <td>13382</td>\n",
       "      <td>-</td>\n",
       "      <td>-</td>\n",
       "      <td>25</td>\n",
       "    </tr>\n",
       "    <tr>\n",
       "      <th>67171</th>\n",
       "      <td>67175</td>\n",
       "      <td>361</td>\n",
       "      <td>13382</td>\n",
       "      <td>-</td>\n",
       "      <td>-</td>\n",
       "      <td>25</td>\n",
       "    </tr>\n",
       "    <tr>\n",
       "      <th>67277</th>\n",
       "      <td>67281</td>\n",
       "      <td>362</td>\n",
       "      <td>13382</td>\n",
       "      <td>-</td>\n",
       "      <td>-</td>\n",
       "      <td>25</td>\n",
       "    </tr>\n",
       "  </tbody>\n",
       "</table>\n",
       "</div>"
      ],
      "text/plain": [
       "       index  playlist  song_id song band  count\n",
       "66438  66442       359    13382    -    -     25\n",
       "66623  66627       360    13382    -    -     25\n",
       "66837  66841       360    13382    -    -     25\n",
       "67171  67175       361    13382    -    -     25\n",
       "67277  67281       362    13382    -    -     25"
      ]
     },
     "execution_count": 34,
     "metadata": {},
     "output_type": "execute_result"
    }
   ],
   "source": [
    "# ---- REMOVE \"\", \" \", \"-\" ----\n",
    "df_playlists_train[df_playlists_train['song'] == '-'].head()"
   ]
  },
  {
   "cell_type": "code",
   "execution_count": 35,
   "metadata": {},
   "outputs": [],
   "source": [
    "df_playlists_train.drop(df_playlists_train[df_playlists_train['song']=='-'].index, inplace=True)"
   ]
  },
  {
   "cell_type": "code",
   "execution_count": 36,
   "metadata": {},
   "outputs": [
    {
     "data": {
      "text/html": [
       "<div>\n",
       "<style scoped>\n",
       "    .dataframe tbody tr th:only-of-type {\n",
       "        vertical-align: middle;\n",
       "    }\n",
       "\n",
       "    .dataframe tbody tr th {\n",
       "        vertical-align: top;\n",
       "    }\n",
       "\n",
       "    .dataframe thead th {\n",
       "        text-align: right;\n",
       "    }\n",
       "</style>\n",
       "<table border=\"1\" class=\"dataframe\">\n",
       "  <thead>\n",
       "    <tr style=\"text-align: right;\">\n",
       "      <th></th>\n",
       "      <th>index</th>\n",
       "      <th>playlist</th>\n",
       "      <th>song_id</th>\n",
       "      <th>song</th>\n",
       "      <th>band</th>\n",
       "      <th>count</th>\n",
       "    </tr>\n",
       "  </thead>\n",
       "  <tbody>\n",
       "  </tbody>\n",
       "</table>\n",
       "</div>"
      ],
      "text/plain": [
       "Empty DataFrame\n",
       "Columns: [index, playlist, song_id, song, band, count]\n",
       "Index: []"
      ]
     },
     "execution_count": 36,
     "metadata": {},
     "output_type": "execute_result"
    }
   ],
   "source": [
    "df_playlists_train[df_playlists_train['song'] == '-']"
   ]
  },
  {
   "cell_type": "code",
   "execution_count": null,
   "metadata": {},
   "outputs": [],
   "source": []
  },
  {
   "cell_type": "code",
   "execution_count": 37,
   "metadata": {},
   "outputs": [
    {
     "data": {
      "text/html": [
       "<div>\n",
       "<style scoped>\n",
       "    .dataframe tbody tr th:only-of-type {\n",
       "        vertical-align: middle;\n",
       "    }\n",
       "\n",
       "    .dataframe tbody tr th {\n",
       "        vertical-align: top;\n",
       "    }\n",
       "\n",
       "    .dataframe thead th {\n",
       "        text-align: right;\n",
       "    }\n",
       "</style>\n",
       "<table border=\"1\" class=\"dataframe\">\n",
       "  <thead>\n",
       "    <tr style=\"text-align: right;\">\n",
       "      <th></th>\n",
       "      <th>index</th>\n",
       "      <th>playlist</th>\n",
       "      <th>song_id</th>\n",
       "      <th>song</th>\n",
       "      <th>band</th>\n",
       "      <th>count</th>\n",
       "    </tr>\n",
       "  </thead>\n",
       "  <tbody>\n",
       "    <tr>\n",
       "      <th>424384</th>\n",
       "      <td>424397</td>\n",
       "      <td>2383</td>\n",
       "      <td>37365</td>\n",
       "      <td>MG_DELETED</td>\n",
       "      <td>-</td>\n",
       "      <td>6</td>\n",
       "    </tr>\n",
       "    <tr>\n",
       "      <th>532387</th>\n",
       "      <td>532401</td>\n",
       "      <td>3077</td>\n",
       "      <td>43786</td>\n",
       "      <td>Take Me In Your Arms (Rock Me For A Little While)</td>\n",
       "      <td>-</td>\n",
       "      <td>7</td>\n",
       "    </tr>\n",
       "    <tr>\n",
       "      <th>533274</th>\n",
       "      <td>533290</td>\n",
       "      <td>3083</td>\n",
       "      <td>43786</td>\n",
       "      <td>Take Me In Your Arms (Rock Me For A Little While)</td>\n",
       "      <td>-</td>\n",
       "      <td>7</td>\n",
       "    </tr>\n",
       "    <tr>\n",
       "      <th>707083</th>\n",
       "      <td>707103</td>\n",
       "      <td>4154</td>\n",
       "      <td>43786</td>\n",
       "      <td>Take Me In Your Arms (Rock Me For A Little While)</td>\n",
       "      <td>-</td>\n",
       "      <td>7</td>\n",
       "    </tr>\n",
       "    <tr>\n",
       "      <th>707232</th>\n",
       "      <td>707252</td>\n",
       "      <td>4155</td>\n",
       "      <td>51615</td>\n",
       "      <td>MG_DELETED</td>\n",
       "      <td>-</td>\n",
       "      <td>61</td>\n",
       "    </tr>\n",
       "  </tbody>\n",
       "</table>\n",
       "</div>"
      ],
      "text/plain": [
       "         index  playlist  song_id  \\\n",
       "424384  424397      2383    37365   \n",
       "532387  532401      3077    43786   \n",
       "533274  533290      3083    43786   \n",
       "707083  707103      4154    43786   \n",
       "707232  707252      4155    51615   \n",
       "\n",
       "                                                     song band  count  \n",
       "424384                                         MG_DELETED    -      6  \n",
       "532387  Take Me In Your Arms (Rock Me For A Little While)    -      7  \n",
       "533274  Take Me In Your Arms (Rock Me For A Little While)    -      7  \n",
       "707083  Take Me In Your Arms (Rock Me For A Little While)    -      7  \n",
       "707232                                         MG_DELETED    -     61  "
      ]
     },
     "execution_count": 37,
     "metadata": {},
     "output_type": "execute_result"
    }
   ],
   "source": [
    "df_playlists_train[df_playlists_train['band'] == '-'].head()"
   ]
  },
  {
   "cell_type": "code",
   "execution_count": 38,
   "metadata": {},
   "outputs": [],
   "source": [
    "df_playlists_train.drop(df_playlists_train[df_playlists_train['band']=='-'].index, inplace=True)"
   ]
  },
  {
   "cell_type": "code",
   "execution_count": 39,
   "metadata": {},
   "outputs": [
    {
     "data": {
      "text/html": [
       "<div>\n",
       "<style scoped>\n",
       "    .dataframe tbody tr th:only-of-type {\n",
       "        vertical-align: middle;\n",
       "    }\n",
       "\n",
       "    .dataframe tbody tr th {\n",
       "        vertical-align: top;\n",
       "    }\n",
       "\n",
       "    .dataframe thead th {\n",
       "        text-align: right;\n",
       "    }\n",
       "</style>\n",
       "<table border=\"1\" class=\"dataframe\">\n",
       "  <thead>\n",
       "    <tr style=\"text-align: right;\">\n",
       "      <th></th>\n",
       "      <th>index</th>\n",
       "      <th>playlist</th>\n",
       "      <th>song_id</th>\n",
       "      <th>song</th>\n",
       "      <th>band</th>\n",
       "      <th>count</th>\n",
       "    </tr>\n",
       "  </thead>\n",
       "  <tbody>\n",
       "  </tbody>\n",
       "</table>\n",
       "</div>"
      ],
      "text/plain": [
       "Empty DataFrame\n",
       "Columns: [index, playlist, song_id, song, band, count]\n",
       "Index: []"
      ]
     },
     "execution_count": 39,
     "metadata": {},
     "output_type": "execute_result"
    }
   ],
   "source": [
    "df_playlists_train[df_playlists_train['band']=='-']"
   ]
  },
  {
   "cell_type": "code",
   "execution_count": null,
   "metadata": {},
   "outputs": [],
   "source": []
  },
  {
   "cell_type": "code",
   "execution_count": 40,
   "metadata": {},
   "outputs": [
    {
     "data": {
      "text/html": [
       "<div>\n",
       "<style scoped>\n",
       "    .dataframe tbody tr th:only-of-type {\n",
       "        vertical-align: middle;\n",
       "    }\n",
       "\n",
       "    .dataframe tbody tr th {\n",
       "        vertical-align: top;\n",
       "    }\n",
       "\n",
       "    .dataframe thead th {\n",
       "        text-align: right;\n",
       "    }\n",
       "</style>\n",
       "<table border=\"1\" class=\"dataframe\">\n",
       "  <thead>\n",
       "    <tr style=\"text-align: right;\">\n",
       "      <th></th>\n",
       "      <th>index</th>\n",
       "      <th>playlist</th>\n",
       "      <th>song_id</th>\n",
       "      <th>song</th>\n",
       "      <th>band</th>\n",
       "      <th>count</th>\n",
       "    </tr>\n",
       "  </thead>\n",
       "  <tbody>\n",
       "  </tbody>\n",
       "</table>\n",
       "</div>"
      ],
      "text/plain": [
       "Empty DataFrame\n",
       "Columns: [index, playlist, song_id, song, band, count]\n",
       "Index: []"
      ]
     },
     "execution_count": 40,
     "metadata": {},
     "output_type": "execute_result"
    }
   ],
   "source": [
    "df_playlists_train[df_playlists_train['song']=='']"
   ]
  },
  {
   "cell_type": "code",
   "execution_count": 41,
   "metadata": {},
   "outputs": [
    {
     "data": {
      "text/html": [
       "<div>\n",
       "<style scoped>\n",
       "    .dataframe tbody tr th:only-of-type {\n",
       "        vertical-align: middle;\n",
       "    }\n",
       "\n",
       "    .dataframe tbody tr th {\n",
       "        vertical-align: top;\n",
       "    }\n",
       "\n",
       "    .dataframe thead th {\n",
       "        text-align: right;\n",
       "    }\n",
       "</style>\n",
       "<table border=\"1\" class=\"dataframe\">\n",
       "  <thead>\n",
       "    <tr style=\"text-align: right;\">\n",
       "      <th></th>\n",
       "      <th>index</th>\n",
       "      <th>playlist</th>\n",
       "      <th>song_id</th>\n",
       "      <th>song</th>\n",
       "      <th>band</th>\n",
       "      <th>count</th>\n",
       "    </tr>\n",
       "  </thead>\n",
       "  <tbody>\n",
       "  </tbody>\n",
       "</table>\n",
       "</div>"
      ],
      "text/plain": [
       "Empty DataFrame\n",
       "Columns: [index, playlist, song_id, song, band, count]\n",
       "Index: []"
      ]
     },
     "execution_count": 41,
     "metadata": {},
     "output_type": "execute_result"
    }
   ],
   "source": [
    "df_playlists_train[df_playlists_train['band']=='']"
   ]
  },
  {
   "cell_type": "code",
   "execution_count": 42,
   "metadata": {},
   "outputs": [
    {
     "data": {
      "text/html": [
       "<div>\n",
       "<style scoped>\n",
       "    .dataframe tbody tr th:only-of-type {\n",
       "        vertical-align: middle;\n",
       "    }\n",
       "\n",
       "    .dataframe tbody tr th {\n",
       "        vertical-align: top;\n",
       "    }\n",
       "\n",
       "    .dataframe thead th {\n",
       "        text-align: right;\n",
       "    }\n",
       "</style>\n",
       "<table border=\"1\" class=\"dataframe\">\n",
       "  <thead>\n",
       "    <tr style=\"text-align: right;\">\n",
       "      <th></th>\n",
       "      <th>index</th>\n",
       "      <th>playlist</th>\n",
       "      <th>song_id</th>\n",
       "      <th>song</th>\n",
       "      <th>band</th>\n",
       "      <th>count</th>\n",
       "    </tr>\n",
       "  </thead>\n",
       "  <tbody>\n",
       "  </tbody>\n",
       "</table>\n",
       "</div>"
      ],
      "text/plain": [
       "Empty DataFrame\n",
       "Columns: [index, playlist, song_id, song, band, count]\n",
       "Index: []"
      ]
     },
     "execution_count": 42,
     "metadata": {},
     "output_type": "execute_result"
    }
   ],
   "source": [
    "df_playlists_train[df_playlists_train['song']==' ']"
   ]
  },
  {
   "cell_type": "code",
   "execution_count": 43,
   "metadata": {},
   "outputs": [
    {
     "data": {
      "text/html": [
       "<div>\n",
       "<style scoped>\n",
       "    .dataframe tbody tr th:only-of-type {\n",
       "        vertical-align: middle;\n",
       "    }\n",
       "\n",
       "    .dataframe tbody tr th {\n",
       "        vertical-align: top;\n",
       "    }\n",
       "\n",
       "    .dataframe thead th {\n",
       "        text-align: right;\n",
       "    }\n",
       "</style>\n",
       "<table border=\"1\" class=\"dataframe\">\n",
       "  <thead>\n",
       "    <tr style=\"text-align: right;\">\n",
       "      <th></th>\n",
       "      <th>index</th>\n",
       "      <th>playlist</th>\n",
       "      <th>song_id</th>\n",
       "      <th>song</th>\n",
       "      <th>band</th>\n",
       "      <th>count</th>\n",
       "    </tr>\n",
       "  </thead>\n",
       "  <tbody>\n",
       "  </tbody>\n",
       "</table>\n",
       "</div>"
      ],
      "text/plain": [
       "Empty DataFrame\n",
       "Columns: [index, playlist, song_id, song, band, count]\n",
       "Index: []"
      ]
     },
     "execution_count": 43,
     "metadata": {},
     "output_type": "execute_result"
    }
   ],
   "source": [
    "df_playlists_train[df_playlists_train['band']==' ']"
   ]
  },
  {
   "cell_type": "code",
   "execution_count": null,
   "metadata": {},
   "outputs": [],
   "source": []
  },
  {
   "cell_type": "code",
   "execution_count": 44,
   "metadata": {},
   "outputs": [],
   "source": [
    "# ---- REMOVE ESCAPE CHARACTER '\\' ----\n",
    "df_playlists_train['song'] = [x.replace(\"\\\\\",\"\") for x in df_playlists_train['song']]\n",
    "df_playlists_train['band'] = [x.replace(\"\\\\\",\"\") for x in df_playlists_train['band']]"
   ]
  },
  {
   "cell_type": "code",
   "execution_count": 45,
   "metadata": {},
   "outputs": [],
   "source": [
    "# REPLACE [] WITH ()\n",
    "df_playlists_train['song'] = [x.replace(\"[\",\"(\") for x in df_playlists_train['song']]\n",
    "df_playlists_train['song'] = [x.replace(\"]\",\")\") for x in df_playlists_train['song']]\n",
    "df_playlists_train['band'] = [x.replace(\"[\",\"(\") for x in df_playlists_train['band']]\n",
    "df_playlists_train['band'] = [x.replace(\"]\",\")\") for x in df_playlists_train['band']]"
   ]
  },
  {
   "cell_type": "code",
   "execution_count": null,
   "metadata": {},
   "outputs": [],
   "source": []
  },
  {
   "cell_type": "code",
   "execution_count": 46,
   "metadata": {},
   "outputs": [],
   "source": [
    "# ---- CONCAT SONG AND BAND ----\n",
    "df_playlists_train['song_band'] = df_playlists_train['song'] + \" [\" + df_playlists_train['band'] + \"]\"\n",
    "\n",
    "# Rearrange columns\n",
    "df_playlists_train = df_playlists_train[['index','playlist','song_id','song','band','song_band','count']]"
   ]
  },
  {
   "cell_type": "code",
   "execution_count": 47,
   "metadata": {},
   "outputs": [
    {
     "data": {
      "text/html": [
       "<div>\n",
       "<style scoped>\n",
       "    .dataframe tbody tr th:only-of-type {\n",
       "        vertical-align: middle;\n",
       "    }\n",
       "\n",
       "    .dataframe tbody tr th {\n",
       "        vertical-align: top;\n",
       "    }\n",
       "\n",
       "    .dataframe thead th {\n",
       "        text-align: right;\n",
       "    }\n",
       "</style>\n",
       "<table border=\"1\" class=\"dataframe\">\n",
       "  <thead>\n",
       "    <tr style=\"text-align: right;\">\n",
       "      <th></th>\n",
       "      <th>index</th>\n",
       "      <th>playlist</th>\n",
       "      <th>song_id</th>\n",
       "      <th>song</th>\n",
       "      <th>band</th>\n",
       "      <th>song_band</th>\n",
       "      <th>count</th>\n",
       "    </tr>\n",
       "  </thead>\n",
       "  <tbody>\n",
       "    <tr>\n",
       "      <th>1887843</th>\n",
       "      <td>1887933</td>\n",
       "      <td>11136</td>\n",
       "      <td>27588</td>\n",
       "      <td>This Love Is Free</td>\n",
       "      <td>Hyland</td>\n",
       "      <td>This Love Is Free [Hyland]</td>\n",
       "      <td>188</td>\n",
       "    </tr>\n",
       "    <tr>\n",
       "      <th>1887844</th>\n",
       "      <td>1887934</td>\n",
       "      <td>11136</td>\n",
       "      <td>8974</td>\n",
       "      <td>O, For A Thousand Tongues To Sing</td>\n",
       "      <td>David Crowder Band</td>\n",
       "      <td>O, For A Thousand Tongues To Sing [David Crowd...</td>\n",
       "      <td>23</td>\n",
       "    </tr>\n",
       "    <tr>\n",
       "      <th>1887845</th>\n",
       "      <td>1887935</td>\n",
       "      <td>11136</td>\n",
       "      <td>7402</td>\n",
       "      <td>What It Means</td>\n",
       "      <td>Jeremy Camp</td>\n",
       "      <td>What It Means [Jeremy Camp]</td>\n",
       "      <td>144</td>\n",
       "    </tr>\n",
       "    <tr>\n",
       "      <th>1887846</th>\n",
       "      <td>1887936</td>\n",
       "      <td>11136</td>\n",
       "      <td>6808</td>\n",
       "      <td>Everything Falls</td>\n",
       "      <td>Fee</td>\n",
       "      <td>Everything Falls [Fee]</td>\n",
       "      <td>303</td>\n",
       "    </tr>\n",
       "    <tr>\n",
       "      <th>1887847</th>\n",
       "      <td>1887937</td>\n",
       "      <td>11136</td>\n",
       "      <td>12850</td>\n",
       "      <td>Matchless</td>\n",
       "      <td>Aaron Shust</td>\n",
       "      <td>Matchless [Aaron Shust]</td>\n",
       "      <td>39</td>\n",
       "    </tr>\n",
       "  </tbody>\n",
       "</table>\n",
       "</div>"
      ],
      "text/plain": [
       "           index  playlist  song_id                               song  \\\n",
       "1887843  1887933     11136    27588                  This Love Is Free   \n",
       "1887844  1887934     11136     8974  O, For A Thousand Tongues To Sing   \n",
       "1887845  1887935     11136     7402                      What It Means   \n",
       "1887846  1887936     11136     6808                   Everything Falls   \n",
       "1887847  1887937     11136    12850                          Matchless   \n",
       "\n",
       "                       band  \\\n",
       "1887843              Hyland   \n",
       "1887844  David Crowder Band   \n",
       "1887845         Jeremy Camp   \n",
       "1887846                 Fee   \n",
       "1887847         Aaron Shust   \n",
       "\n",
       "                                                 song_band  count  \n",
       "1887843                         This Love Is Free [Hyland]    188  \n",
       "1887844  O, For A Thousand Tongues To Sing [David Crowd...     23  \n",
       "1887845                        What It Means [Jeremy Camp]    144  \n",
       "1887846                             Everything Falls [Fee]    303  \n",
       "1887847                            Matchless [Aaron Shust]     39  "
      ]
     },
     "execution_count": 47,
     "metadata": {},
     "output_type": "execute_result"
    }
   ],
   "source": [
    "df_playlists_train.tail()"
   ]
  },
  {
   "cell_type": "code",
   "execution_count": 48,
   "metadata": {},
   "outputs": [
    {
     "data": {
      "text/plain": [
       "26783"
      ]
     },
     "execution_count": 48,
     "metadata": {},
     "output_type": "execute_result"
    }
   ],
   "source": [
    "df_playlists_train['song_id'].nunique()"
   ]
  },
  {
   "cell_type": "code",
   "execution_count": 49,
   "metadata": {},
   "outputs": [
    {
     "data": {
      "text/plain": [
       "26614"
      ]
     },
     "execution_count": 49,
     "metadata": {},
     "output_type": "execute_result"
    }
   ],
   "source": [
    "df_playlists_train['song_band'].nunique()"
   ]
  },
  {
   "cell_type": "code",
   "execution_count": 50,
   "metadata": {
    "scrolled": true
   },
   "outputs": [
    {
     "data": {
      "text/plain": [
       "169"
      ]
     },
     "execution_count": 50,
     "metadata": {},
     "output_type": "execute_result"
    }
   ],
   "source": [
    "# Why the difference?\n",
    "df_playlists_train['song_id'].nunique() - df_playlists_train['song_band'].nunique()"
   ]
  },
  {
   "cell_type": "code",
   "execution_count": null,
   "metadata": {},
   "outputs": [],
   "source": []
  },
  {
   "cell_type": "code",
   "execution_count": 51,
   "metadata": {},
   "outputs": [],
   "source": [
    "#==============================================================================\n",
    "#\n",
    "# BUILD RECOMMENDER\n",
    "#\n",
    "#=============================================================================="
   ]
  },
  {
   "cell_type": "code",
   "execution_count": 52,
   "metadata": {},
   "outputs": [
    {
     "name": "stdout",
     "output_type": "stream",
     "text": [
      "\n",
      "\n",
      "Runtime: 3.68 min\n"
     ]
    }
   ],
   "source": [
    "# ---- CREATE PLAYLIST-SONG MATRIX ----\n",
    "start_clock = time.clock()\n",
    "\n",
    "# Create song_band dummies\n",
    "#playlist_song_mat_train = pd.get_dummies(df_playlists_train['song_band'], sparse=True)\n",
    "playlist_song_mat_train = pd.get_dummies(df_playlists_train['song_band'])\n",
    "\n",
    "# Insert index and playlist columns\n",
    "playlist_song_mat_train.insert(loc=0, column='playlist', value=df_playlists_train['playlist'])\n",
    "playlist_song_mat_train.insert(loc=0, column='index', value=df_playlists_train['index'])\n",
    "\n",
    "end_clock = time.clock()\n",
    "    \n",
    "print('\\n')\n",
    "print('Runtime: ', round((end_clock - start_clock)/60, 2), ' min', sep='')"
   ]
  },
  {
   "cell_type": "code",
   "execution_count": 53,
   "metadata": {},
   "outputs": [
    {
     "name": "stdout",
     "output_type": "stream",
     "text": [
      "<class 'pandas.core.frame.DataFrame'>\n",
      "Int64Index: 1783279 entries, 0 to 1887847\n",
      "Columns: 26616 entries, index to eBop [Chuck Loeb]\n",
      "dtypes: int64(2), uint8(26614)\n",
      "memory usage: 44.2 GB\n"
     ]
    }
   ],
   "source": [
    "playlist_song_mat_train.info()"
   ]
  },
  {
   "cell_type": "code",
   "execution_count": null,
   "metadata": {},
   "outputs": [],
   "source": []
  },
  {
   "cell_type": "code",
   "execution_count": 54,
   "metadata": {},
   "outputs": [],
   "source": [
    "# CONVERT TO DASK DATAFRAME "
   ]
  },
  {
   "cell_type": "code",
   "execution_count": 55,
   "metadata": {},
   "outputs": [
    {
     "name": "stdout",
     "output_type": "stream",
     "text": [
      "Runtime:  3.23  min\n"
     ]
    }
   ],
   "source": [
    "start_clock = time.clock()\n",
    "dd_playlist_song_mat_train = dd.from_pandas(data=playlist_song_mat_train, npartitions=1000)\n",
    "end_clock = time.clock()\n",
    "\n",
    "print('Runtime: ', round((end_clock - start_clock)/60, 2), ' min')"
   ]
  },
  {
   "cell_type": "code",
   "execution_count": 56,
   "metadata": {},
   "outputs": [
    {
     "name": "stdout",
     "output_type": "stream",
     "text": [
      "<class 'dask.dataframe.core.DataFrame'>\n",
      "Columns: 26616 entries, index to eBop [Chuck Loeb]\n",
      "dtypes: int64(2), uint8(26614)"
     ]
    }
   ],
   "source": [
    "dd_playlist_song_mat_train.info()"
   ]
  },
  {
   "cell_type": "code",
   "execution_count": null,
   "metadata": {},
   "outputs": [],
   "source": []
  },
  {
   "cell_type": "code",
   "execution_count": 57,
   "metadata": {},
   "outputs": [],
   "source": [
    "# CLEAR MEMORY "
   ]
  },
  {
   "cell_type": "code",
   "execution_count": 58,
   "metadata": {},
   "outputs": [
    {
     "name": "stdout",
     "output_type": "stream",
     "text": [
      "band_count\t dd_playlist_song_mat_train\t df_playlists_train\t df_song_hash\t playlist_song_mat_train\t song_count\t \n"
     ]
    }
   ],
   "source": [
    "%who DataFrame"
   ]
  },
  {
   "cell_type": "code",
   "execution_count": 59,
   "metadata": {},
   "outputs": [],
   "source": [
    "del(band_count, df_song_hash, playlist_song_mat_train, \n",
    "    playlists_train_list, playlists_train_raw, song_count, train_raw)"
   ]
  },
  {
   "cell_type": "code",
   "execution_count": null,
   "metadata": {},
   "outputs": [],
   "source": []
  },
  {
   "cell_type": "code",
   "execution_count": 60,
   "metadata": {},
   "outputs": [],
   "source": [
    "# GROUP BY PLAYLIST "
   ]
  },
  {
   "cell_type": "code",
   "execution_count": 61,
   "metadata": {},
   "outputs": [
    {
     "name": "stdout",
     "output_type": "stream",
     "text": [
      "Runtime:  7.13  min\n"
     ]
    }
   ],
   "source": [
    "start_clock = time.clock()\n",
    "playlist_song_mat_train = dd_playlist_song_mat_train.groupby('playlist').sum().compute()\n",
    "playlist_song_mat_train.drop(columns='index', inplace=True)\n",
    "end_clock = time.clock()\n",
    "\n",
    "print('Runtime: ', round((end_clock - start_clock)/60, 2), ' min')"
   ]
  },
  {
   "cell_type": "code",
   "execution_count": 62,
   "metadata": {},
   "outputs": [
    {
     "name": "stdout",
     "output_type": "stream",
     "text": [
      "<class 'pandas.core.frame.DataFrame'>\n",
      "Int64Index: 11081 entries, 0 to 11136\n",
      "Columns: 26614 entries,  2112-  [Rush] to eBop [Chuck Loeb]\n",
      "dtypes: uint8(26614)\n",
      "memory usage: 281.3 MB\n"
     ]
    }
   ],
   "source": [
    "playlist_song_mat_train.info()"
   ]
  },
  {
   "cell_type": "code",
   "execution_count": 63,
   "metadata": {},
   "outputs": [],
   "source": [
    "del(dd_playlist_song_mat_train)"
   ]
  },
  {
   "cell_type": "code",
   "execution_count": null,
   "metadata": {},
   "outputs": [],
   "source": []
  },
  {
   "cell_type": "code",
   "execution_count": 64,
   "metadata": {},
   "outputs": [
    {
     "data": {
      "text/plain": [
       "15"
      ]
     },
     "execution_count": 64,
     "metadata": {},
     "output_type": "execute_result"
    }
   ],
   "source": [
    "# Check number of Nelly's #1 songs\n",
    "len(df_playlists_train[df_playlists_train['song_band']=='#1 [Nelly]'])"
   ]
  },
  {
   "cell_type": "code",
   "execution_count": 65,
   "metadata": {},
   "outputs": [
    {
     "data": {
      "text/plain": [
       "15"
      ]
     },
     "execution_count": 65,
     "metadata": {},
     "output_type": "execute_result"
    }
   ],
   "source": [
    "playlist_song_mat_train['#1 [Nelly]'].sum()"
   ]
  },
  {
   "cell_type": "code",
   "execution_count": 66,
   "metadata": {},
   "outputs": [
    {
     "data": {
      "text/plain": [
       "275"
      ]
     },
     "execution_count": 66,
     "metadata": {},
     "output_type": "execute_result"
    }
   ],
   "source": [
    "# Check length of (arbitrarily chosen) playlist 472 (partially checks for re-indexing)\n",
    "sum(playlist_song_mat_train[playlist_song_mat_train.columns[playlist_song_mat_train.iloc[472,:] > 0]].iloc[472])"
   ]
  },
  {
   "cell_type": "code",
   "execution_count": 67,
   "metadata": {},
   "outputs": [
    {
     "data": {
      "text/plain": [
       "275"
      ]
     },
     "execution_count": 67,
     "metadata": {},
     "output_type": "execute_result"
    }
   ],
   "source": [
    "len(df_playlists_train[df_playlists_train['playlist']==472])"
   ]
  },
  {
   "cell_type": "code",
   "execution_count": 68,
   "metadata": {},
   "outputs": [
    {
     "data": {
      "text/plain": [
       "11081"
      ]
     },
     "execution_count": 68,
     "metadata": {},
     "output_type": "execute_result"
    }
   ],
   "source": [
    "# Check number of playlists\n",
    "df_playlists_train['playlist'].nunique()"
   ]
  },
  {
   "cell_type": "code",
   "execution_count": 69,
   "metadata": {},
   "outputs": [
    {
     "data": {
      "text/plain": [
       "11081"
      ]
     },
     "execution_count": 69,
     "metadata": {},
     "output_type": "execute_result"
    }
   ],
   "source": [
    "len(playlist_song_mat_train)"
   ]
  },
  {
   "cell_type": "code",
   "execution_count": 70,
   "metadata": {},
   "outputs": [
    {
     "data": {
      "text/plain": [
       "26614"
      ]
     },
     "execution_count": 70,
     "metadata": {},
     "output_type": "execute_result"
    }
   ],
   "source": [
    "# Check number of unique songs\n",
    "df_playlists_train['song_band'].nunique()"
   ]
  },
  {
   "cell_type": "code",
   "execution_count": 71,
   "metadata": {},
   "outputs": [
    {
     "data": {
      "text/plain": [
       "26614"
      ]
     },
     "execution_count": 71,
     "metadata": {},
     "output_type": "execute_result"
    }
   ],
   "source": [
    "playlist_song_mat_train.shape[1]"
   ]
  },
  {
   "cell_type": "code",
   "execution_count": null,
   "metadata": {},
   "outputs": [],
   "source": []
  },
  {
   "cell_type": "code",
   "execution_count": 73,
   "metadata": {},
   "outputs": [],
   "source": [
    "# Save out dataframes\n",
    "# Dump\n",
    "dill.dump(df_playlists_train, open(\"df_playlists_train.pkl\", \"wb\"))\n",
    "dill.dump(playlist_song_mat_train, open(\"playlist_song_mat_train.pkl\", \"wb\"))\n",
    "\n",
    "# Load\n",
    "#dill_file = open(\"df_raw.pkl\", \"rb\")"
   ]
  },
  {
   "cell_type": "code",
   "execution_count": null,
   "metadata": {},
   "outputs": [],
   "source": []
  },
  {
   "cell_type": "code",
   "execution_count": 90,
   "metadata": {},
   "outputs": [
    {
     "data": {
      "text/plain": [
       "'WEBN [WEBN]'"
      ]
     },
     "execution_count": 90,
     "metadata": {},
     "output_type": "execute_result"
    }
   ],
   "source": [
    "playlist_song_mat_train.max().sort_values(ascending=False).index[0]"
   ]
  },
  {
   "cell_type": "code",
   "execution_count": 94,
   "metadata": {},
   "outputs": [
    {
     "data": {
      "text/html": [
       "<div>\n",
       "<style scoped>\n",
       "    .dataframe tbody tr th:only-of-type {\n",
       "        vertical-align: middle;\n",
       "    }\n",
       "\n",
       "    .dataframe tbody tr th {\n",
       "        vertical-align: top;\n",
       "    }\n",
       "\n",
       "    .dataframe thead th {\n",
       "        text-align: right;\n",
       "    }\n",
       "</style>\n",
       "<table border=\"1\" class=\"dataframe\">\n",
       "  <thead>\n",
       "    <tr style=\"text-align: right;\">\n",
       "      <th></th>\n",
       "      <th>index</th>\n",
       "      <th>song_id</th>\n",
       "      <th>song</th>\n",
       "      <th>band</th>\n",
       "      <th>song_band</th>\n",
       "      <th>count</th>\n",
       "    </tr>\n",
       "    <tr>\n",
       "      <th>playlist</th>\n",
       "      <th></th>\n",
       "      <th></th>\n",
       "      <th></th>\n",
       "      <th></th>\n",
       "      <th></th>\n",
       "      <th></th>\n",
       "    </tr>\n",
       "  </thead>\n",
       "  <tbody>\n",
       "    <tr>\n",
       "      <th>2080</th>\n",
       "      <td>1</td>\n",
       "      <td>1</td>\n",
       "      <td>1</td>\n",
       "      <td>1</td>\n",
       "      <td>1</td>\n",
       "      <td>1</td>\n",
       "    </tr>\n",
       "    <tr>\n",
       "      <th>3955</th>\n",
       "      <td>27</td>\n",
       "      <td>27</td>\n",
       "      <td>27</td>\n",
       "      <td>27</td>\n",
       "      <td>27</td>\n",
       "      <td>27</td>\n",
       "    </tr>\n",
       "    <tr>\n",
       "      <th>3956</th>\n",
       "      <td>51</td>\n",
       "      <td>51</td>\n",
       "      <td>51</td>\n",
       "      <td>51</td>\n",
       "      <td>51</td>\n",
       "      <td>51</td>\n",
       "    </tr>\n",
       "    <tr>\n",
       "      <th>3957</th>\n",
       "      <td>40</td>\n",
       "      <td>40</td>\n",
       "      <td>40</td>\n",
       "      <td>40</td>\n",
       "      <td>40</td>\n",
       "      <td>40</td>\n",
       "    </tr>\n",
       "    <tr>\n",
       "      <th>3958</th>\n",
       "      <td>42</td>\n",
       "      <td>42</td>\n",
       "      <td>42</td>\n",
       "      <td>42</td>\n",
       "      <td>42</td>\n",
       "      <td>42</td>\n",
       "    </tr>\n",
       "    <tr>\n",
       "      <th>3959</th>\n",
       "      <td>42</td>\n",
       "      <td>42</td>\n",
       "      <td>42</td>\n",
       "      <td>42</td>\n",
       "      <td>42</td>\n",
       "      <td>42</td>\n",
       "    </tr>\n",
       "    <tr>\n",
       "      <th>3960</th>\n",
       "      <td>40</td>\n",
       "      <td>40</td>\n",
       "      <td>40</td>\n",
       "      <td>40</td>\n",
       "      <td>40</td>\n",
       "      <td>40</td>\n",
       "    </tr>\n",
       "    <tr>\n",
       "      <th>3961</th>\n",
       "      <td>45</td>\n",
       "      <td>45</td>\n",
       "      <td>45</td>\n",
       "      <td>45</td>\n",
       "      <td>45</td>\n",
       "      <td>45</td>\n",
       "    </tr>\n",
       "    <tr>\n",
       "      <th>5673</th>\n",
       "      <td>23</td>\n",
       "      <td>23</td>\n",
       "      <td>23</td>\n",
       "      <td>23</td>\n",
       "      <td>23</td>\n",
       "      <td>23</td>\n",
       "    </tr>\n",
       "    <tr>\n",
       "      <th>5674</th>\n",
       "      <td>47</td>\n",
       "      <td>47</td>\n",
       "      <td>47</td>\n",
       "      <td>47</td>\n",
       "      <td>47</td>\n",
       "      <td>47</td>\n",
       "    </tr>\n",
       "    <tr>\n",
       "      <th>5675</th>\n",
       "      <td>39</td>\n",
       "      <td>39</td>\n",
       "      <td>39</td>\n",
       "      <td>39</td>\n",
       "      <td>39</td>\n",
       "      <td>39</td>\n",
       "    </tr>\n",
       "    <tr>\n",
       "      <th>5676</th>\n",
       "      <td>36</td>\n",
       "      <td>36</td>\n",
       "      <td>36</td>\n",
       "      <td>36</td>\n",
       "      <td>36</td>\n",
       "      <td>36</td>\n",
       "    </tr>\n",
       "    <tr>\n",
       "      <th>5677</th>\n",
       "      <td>42</td>\n",
       "      <td>42</td>\n",
       "      <td>42</td>\n",
       "      <td>42</td>\n",
       "      <td>42</td>\n",
       "      <td>42</td>\n",
       "    </tr>\n",
       "    <tr>\n",
       "      <th>5678</th>\n",
       "      <td>45</td>\n",
       "      <td>45</td>\n",
       "      <td>45</td>\n",
       "      <td>45</td>\n",
       "      <td>45</td>\n",
       "      <td>45</td>\n",
       "    </tr>\n",
       "    <tr>\n",
       "      <th>5679</th>\n",
       "      <td>45</td>\n",
       "      <td>45</td>\n",
       "      <td>45</td>\n",
       "      <td>45</td>\n",
       "      <td>45</td>\n",
       "      <td>45</td>\n",
       "    </tr>\n",
       "  </tbody>\n",
       "</table>\n",
       "</div>"
      ],
      "text/plain": [
       "          index  song_id  song  band  song_band  count\n",
       "playlist                                              \n",
       "2080          1        1     1     1          1      1\n",
       "3955         27       27    27    27         27     27\n",
       "3956         51       51    51    51         51     51\n",
       "3957         40       40    40    40         40     40\n",
       "3958         42       42    42    42         42     42\n",
       "3959         42       42    42    42         42     42\n",
       "3960         40       40    40    40         40     40\n",
       "3961         45       45    45    45         45     45\n",
       "5673         23       23    23    23         23     23\n",
       "5674         47       47    47    47         47     47\n",
       "5675         39       39    39    39         39     39\n",
       "5676         36       36    36    36         36     36\n",
       "5677         42       42    42    42         42     42\n",
       "5678         45       45    45    45         45     45\n",
       "5679         45       45    45    45         45     45"
      ]
     },
     "execution_count": 94,
     "metadata": {},
     "output_type": "execute_result"
    }
   ],
   "source": [
    "df_playlists_train[df_playlists_train['song_band']==playlist_song_mat_train.max().sort_values(ascending=False).index[0]].groupby('playlist').count()"
   ]
  },
  {
   "cell_type": "code",
   "execution_count": 95,
   "metadata": {},
   "outputs": [
    {
     "data": {
      "text/html": [
       "<div>\n",
       "<style scoped>\n",
       "    .dataframe tbody tr th:only-of-type {\n",
       "        vertical-align: middle;\n",
       "    }\n",
       "\n",
       "    .dataframe tbody tr th {\n",
       "        vertical-align: top;\n",
       "    }\n",
       "\n",
       "    .dataframe thead th {\n",
       "        text-align: right;\n",
       "    }\n",
       "</style>\n",
       "<table border=\"1\" class=\"dataframe\">\n",
       "  <thead>\n",
       "    <tr style=\"text-align: right;\">\n",
       "      <th></th>\n",
       "      <th>index</th>\n",
       "      <th>playlist</th>\n",
       "      <th>song_id</th>\n",
       "      <th>song</th>\n",
       "      <th>band</th>\n",
       "      <th>song_band</th>\n",
       "      <th>count</th>\n",
       "    </tr>\n",
       "  </thead>\n",
       "  <tbody>\n",
       "    <tr>\n",
       "      <th>673651</th>\n",
       "      <td>673670</td>\n",
       "      <td>3956</td>\n",
       "      <td>14517</td>\n",
       "      <td>Set To Fail</td>\n",
       "      <td>Lamb Of God</td>\n",
       "      <td>Set To Fail [Lamb Of God]</td>\n",
       "      <td>7</td>\n",
       "    </tr>\n",
       "    <tr>\n",
       "      <th>673653</th>\n",
       "      <td>673672</td>\n",
       "      <td>3956</td>\n",
       "      <td>35202</td>\n",
       "      <td>WEBN</td>\n",
       "      <td>WEBN</td>\n",
       "      <td>WEBN [WEBN]</td>\n",
       "      <td>565</td>\n",
       "    </tr>\n",
       "    <tr>\n",
       "      <th>673660</th>\n",
       "      <td>673679</td>\n",
       "      <td>3956</td>\n",
       "      <td>35202</td>\n",
       "      <td>WEBN</td>\n",
       "      <td>WEBN</td>\n",
       "      <td>WEBN [WEBN]</td>\n",
       "      <td>565</td>\n",
       "    </tr>\n",
       "    <tr>\n",
       "      <th>673662</th>\n",
       "      <td>673681</td>\n",
       "      <td>3956</td>\n",
       "      <td>1800</td>\n",
       "      <td>Du Hast</td>\n",
       "      <td>Rammstein</td>\n",
       "      <td>Du Hast [Rammstein]</td>\n",
       "      <td>49</td>\n",
       "    </tr>\n",
       "    <tr>\n",
       "      <th>673667</th>\n",
       "      <td>673686</td>\n",
       "      <td>3956</td>\n",
       "      <td>9996</td>\n",
       "      <td>Another Brick In The Wall (Part 1)</td>\n",
       "      <td>Pink Floyd</td>\n",
       "      <td>Another Brick In The Wall (Part 1) [Pink Floyd]</td>\n",
       "      <td>173</td>\n",
       "    </tr>\n",
       "    <tr>\n",
       "      <th>673668</th>\n",
       "      <td>673687</td>\n",
       "      <td>3956</td>\n",
       "      <td>2756</td>\n",
       "      <td>Another Brick In The Wall (Part 2)</td>\n",
       "      <td>Pink Floyd</td>\n",
       "      <td>Another Brick In The Wall (Part 2) [Pink Floyd]</td>\n",
       "      <td>580</td>\n",
       "    </tr>\n",
       "    <tr>\n",
       "      <th>673669</th>\n",
       "      <td>673688</td>\n",
       "      <td>3956</td>\n",
       "      <td>1953</td>\n",
       "      <td>Control</td>\n",
       "      <td>Puddle Of Mudd</td>\n",
       "      <td>Control [Puddle Of Mudd]</td>\n",
       "      <td>343</td>\n",
       "    </tr>\n",
       "    <tr>\n",
       "      <th>673670</th>\n",
       "      <td>673689</td>\n",
       "      <td>3956</td>\n",
       "      <td>35202</td>\n",
       "      <td>WEBN</td>\n",
       "      <td>WEBN</td>\n",
       "      <td>WEBN [WEBN]</td>\n",
       "      <td>565</td>\n",
       "    </tr>\n",
       "    <tr>\n",
       "      <th>673671</th>\n",
       "      <td>673690</td>\n",
       "      <td>3956</td>\n",
       "      <td>35956</td>\n",
       "      <td>Soul To Squeeze</td>\n",
       "      <td>Red Hot Chili Peppers</td>\n",
       "      <td>Soul To Squeeze [Red Hot Chili Peppers]</td>\n",
       "      <td>6</td>\n",
       "    </tr>\n",
       "    <tr>\n",
       "      <th>673672</th>\n",
       "      <td>673691</td>\n",
       "      <td>3956</td>\n",
       "      <td>1988</td>\n",
       "      <td>Soul To Squeeze</td>\n",
       "      <td>The Red Hot Chili Peppers</td>\n",
       "      <td>Soul To Squeeze [The Red Hot Chili Peppers]</td>\n",
       "      <td>601</td>\n",
       "    </tr>\n",
       "    <tr>\n",
       "      <th>673673</th>\n",
       "      <td>673692</td>\n",
       "      <td>3956</td>\n",
       "      <td>50107</td>\n",
       "      <td>Welcome To The Family</td>\n",
       "      <td>Avenged Sevenfold</td>\n",
       "      <td>Welcome To The Family [Avenged Sevenfold]</td>\n",
       "      <td>49</td>\n",
       "    </tr>\n",
       "    <tr>\n",
       "      <th>673674</th>\n",
       "      <td>673693</td>\n",
       "      <td>3956</td>\n",
       "      <td>1892</td>\n",
       "      <td>Black</td>\n",
       "      <td>Pearl Jam</td>\n",
       "      <td>Black [Pearl Jam]</td>\n",
       "      <td>477</td>\n",
       "    </tr>\n",
       "    <tr>\n",
       "      <th>673675</th>\n",
       "      <td>673694</td>\n",
       "      <td>3956</td>\n",
       "      <td>10027</td>\n",
       "      <td>Houses Of The Holy</td>\n",
       "      <td>Led Zeppelin</td>\n",
       "      <td>Houses Of The Holy [Led Zeppelin]</td>\n",
       "      <td>78</td>\n",
       "    </tr>\n",
       "    <tr>\n",
       "      <th>673676</th>\n",
       "      <td>673695</td>\n",
       "      <td>3956</td>\n",
       "      <td>2041</td>\n",
       "      <td>Snuff</td>\n",
       "      <td>Slipknot</td>\n",
       "      <td>Snuff [Slipknot]</td>\n",
       "      <td>826</td>\n",
       "    </tr>\n",
       "    <tr>\n",
       "      <th>673678</th>\n",
       "      <td>673697</td>\n",
       "      <td>3956</td>\n",
       "      <td>5460</td>\n",
       "      <td>Today</td>\n",
       "      <td>Smashing Pumpkins</td>\n",
       "      <td>Today [Smashing Pumpkins]</td>\n",
       "      <td>355</td>\n",
       "    </tr>\n",
       "    <tr>\n",
       "      <th>673679</th>\n",
       "      <td>673698</td>\n",
       "      <td>3956</td>\n",
       "      <td>14580</td>\n",
       "      <td>Nutshell</td>\n",
       "      <td>Alice In Chains</td>\n",
       "      <td>Nutshell [Alice In Chains]</td>\n",
       "      <td>74</td>\n",
       "    </tr>\n",
       "    <tr>\n",
       "      <th>673680</th>\n",
       "      <td>673699</td>\n",
       "      <td>3956</td>\n",
       "      <td>50156</td>\n",
       "      <td>Diamond Eyes /</td>\n",
       "      <td>Shinedown</td>\n",
       "      <td>Diamond Eyes / [Shinedown]</td>\n",
       "      <td>39</td>\n",
       "    </tr>\n",
       "    <tr>\n",
       "      <th>673681</th>\n",
       "      <td>673700</td>\n",
       "      <td>3956</td>\n",
       "      <td>20005</td>\n",
       "      <td>Diamond Eyes (Boom-Lay Boom-Lay Boom)</td>\n",
       "      <td>Shinedown</td>\n",
       "      <td>Diamond Eyes (Boom-Lay Boom-Lay Boom) [Shinedown]</td>\n",
       "      <td>1499</td>\n",
       "    </tr>\n",
       "    <tr>\n",
       "      <th>673682</th>\n",
       "      <td>673701</td>\n",
       "      <td>3956</td>\n",
       "      <td>4093</td>\n",
       "      <td>I Remember You</td>\n",
       "      <td>Skid Row</td>\n",
       "      <td>I Remember You [Skid Row]</td>\n",
       "      <td>230</td>\n",
       "    </tr>\n",
       "    <tr>\n",
       "      <th>673683</th>\n",
       "      <td>673702</td>\n",
       "      <td>3956</td>\n",
       "      <td>35202</td>\n",
       "      <td>WEBN</td>\n",
       "      <td>WEBN</td>\n",
       "      <td>WEBN [WEBN]</td>\n",
       "      <td>565</td>\n",
       "    </tr>\n",
       "    <tr>\n",
       "      <th>673684</th>\n",
       "      <td>673703</td>\n",
       "      <td>3956</td>\n",
       "      <td>2147</td>\n",
       "      <td>In The End</td>\n",
       "      <td>Linkin Park</td>\n",
       "      <td>In The End [Linkin Park]</td>\n",
       "      <td>553</td>\n",
       "    </tr>\n",
       "    <tr>\n",
       "      <th>673685</th>\n",
       "      <td>673704</td>\n",
       "      <td>3956</td>\n",
       "      <td>50129</td>\n",
       "      <td>Another Way To Die</td>\n",
       "      <td>Disturbed</td>\n",
       "      <td>Another Way To Die [Disturbed]</td>\n",
       "      <td>59</td>\n",
       "    </tr>\n",
       "    <tr>\n",
       "      <th>673686</th>\n",
       "      <td>673705</td>\n",
       "      <td>3956</td>\n",
       "      <td>1803</td>\n",
       "      <td>Another Way To Die</td>\n",
       "      <td>Disturbed</td>\n",
       "      <td>Another Way To Die [Disturbed]</td>\n",
       "      <td>1483</td>\n",
       "    </tr>\n",
       "    <tr>\n",
       "      <th>673688</th>\n",
       "      <td>673707</td>\n",
       "      <td>3956</td>\n",
       "      <td>14583</td>\n",
       "      <td>Lakini's Juice</td>\n",
       "      <td>Live</td>\n",
       "      <td>Lakini's Juice [Live]</td>\n",
       "      <td>57</td>\n",
       "    </tr>\n",
       "    <tr>\n",
       "      <th>673689</th>\n",
       "      <td>673708</td>\n",
       "      <td>3956</td>\n",
       "      <td>2172</td>\n",
       "      <td>Fade To Black</td>\n",
       "      <td>Metallica</td>\n",
       "      <td>Fade To Black [Metallica]</td>\n",
       "      <td>459</td>\n",
       "    </tr>\n",
       "    <tr>\n",
       "      <th>673690</th>\n",
       "      <td>673709</td>\n",
       "      <td>3956</td>\n",
       "      <td>3158</td>\n",
       "      <td>Rebel Yell</td>\n",
       "      <td>Billy Idol</td>\n",
       "      <td>Rebel Yell [Billy Idol]</td>\n",
       "      <td>454</td>\n",
       "    </tr>\n",
       "    <tr>\n",
       "      <th>673691</th>\n",
       "      <td>673710</td>\n",
       "      <td>3956</td>\n",
       "      <td>50094</td>\n",
       "      <td>Fix Me</td>\n",
       "      <td>10 Years</td>\n",
       "      <td>Fix Me [10 Years]</td>\n",
       "      <td>18</td>\n",
       "    </tr>\n",
       "    <tr>\n",
       "      <th>673692</th>\n",
       "      <td>673711</td>\n",
       "      <td>3956</td>\n",
       "      <td>20014</td>\n",
       "      <td>Fix Me</td>\n",
       "      <td>10 Years</td>\n",
       "      <td>Fix Me [10 Years]</td>\n",
       "      <td>367</td>\n",
       "    </tr>\n",
       "    <tr>\n",
       "      <th>673693</th>\n",
       "      <td>673712</td>\n",
       "      <td>3956</td>\n",
       "      <td>35202</td>\n",
       "      <td>WEBN</td>\n",
       "      <td>WEBN</td>\n",
       "      <td>WEBN [WEBN]</td>\n",
       "      <td>565</td>\n",
       "    </tr>\n",
       "    <tr>\n",
       "      <th>673694</th>\n",
       "      <td>673713</td>\n",
       "      <td>3956</td>\n",
       "      <td>1799</td>\n",
       "      <td>Learn To Fly</td>\n",
       "      <td>Foo Fighters</td>\n",
       "      <td>Learn To Fly [Foo Fighters]</td>\n",
       "      <td>506</td>\n",
       "    </tr>\n",
       "    <tr>\n",
       "      <th>...</th>\n",
       "      <td>...</td>\n",
       "      <td>...</td>\n",
       "      <td>...</td>\n",
       "      <td>...</td>\n",
       "      <td>...</td>\n",
       "      <td>...</td>\n",
       "      <td>...</td>\n",
       "    </tr>\n",
       "    <tr>\n",
       "      <th>674027</th>\n",
       "      <td>674046</td>\n",
       "      <td>3956</td>\n",
       "      <td>50113</td>\n",
       "      <td>Burn</td>\n",
       "      <td>Papa Roach</td>\n",
       "      <td>Burn [Papa Roach]</td>\n",
       "      <td>36</td>\n",
       "    </tr>\n",
       "    <tr>\n",
       "      <th>674028</th>\n",
       "      <td>674047</td>\n",
       "      <td>3956</td>\n",
       "      <td>20011</td>\n",
       "      <td>Burn</td>\n",
       "      <td>Papa Roach</td>\n",
       "      <td>Burn [Papa Roach]</td>\n",
       "      <td>1068</td>\n",
       "    </tr>\n",
       "    <tr>\n",
       "      <th>674029</th>\n",
       "      <td>674048</td>\n",
       "      <td>3956</td>\n",
       "      <td>50214</td>\n",
       "      <td>Paranoid</td>\n",
       "      <td>Black Sabbath</td>\n",
       "      <td>Paranoid [Black Sabbath]</td>\n",
       "      <td>7</td>\n",
       "    </tr>\n",
       "    <tr>\n",
       "      <th>674030</th>\n",
       "      <td>674049</td>\n",
       "      <td>3956</td>\n",
       "      <td>1883</td>\n",
       "      <td>Paranoid</td>\n",
       "      <td>Black Sabbath</td>\n",
       "      <td>Paranoid [Black Sabbath]</td>\n",
       "      <td>527</td>\n",
       "    </tr>\n",
       "    <tr>\n",
       "      <th>674031</th>\n",
       "      <td>674050</td>\n",
       "      <td>3956</td>\n",
       "      <td>2080</td>\n",
       "      <td>Santeria</td>\n",
       "      <td>Sublime</td>\n",
       "      <td>Santeria [Sublime]</td>\n",
       "      <td>672</td>\n",
       "    </tr>\n",
       "    <tr>\n",
       "      <th>674032</th>\n",
       "      <td>674051</td>\n",
       "      <td>3956</td>\n",
       "      <td>5610</td>\n",
       "      <td>Rusty Cage</td>\n",
       "      <td>Soundgarden</td>\n",
       "      <td>Rusty Cage [Soundgarden]</td>\n",
       "      <td>188</td>\n",
       "    </tr>\n",
       "    <tr>\n",
       "      <th>674033</th>\n",
       "      <td>674052</td>\n",
       "      <td>3956</td>\n",
       "      <td>50215</td>\n",
       "      <td>White Wedding</td>\n",
       "      <td>Billy Idol</td>\n",
       "      <td>White Wedding [Billy Idol]</td>\n",
       "      <td>10</td>\n",
       "    </tr>\n",
       "    <tr>\n",
       "      <th>674034</th>\n",
       "      <td>674053</td>\n",
       "      <td>3956</td>\n",
       "      <td>2969</td>\n",
       "      <td>White Wedding (Part I)</td>\n",
       "      <td>Billy Idol</td>\n",
       "      <td>White Wedding (Part I) [Billy Idol]</td>\n",
       "      <td>377</td>\n",
       "    </tr>\n",
       "    <tr>\n",
       "      <th>674035</th>\n",
       "      <td>674054</td>\n",
       "      <td>3956</td>\n",
       "      <td>35202</td>\n",
       "      <td>WEBN</td>\n",
       "      <td>WEBN</td>\n",
       "      <td>WEBN [WEBN]</td>\n",
       "      <td>565</td>\n",
       "    </tr>\n",
       "    <tr>\n",
       "      <th>674036</th>\n",
       "      <td>674055</td>\n",
       "      <td>3956</td>\n",
       "      <td>50107</td>\n",
       "      <td>Welcome To The Family</td>\n",
       "      <td>Avenged Sevenfold</td>\n",
       "      <td>Welcome To The Family [Avenged Sevenfold]</td>\n",
       "      <td>49</td>\n",
       "    </tr>\n",
       "    <tr>\n",
       "      <th>674037</th>\n",
       "      <td>674056</td>\n",
       "      <td>3956</td>\n",
       "      <td>5505</td>\n",
       "      <td>Welcome To The Family</td>\n",
       "      <td>Avenged Sevenfold</td>\n",
       "      <td>Welcome To The Family [Avenged Sevenfold]</td>\n",
       "      <td>1591</td>\n",
       "    </tr>\n",
       "    <tr>\n",
       "      <th>674038</th>\n",
       "      <td>674057</td>\n",
       "      <td>3956</td>\n",
       "      <td>2164</td>\n",
       "      <td>Voodoo</td>\n",
       "      <td>Godsmack</td>\n",
       "      <td>Voodoo [Godsmack]</td>\n",
       "      <td>368</td>\n",
       "    </tr>\n",
       "    <tr>\n",
       "      <th>674039</th>\n",
       "      <td>674058</td>\n",
       "      <td>3956</td>\n",
       "      <td>5617</td>\n",
       "      <td>Used To Love Her</td>\n",
       "      <td>Guns N' Roses</td>\n",
       "      <td>Used To Love Her [Guns N' Roses]</td>\n",
       "      <td>150</td>\n",
       "    </tr>\n",
       "    <tr>\n",
       "      <th>674041</th>\n",
       "      <td>674060</td>\n",
       "      <td>3956</td>\n",
       "      <td>5632</td>\n",
       "      <td>Tomorrow</td>\n",
       "      <td>Silverchair</td>\n",
       "      <td>Tomorrow [Silverchair]</td>\n",
       "      <td>287</td>\n",
       "    </tr>\n",
       "    <tr>\n",
       "      <th>674043</th>\n",
       "      <td>674062</td>\n",
       "      <td>3956</td>\n",
       "      <td>14533</td>\n",
       "      <td>Live Wire</td>\n",
       "      <td>AC/DC</td>\n",
       "      <td>Live Wire [AC/DC]</td>\n",
       "      <td>30</td>\n",
       "    </tr>\n",
       "    <tr>\n",
       "      <th>674044</th>\n",
       "      <td>674063</td>\n",
       "      <td>3956</td>\n",
       "      <td>50109</td>\n",
       "      <td>PORN STAR DANCING</td>\n",
       "      <td>MY DARKEST DAYS</td>\n",
       "      <td>PORN STAR DANCING [MY DARKEST DAYS]</td>\n",
       "      <td>27</td>\n",
       "    </tr>\n",
       "    <tr>\n",
       "      <th>674045</th>\n",
       "      <td>674064</td>\n",
       "      <td>3956</td>\n",
       "      <td>1885</td>\n",
       "      <td>Porn Star Dancing (w/ Zakk Wylde)</td>\n",
       "      <td>My Darkest Days</td>\n",
       "      <td>Porn Star Dancing (w/ Zakk Wylde) [My Darkest ...</td>\n",
       "      <td>1375</td>\n",
       "    </tr>\n",
       "    <tr>\n",
       "      <th>674046</th>\n",
       "      <td>674065</td>\n",
       "      <td>3956</td>\n",
       "      <td>35202</td>\n",
       "      <td>WEBN</td>\n",
       "      <td>WEBN</td>\n",
       "      <td>WEBN [WEBN]</td>\n",
       "      <td>565</td>\n",
       "    </tr>\n",
       "    <tr>\n",
       "      <th>674047</th>\n",
       "      <td>674066</td>\n",
       "      <td>3956</td>\n",
       "      <td>10114</td>\n",
       "      <td>Save Me</td>\n",
       "      <td>Shinedown</td>\n",
       "      <td>Save Me [Shinedown]</td>\n",
       "      <td>113</td>\n",
       "    </tr>\n",
       "    <tr>\n",
       "      <th>674049</th>\n",
       "      <td>674068</td>\n",
       "      <td>3956</td>\n",
       "      <td>10107</td>\n",
       "      <td>Nobody's Fault But Mine</td>\n",
       "      <td>Led Zeppelin</td>\n",
       "      <td>Nobody's Fault But Mine [Led Zeppelin]</td>\n",
       "      <td>49</td>\n",
       "    </tr>\n",
       "    <tr>\n",
       "      <th>674050</th>\n",
       "      <td>674069</td>\n",
       "      <td>3956</td>\n",
       "      <td>50219</td>\n",
       "      <td>Warrior</td>\n",
       "      <td>Disturbed</td>\n",
       "      <td>Warrior [Disturbed]</td>\n",
       "      <td>8</td>\n",
       "    </tr>\n",
       "    <tr>\n",
       "      <th>674051</th>\n",
       "      <td>674070</td>\n",
       "      <td>3956</td>\n",
       "      <td>27050</td>\n",
       "      <td>Warrior</td>\n",
       "      <td>Disturbed</td>\n",
       "      <td>Warrior [Disturbed]</td>\n",
       "      <td>431</td>\n",
       "    </tr>\n",
       "    <tr>\n",
       "      <th>674052</th>\n",
       "      <td>674071</td>\n",
       "      <td>3956</td>\n",
       "      <td>1875</td>\n",
       "      <td>Toxicity</td>\n",
       "      <td>System Of A Down</td>\n",
       "      <td>Toxicity [System Of A Down]</td>\n",
       "      <td>401</td>\n",
       "    </tr>\n",
       "    <tr>\n",
       "      <th>674053</th>\n",
       "      <td>674072</td>\n",
       "      <td>3956</td>\n",
       "      <td>10176</td>\n",
       "      <td>The Man Who Sold The World</td>\n",
       "      <td>Nirvana</td>\n",
       "      <td>The Man Who Sold The World [Nirvana]</td>\n",
       "      <td>195</td>\n",
       "    </tr>\n",
       "    <tr>\n",
       "      <th>674054</th>\n",
       "      <td>674073</td>\n",
       "      <td>3956</td>\n",
       "      <td>35202</td>\n",
       "      <td>WEBN</td>\n",
       "      <td>WEBN</td>\n",
       "      <td>WEBN [WEBN]</td>\n",
       "      <td>565</td>\n",
       "    </tr>\n",
       "    <tr>\n",
       "      <th>674055</th>\n",
       "      <td>674074</td>\n",
       "      <td>3956</td>\n",
       "      <td>2633</td>\n",
       "      <td>Sweet Home Alabama</td>\n",
       "      <td>Lynyrd Skynyrd</td>\n",
       "      <td>Sweet Home Alabama [Lynyrd Skynyrd]</td>\n",
       "      <td>621</td>\n",
       "    </tr>\n",
       "    <tr>\n",
       "      <th>674056</th>\n",
       "      <td>674075</td>\n",
       "      <td>3956</td>\n",
       "      <td>50104</td>\n",
       "      <td>THE GOOD LIFE</td>\n",
       "      <td>Three Days Grace</td>\n",
       "      <td>THE GOOD LIFE [Three Days Grace]</td>\n",
       "      <td>63</td>\n",
       "    </tr>\n",
       "    <tr>\n",
       "      <th>674057</th>\n",
       "      <td>674076</td>\n",
       "      <td>3956</td>\n",
       "      <td>5416</td>\n",
       "      <td>The Good Life</td>\n",
       "      <td>Three Days Grace</td>\n",
       "      <td>The Good Life [Three Days Grace]</td>\n",
       "      <td>1115</td>\n",
       "    </tr>\n",
       "    <tr>\n",
       "      <th>674059</th>\n",
       "      <td>674078</td>\n",
       "      <td>3956</td>\n",
       "      <td>1811</td>\n",
       "      <td>It's Been Awhile</td>\n",
       "      <td>Staind</td>\n",
       "      <td>It's Been Awhile [Staind]</td>\n",
       "      <td>505</td>\n",
       "    </tr>\n",
       "    <tr>\n",
       "      <th>674061</th>\n",
       "      <td>674080</td>\n",
       "      <td>3956</td>\n",
       "      <td>1954</td>\n",
       "      <td>The Number Of The Beast</td>\n",
       "      <td>Iron Maiden</td>\n",
       "      <td>The Number Of The Beast [Iron Maiden]</td>\n",
       "      <td>127</td>\n",
       "    </tr>\n",
       "  </tbody>\n",
       "</table>\n",
       "<p>360 rows × 7 columns</p>\n",
       "</div>"
      ],
      "text/plain": [
       "         index  playlist  song_id                                   song  \\\n",
       "673651  673670      3956    14517                            Set To Fail   \n",
       "673653  673672      3956    35202                                   WEBN   \n",
       "673660  673679      3956    35202                                   WEBN   \n",
       "673662  673681      3956     1800                                Du Hast   \n",
       "673667  673686      3956     9996     Another Brick In The Wall (Part 1)   \n",
       "673668  673687      3956     2756     Another Brick In The Wall (Part 2)   \n",
       "673669  673688      3956     1953                                Control   \n",
       "673670  673689      3956    35202                                   WEBN   \n",
       "673671  673690      3956    35956                        Soul To Squeeze   \n",
       "673672  673691      3956     1988                        Soul To Squeeze   \n",
       "673673  673692      3956    50107                  Welcome To The Family   \n",
       "673674  673693      3956     1892                                  Black   \n",
       "673675  673694      3956    10027                     Houses Of The Holy   \n",
       "673676  673695      3956     2041                                  Snuff   \n",
       "673678  673697      3956     5460                                  Today   \n",
       "673679  673698      3956    14580                               Nutshell   \n",
       "673680  673699      3956    50156                         Diamond Eyes /   \n",
       "673681  673700      3956    20005  Diamond Eyes (Boom-Lay Boom-Lay Boom)   \n",
       "673682  673701      3956     4093                         I Remember You   \n",
       "673683  673702      3956    35202                                   WEBN   \n",
       "673684  673703      3956     2147                             In The End   \n",
       "673685  673704      3956    50129                     Another Way To Die   \n",
       "673686  673705      3956     1803                     Another Way To Die   \n",
       "673688  673707      3956    14583                         Lakini's Juice   \n",
       "673689  673708      3956     2172                          Fade To Black   \n",
       "673690  673709      3956     3158                             Rebel Yell   \n",
       "673691  673710      3956    50094                                 Fix Me   \n",
       "673692  673711      3956    20014                                 Fix Me   \n",
       "673693  673712      3956    35202                                   WEBN   \n",
       "673694  673713      3956     1799                           Learn To Fly   \n",
       "...        ...       ...      ...                                    ...   \n",
       "674027  674046      3956    50113                                   Burn   \n",
       "674028  674047      3956    20011                                   Burn   \n",
       "674029  674048      3956    50214                               Paranoid   \n",
       "674030  674049      3956     1883                               Paranoid   \n",
       "674031  674050      3956     2080                               Santeria   \n",
       "674032  674051      3956     5610                             Rusty Cage   \n",
       "674033  674052      3956    50215                          White Wedding   \n",
       "674034  674053      3956     2969                 White Wedding (Part I)   \n",
       "674035  674054      3956    35202                                   WEBN   \n",
       "674036  674055      3956    50107                  Welcome To The Family   \n",
       "674037  674056      3956     5505                  Welcome To The Family   \n",
       "674038  674057      3956     2164                                 Voodoo   \n",
       "674039  674058      3956     5617                       Used To Love Her   \n",
       "674041  674060      3956     5632                               Tomorrow   \n",
       "674043  674062      3956    14533                              Live Wire   \n",
       "674044  674063      3956    50109                      PORN STAR DANCING   \n",
       "674045  674064      3956     1885      Porn Star Dancing (w/ Zakk Wylde)   \n",
       "674046  674065      3956    35202                                   WEBN   \n",
       "674047  674066      3956    10114                                Save Me   \n",
       "674049  674068      3956    10107                Nobody's Fault But Mine   \n",
       "674050  674069      3956    50219                                Warrior   \n",
       "674051  674070      3956    27050                                Warrior   \n",
       "674052  674071      3956     1875                               Toxicity   \n",
       "674053  674072      3956    10176             The Man Who Sold The World   \n",
       "674054  674073      3956    35202                                   WEBN   \n",
       "674055  674074      3956     2633                     Sweet Home Alabama   \n",
       "674056  674075      3956    50104                          THE GOOD LIFE   \n",
       "674057  674076      3956     5416                          The Good Life   \n",
       "674059  674078      3956     1811                       It's Been Awhile   \n",
       "674061  674080      3956     1954                The Number Of The Beast   \n",
       "\n",
       "                             band  \\\n",
       "673651                Lamb Of God   \n",
       "673653                       WEBN   \n",
       "673660                       WEBN   \n",
       "673662                  Rammstein   \n",
       "673667                 Pink Floyd   \n",
       "673668                 Pink Floyd   \n",
       "673669             Puddle Of Mudd   \n",
       "673670                       WEBN   \n",
       "673671      Red Hot Chili Peppers   \n",
       "673672  The Red Hot Chili Peppers   \n",
       "673673          Avenged Sevenfold   \n",
       "673674                  Pearl Jam   \n",
       "673675               Led Zeppelin   \n",
       "673676                   Slipknot   \n",
       "673678          Smashing Pumpkins   \n",
       "673679            Alice In Chains   \n",
       "673680                  Shinedown   \n",
       "673681                  Shinedown   \n",
       "673682                   Skid Row   \n",
       "673683                       WEBN   \n",
       "673684                Linkin Park   \n",
       "673685                  Disturbed   \n",
       "673686                  Disturbed   \n",
       "673688                       Live   \n",
       "673689                  Metallica   \n",
       "673690                 Billy Idol   \n",
       "673691                   10 Years   \n",
       "673692                   10 Years   \n",
       "673693                       WEBN   \n",
       "673694               Foo Fighters   \n",
       "...                           ...   \n",
       "674027                 Papa Roach   \n",
       "674028                 Papa Roach   \n",
       "674029              Black Sabbath   \n",
       "674030              Black Sabbath   \n",
       "674031                    Sublime   \n",
       "674032                Soundgarden   \n",
       "674033                 Billy Idol   \n",
       "674034                 Billy Idol   \n",
       "674035                       WEBN   \n",
       "674036          Avenged Sevenfold   \n",
       "674037          Avenged Sevenfold   \n",
       "674038                   Godsmack   \n",
       "674039              Guns N' Roses   \n",
       "674041                Silverchair   \n",
       "674043                      AC/DC   \n",
       "674044            MY DARKEST DAYS   \n",
       "674045            My Darkest Days   \n",
       "674046                       WEBN   \n",
       "674047                  Shinedown   \n",
       "674049               Led Zeppelin   \n",
       "674050                  Disturbed   \n",
       "674051                  Disturbed   \n",
       "674052           System Of A Down   \n",
       "674053                    Nirvana   \n",
       "674054                       WEBN   \n",
       "674055             Lynyrd Skynyrd   \n",
       "674056           Three Days Grace   \n",
       "674057           Three Days Grace   \n",
       "674059                     Staind   \n",
       "674061                Iron Maiden   \n",
       "\n",
       "                                                song_band  count  \n",
       "673651                          Set To Fail [Lamb Of God]      7  \n",
       "673653                                        WEBN [WEBN]    565  \n",
       "673660                                        WEBN [WEBN]    565  \n",
       "673662                                Du Hast [Rammstein]     49  \n",
       "673667    Another Brick In The Wall (Part 1) [Pink Floyd]    173  \n",
       "673668    Another Brick In The Wall (Part 2) [Pink Floyd]    580  \n",
       "673669                           Control [Puddle Of Mudd]    343  \n",
       "673670                                        WEBN [WEBN]    565  \n",
       "673671            Soul To Squeeze [Red Hot Chili Peppers]      6  \n",
       "673672        Soul To Squeeze [The Red Hot Chili Peppers]    601  \n",
       "673673          Welcome To The Family [Avenged Sevenfold]     49  \n",
       "673674                                  Black [Pearl Jam]    477  \n",
       "673675                  Houses Of The Holy [Led Zeppelin]     78  \n",
       "673676                                   Snuff [Slipknot]    826  \n",
       "673678                          Today [Smashing Pumpkins]    355  \n",
       "673679                         Nutshell [Alice In Chains]     74  \n",
       "673680                         Diamond Eyes / [Shinedown]     39  \n",
       "673681  Diamond Eyes (Boom-Lay Boom-Lay Boom) [Shinedown]   1499  \n",
       "673682                          I Remember You [Skid Row]    230  \n",
       "673683                                        WEBN [WEBN]    565  \n",
       "673684                           In The End [Linkin Park]    553  \n",
       "673685                     Another Way To Die [Disturbed]     59  \n",
       "673686                     Another Way To Die [Disturbed]   1483  \n",
       "673688                              Lakini's Juice [Live]     57  \n",
       "673689                          Fade To Black [Metallica]    459  \n",
       "673690                            Rebel Yell [Billy Idol]    454  \n",
       "673691                                  Fix Me [10 Years]     18  \n",
       "673692                                  Fix Me [10 Years]    367  \n",
       "673693                                        WEBN [WEBN]    565  \n",
       "673694                        Learn To Fly [Foo Fighters]    506  \n",
       "...                                                   ...    ...  \n",
       "674027                                  Burn [Papa Roach]     36  \n",
       "674028                                  Burn [Papa Roach]   1068  \n",
       "674029                           Paranoid [Black Sabbath]      7  \n",
       "674030                           Paranoid [Black Sabbath]    527  \n",
       "674031                                 Santeria [Sublime]    672  \n",
       "674032                           Rusty Cage [Soundgarden]    188  \n",
       "674033                         White Wedding [Billy Idol]     10  \n",
       "674034                White Wedding (Part I) [Billy Idol]    377  \n",
       "674035                                        WEBN [WEBN]    565  \n",
       "674036          Welcome To The Family [Avenged Sevenfold]     49  \n",
       "674037          Welcome To The Family [Avenged Sevenfold]   1591  \n",
       "674038                                  Voodoo [Godsmack]    368  \n",
       "674039                   Used To Love Her [Guns N' Roses]    150  \n",
       "674041                             Tomorrow [Silverchair]    287  \n",
       "674043                                  Live Wire [AC/DC]     30  \n",
       "674044                PORN STAR DANCING [MY DARKEST DAYS]     27  \n",
       "674045  Porn Star Dancing (w/ Zakk Wylde) [My Darkest ...   1375  \n",
       "674046                                        WEBN [WEBN]    565  \n",
       "674047                                Save Me [Shinedown]    113  \n",
       "674049             Nobody's Fault But Mine [Led Zeppelin]     49  \n",
       "674050                                Warrior [Disturbed]      8  \n",
       "674051                                Warrior [Disturbed]    431  \n",
       "674052                        Toxicity [System Of A Down]    401  \n",
       "674053               The Man Who Sold The World [Nirvana]    195  \n",
       "674054                                        WEBN [WEBN]    565  \n",
       "674055                Sweet Home Alabama [Lynyrd Skynyrd]    621  \n",
       "674056                   THE GOOD LIFE [Three Days Grace]     63  \n",
       "674057                   The Good Life [Three Days Grace]   1115  \n",
       "674059                          It's Been Awhile [Staind]    505  \n",
       "674061              The Number Of The Beast [Iron Maiden]    127  \n",
       "\n",
       "[360 rows x 7 columns]"
      ]
     },
     "execution_count": 95,
     "metadata": {},
     "output_type": "execute_result"
    }
   ],
   "source": [
    "df_playlists_train[df_playlists_train['playlist']==3956]"
   ]
  },
  {
   "cell_type": "code",
   "execution_count": 119,
   "metadata": {},
   "outputs": [],
   "source": [
    "# Convert every non-zero count to just 1, ie each playlist should count each unique song as appearing only once\n",
    "# regardless of how often it actually appears.\n",
    "playlist_song_mat_train = playlist_song_mat_train.astype(bool).astype(int)"
   ]
  },
  {
   "cell_type": "code",
   "execution_count": 123,
   "metadata": {},
   "outputs": [
    {
     "data": {
      "text/plain": [
       "12"
      ]
     },
     "execution_count": 123,
     "metadata": {},
     "output_type": "execute_result"
    }
   ],
   "source": [
    "playlist_song_mat_train['#1 [Nelly]'].sum()"
   ]
  },
  {
   "cell_type": "code",
   "execution_count": null,
   "metadata": {},
   "outputs": [],
   "source": []
  },
  {
   "cell_type": "code",
   "execution_count": 125,
   "metadata": {},
   "outputs": [
    {
     "data": {
      "text/html": [
       "<div>\n",
       "<style scoped>\n",
       "    .dataframe tbody tr th:only-of-type {\n",
       "        vertical-align: middle;\n",
       "    }\n",
       "\n",
       "    .dataframe tbody tr th {\n",
       "        vertical-align: top;\n",
       "    }\n",
       "\n",
       "    .dataframe thead th {\n",
       "        text-align: right;\n",
       "    }\n",
       "</style>\n",
       "<table border=\"1\" class=\"dataframe\">\n",
       "  <thead>\n",
       "    <tr style=\"text-align: right;\">\n",
       "      <th></th>\n",
       "      <th>playlist</th>\n",
       "      <th>Song1 [Band1]</th>\n",
       "      <th>Song2 [Band2]</th>\n",
       "      <th>Song3 [Band3]</th>\n",
       "      <th>Song4 [Band4]</th>\n",
       "      <th>Song5 [Band5]</th>\n",
       "      <th>Song6 [Band6]</th>\n",
       "    </tr>\n",
       "  </thead>\n",
       "  <tbody>\n",
       "    <tr>\n",
       "      <th>0</th>\n",
       "      <td>0</td>\n",
       "      <td>1</td>\n",
       "      <td>1</td>\n",
       "      <td>1</td>\n",
       "      <td>0</td>\n",
       "      <td>0</td>\n",
       "      <td>8</td>\n",
       "    </tr>\n",
       "    <tr>\n",
       "      <th>1</th>\n",
       "      <td>1</td>\n",
       "      <td>1</td>\n",
       "      <td>1</td>\n",
       "      <td>0</td>\n",
       "      <td>3</td>\n",
       "      <td>0</td>\n",
       "      <td>0</td>\n",
       "    </tr>\n",
       "    <tr>\n",
       "      <th>2</th>\n",
       "      <td>2</td>\n",
       "      <td>5</td>\n",
       "      <td>0</td>\n",
       "      <td>2</td>\n",
       "      <td>0</td>\n",
       "      <td>1</td>\n",
       "      <td>1</td>\n",
       "    </tr>\n",
       "  </tbody>\n",
       "</table>\n",
       "</div>"
      ],
      "text/plain": [
       "   playlist  Song1 [Band1]  Song2 [Band2]  Song3 [Band3]  Song4 [Band4]  \\\n",
       "0         0              1              1              1              0   \n",
       "1         1              1              1              0              3   \n",
       "2         2              5              0              2              0   \n",
       "\n",
       "   Song5 [Band5]  Song6 [Band6]  \n",
       "0              0              8  \n",
       "1              0              0  \n",
       "2              1              1  "
      ]
     },
     "execution_count": 125,
     "metadata": {},
     "output_type": "execute_result"
    }
   ],
   "source": [
    "# ---- CORRELATION MATRIX ----\n",
    "testmat"
   ]
  },
  {
   "cell_type": "code",
   "execution_count": 133,
   "metadata": {},
   "outputs": [],
   "source": [
    "testmat = testmat.astype(bool).astype(int)"
   ]
  },
  {
   "cell_type": "code",
   "execution_count": 144,
   "metadata": {},
   "outputs": [],
   "source": [
    "testmat['playlist'] = [0,1,2]"
   ]
  },
  {
   "cell_type": "code",
   "execution_count": 145,
   "metadata": {},
   "outputs": [
    {
     "data": {
      "text/html": [
       "<div>\n",
       "<style scoped>\n",
       "    .dataframe tbody tr th:only-of-type {\n",
       "        vertical-align: middle;\n",
       "    }\n",
       "\n",
       "    .dataframe tbody tr th {\n",
       "        vertical-align: top;\n",
       "    }\n",
       "\n",
       "    .dataframe thead th {\n",
       "        text-align: right;\n",
       "    }\n",
       "</style>\n",
       "<table border=\"1\" class=\"dataframe\">\n",
       "  <thead>\n",
       "    <tr style=\"text-align: right;\">\n",
       "      <th></th>\n",
       "      <th>playlist</th>\n",
       "      <th>Song1 [Band1]</th>\n",
       "      <th>Song2 [Band2]</th>\n",
       "      <th>Song3 [Band3]</th>\n",
       "      <th>Song4 [Band4]</th>\n",
       "      <th>Song5 [Band5]</th>\n",
       "      <th>Song6 [Band6]</th>\n",
       "    </tr>\n",
       "  </thead>\n",
       "  <tbody>\n",
       "    <tr>\n",
       "      <th>0</th>\n",
       "      <td>0</td>\n",
       "      <td>1</td>\n",
       "      <td>1</td>\n",
       "      <td>1</td>\n",
       "      <td>0</td>\n",
       "      <td>0</td>\n",
       "      <td>1</td>\n",
       "    </tr>\n",
       "    <tr>\n",
       "      <th>1</th>\n",
       "      <td>1</td>\n",
       "      <td>1</td>\n",
       "      <td>1</td>\n",
       "      <td>0</td>\n",
       "      <td>1</td>\n",
       "      <td>0</td>\n",
       "      <td>0</td>\n",
       "    </tr>\n",
       "    <tr>\n",
       "      <th>2</th>\n",
       "      <td>2</td>\n",
       "      <td>1</td>\n",
       "      <td>0</td>\n",
       "      <td>1</td>\n",
       "      <td>0</td>\n",
       "      <td>1</td>\n",
       "      <td>1</td>\n",
       "    </tr>\n",
       "  </tbody>\n",
       "</table>\n",
       "</div>"
      ],
      "text/plain": [
       "   playlist  Song1 [Band1]  Song2 [Band2]  Song3 [Band3]  Song4 [Band4]  \\\n",
       "0         0              1              1              1              0   \n",
       "1         1              1              1              0              1   \n",
       "2         2              1              0              1              0   \n",
       "\n",
       "   Song5 [Band5]  Song6 [Band6]  \n",
       "0              0              1  \n",
       "1              0              0  \n",
       "2              1              1  "
      ]
     },
     "execution_count": 145,
     "metadata": {},
     "output_type": "execute_result"
    }
   ],
   "source": [
    "testmat"
   ]
  },
  {
   "cell_type": "code",
   "execution_count": 146,
   "metadata": {},
   "outputs": [],
   "source": [
    "song2_vector = testmat['Song2 [Band2]']\n",
    "song6_vector = testmat['Song6 [Band6]']"
   ]
  },
  {
   "cell_type": "code",
   "execution_count": 153,
   "metadata": {},
   "outputs": [
    {
     "data": {
      "text/plain": [
       "0    1\n",
       "1    1\n",
       "2    0\n",
       "Name: Song2 [Band2], dtype: int32"
      ]
     },
     "execution_count": 153,
     "metadata": {},
     "output_type": "execute_result"
    }
   ],
   "source": [
    "song2_vector"
   ]
  },
  {
   "cell_type": "code",
   "execution_count": 154,
   "metadata": {},
   "outputs": [
    {
     "data": {
      "text/plain": [
       "0    1\n",
       "1    0\n",
       "2    1\n",
       "Name: Song6 [Band6], dtype: int32"
      ]
     },
     "execution_count": 154,
     "metadata": {},
     "output_type": "execute_result"
    }
   ],
   "source": [
    "song6_vector"
   ]
  },
  {
   "cell_type": "code",
   "execution_count": 157,
   "metadata": {},
   "outputs": [
    {
     "data": {
      "text/html": [
       "<div>\n",
       "<style scoped>\n",
       "    .dataframe tbody tr th:only-of-type {\n",
       "        vertical-align: middle;\n",
       "    }\n",
       "\n",
       "    .dataframe tbody tr th {\n",
       "        vertical-align: top;\n",
       "    }\n",
       "\n",
       "    .dataframe thead th {\n",
       "        text-align: right;\n",
       "    }\n",
       "</style>\n",
       "<table border=\"1\" class=\"dataframe\">\n",
       "  <thead>\n",
       "    <tr style=\"text-align: right;\">\n",
       "      <th></th>\n",
       "      <th>playlist</th>\n",
       "      <th>Song1 [Band1]</th>\n",
       "      <th>Song2 [Band2]</th>\n",
       "      <th>Song3 [Band3]</th>\n",
       "      <th>Song4 [Band4]</th>\n",
       "      <th>Song5 [Band5]</th>\n",
       "      <th>Song6 [Band6]</th>\n",
       "    </tr>\n",
       "  </thead>\n",
       "  <tbody>\n",
       "    <tr>\n",
       "      <th>0</th>\n",
       "      <td>0</td>\n",
       "      <td>1</td>\n",
       "      <td>1</td>\n",
       "      <td>1</td>\n",
       "      <td>0</td>\n",
       "      <td>0</td>\n",
       "      <td>1</td>\n",
       "    </tr>\n",
       "    <tr>\n",
       "      <th>1</th>\n",
       "      <td>1</td>\n",
       "      <td>1</td>\n",
       "      <td>1</td>\n",
       "      <td>0</td>\n",
       "      <td>1</td>\n",
       "      <td>0</td>\n",
       "      <td>0</td>\n",
       "    </tr>\n",
       "    <tr>\n",
       "      <th>2</th>\n",
       "      <td>2</td>\n",
       "      <td>1</td>\n",
       "      <td>0</td>\n",
       "      <td>1</td>\n",
       "      <td>0</td>\n",
       "      <td>1</td>\n",
       "      <td>1</td>\n",
       "    </tr>\n",
       "  </tbody>\n",
       "</table>\n",
       "</div>"
      ],
      "text/plain": [
       "   playlist  Song1 [Band1]  Song2 [Band2]  Song3 [Band3]  Song4 [Band4]  \\\n",
       "0         0              1              1              1              0   \n",
       "1         1              1              1              0              1   \n",
       "2         2              1              0              1              0   \n",
       "\n",
       "   Song5 [Band5]  Song6 [Band6]  \n",
       "0              0              1  \n",
       "1              0              0  \n",
       "2              1              1  "
      ]
     },
     "execution_count": 157,
     "metadata": {},
     "output_type": "execute_result"
    }
   ],
   "source": [
    "testmat"
   ]
  },
  {
   "cell_type": "code",
   "execution_count": 162,
   "metadata": {},
   "outputs": [
    {
     "data": {
      "text/html": [
       "<div>\n",
       "<style scoped>\n",
       "    .dataframe tbody tr th:only-of-type {\n",
       "        vertical-align: middle;\n",
       "    }\n",
       "\n",
       "    .dataframe tbody tr th {\n",
       "        vertical-align: top;\n",
       "    }\n",
       "\n",
       "    .dataframe thead th {\n",
       "        text-align: right;\n",
       "    }\n",
       "</style>\n",
       "<table border=\"1\" class=\"dataframe\">\n",
       "  <thead>\n",
       "    <tr style=\"text-align: right;\">\n",
       "      <th></th>\n",
       "      <th>playlist</th>\n",
       "      <th>Song1 [Band1]</th>\n",
       "      <th>Song2 [Band2]</th>\n",
       "      <th>Song3 [Band3]</th>\n",
       "      <th>Song4 [Band4]</th>\n",
       "      <th>Song5 [Band5]</th>\n",
       "      <th>Song6 [Band6]</th>\n",
       "    </tr>\n",
       "  </thead>\n",
       "  <tbody>\n",
       "    <tr>\n",
       "      <th>playlist</th>\n",
       "      <td>1.000000</td>\n",
       "      <td>NaN</td>\n",
       "      <td>-0.866025</td>\n",
       "      <td>0.0</td>\n",
       "      <td>0.0</td>\n",
       "      <td>0.866025</td>\n",
       "      <td>0.0</td>\n",
       "    </tr>\n",
       "    <tr>\n",
       "      <th>Song1 [Band1]</th>\n",
       "      <td>NaN</td>\n",
       "      <td>NaN</td>\n",
       "      <td>NaN</td>\n",
       "      <td>NaN</td>\n",
       "      <td>NaN</td>\n",
       "      <td>NaN</td>\n",
       "      <td>NaN</td>\n",
       "    </tr>\n",
       "    <tr>\n",
       "      <th>Song2 [Band2]</th>\n",
       "      <td>-0.866025</td>\n",
       "      <td>NaN</td>\n",
       "      <td>1.000000</td>\n",
       "      <td>-0.5</td>\n",
       "      <td>0.5</td>\n",
       "      <td>-1.000000</td>\n",
       "      <td>-0.5</td>\n",
       "    </tr>\n",
       "    <tr>\n",
       "      <th>Song3 [Band3]</th>\n",
       "      <td>0.000000</td>\n",
       "      <td>NaN</td>\n",
       "      <td>-0.500000</td>\n",
       "      <td>1.0</td>\n",
       "      <td>-1.0</td>\n",
       "      <td>0.500000</td>\n",
       "      <td>1.0</td>\n",
       "    </tr>\n",
       "    <tr>\n",
       "      <th>Song4 [Band4]</th>\n",
       "      <td>0.000000</td>\n",
       "      <td>NaN</td>\n",
       "      <td>0.500000</td>\n",
       "      <td>-1.0</td>\n",
       "      <td>1.0</td>\n",
       "      <td>-0.500000</td>\n",
       "      <td>-1.0</td>\n",
       "    </tr>\n",
       "    <tr>\n",
       "      <th>Song5 [Band5]</th>\n",
       "      <td>0.866025</td>\n",
       "      <td>NaN</td>\n",
       "      <td>-1.000000</td>\n",
       "      <td>0.5</td>\n",
       "      <td>-0.5</td>\n",
       "      <td>1.000000</td>\n",
       "      <td>0.5</td>\n",
       "    </tr>\n",
       "    <tr>\n",
       "      <th>Song6 [Band6]</th>\n",
       "      <td>0.000000</td>\n",
       "      <td>NaN</td>\n",
       "      <td>-0.500000</td>\n",
       "      <td>1.0</td>\n",
       "      <td>-1.0</td>\n",
       "      <td>0.500000</td>\n",
       "      <td>1.0</td>\n",
       "    </tr>\n",
       "  </tbody>\n",
       "</table>\n",
       "</div>"
      ],
      "text/plain": [
       "               playlist  Song1 [Band1]  Song2 [Band2]  Song3 [Band3]  \\\n",
       "playlist       1.000000            NaN      -0.866025            0.0   \n",
       "Song1 [Band1]       NaN            NaN            NaN            NaN   \n",
       "Song2 [Band2] -0.866025            NaN       1.000000           -0.5   \n",
       "Song3 [Band3]  0.000000            NaN      -0.500000            1.0   \n",
       "Song4 [Band4]  0.000000            NaN       0.500000           -1.0   \n",
       "Song5 [Band5]  0.866025            NaN      -1.000000            0.5   \n",
       "Song6 [Band6]  0.000000            NaN      -0.500000            1.0   \n",
       "\n",
       "               Song4 [Band4]  Song5 [Band5]  Song6 [Band6]  \n",
       "playlist                 0.0       0.866025            0.0  \n",
       "Song1 [Band1]            NaN            NaN            NaN  \n",
       "Song2 [Band2]            0.5      -1.000000           -0.5  \n",
       "Song3 [Band3]           -1.0       0.500000            1.0  \n",
       "Song4 [Band4]            1.0      -0.500000           -1.0  \n",
       "Song5 [Band5]           -0.5       1.000000            0.5  \n",
       "Song6 [Band6]           -1.0       0.500000            1.0  "
      ]
     },
     "execution_count": 162,
     "metadata": {},
     "output_type": "execute_result"
    }
   ],
   "source": [
    "testmat.corr()"
   ]
  },
  {
   "cell_type": "code",
   "execution_count": null,
   "metadata": {},
   "outputs": [],
   "source": []
  }
 ],
 "metadata": {
  "kernelspec": {
   "display_name": "Python 3",
   "language": "python",
   "name": "python3"
  },
  "language_info": {
   "codemirror_mode": {
    "name": "ipython",
    "version": 3
   },
   "file_extension": ".py",
   "mimetype": "text/x-python",
   "name": "python",
   "nbconvert_exporter": "python",
   "pygments_lexer": "ipython3",
   "version": "3.6.5"
  }
 },
 "nbformat": 4,
 "nbformat_minor": 2
}
