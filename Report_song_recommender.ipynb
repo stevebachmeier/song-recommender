{
 "cells": [
  {
   "cell_type": "markdown",
   "metadata": {
    "hide_input": false
   },
   "source": [
    "# Song Recommender\n",
    "Steve Bachmeier <br>\n",
    "2019-01-22"
   ]
  },
  {
   "cell_type": "code",
   "execution_count": 56,
   "metadata": {
    "code_folding": [],
    "hide_input": false
   },
   "outputs": [
    {
     "data": {
      "text/html": [
       "<style>.prompt{width: 0px; min-width: 0px; visibility: collapse}</style>"
      ],
      "text/plain": [
       "<IPython.core.display.HTML object>"
      ]
     },
     "metadata": {},
     "output_type": "display_data"
    }
   ],
   "source": [
    "# Code to run for report\n",
    "\n",
    "#----------------------------------------------------------------\n",
    "# Run the following two lines to hide the In[] and Out[] margin. \n",
    "# Doing so will not allow headings to be collapsed.\n",
    "\n",
    "from IPython.core.display import display,HTML\n",
    "display(HTML('<style>.prompt{width: 0px; min-width: 0px; visibility: collapse}</style>'))\n",
    "\n",
    "#----------------------------------------------------------------\n",
    "# Run the following lines\n",
    "\n",
    "# Import libraries\n",
    "import dill\n",
    "import pandas as pd\n",
    "\n",
    "# Load\n",
    "df_playlists_train = dill.load(open(\"df_playlists_train.pkl\", \"rb\"))\n",
    "playlist_song_mat_train = dill.load(open(\"playlist_song_mat_train.pkl\", \"rb\"))"
   ]
  },
  {
   "cell_type": "markdown",
   "metadata": {},
   "source": [
    "## 1 Synopsis"
   ]
  },
  {
   "cell_type": "markdown",
   "metadata": {},
   "source": [
    "A basic song recommender system was built using a 1.8+ million row dataset that was scraped in late 2010 / early 2011. The user inputs a specific song and the program suggestions three songs. These recommendations are the songs that show up the most in all playlists that include the song of interest.\n",
    "\n",
    "A working example of the recommender is below:"
   ]
  },
  {
   "cell_type": "code",
   "execution_count": 4,
   "metadata": {
    "code_folding": [
     0
    ]
   },
   "outputs": [
    {
     "name": "stdout",
     "output_type": "stream",
     "text": [
      "\n",
      "\n",
      "Name a song or band: Maroon 5\n",
      "\n",
      "\n",
      "Suggestions:\n",
      "0                         give a little more [maroon 5]\n",
      "1              happy christmas (war is over) [maroon 5]\n",
      "2                          harder to breathe [maroon 5]\n",
      "3     if i never see your face again [maroon 5 & rih...\n",
      "4                            makes me wonder [maroon 5]\n",
      "5                                     misery [maroon 5]\n",
      "6                 never gonna leave this bed [maroon 5]\n",
      "7                          she will be loved [maroon 5]\n",
      "8                             sunday morning [maroon 5]\n",
      "9                                  this love [maroon 5]\n",
      "10                              wake up call [maroon 5]\n",
      "11                 won't go home without you [maroon 5]\n",
      "Name: 0, dtype: object\n",
      "\n",
      "\n",
      "What number? 6\n",
      "\n",
      "\n",
      "Top 3 suggested songs: \n",
      " *  for the first time [the script]\n",
      " *  rolling in the deep [adele]\n",
      " *  grenade [bruno mars]\n"
     ]
    }
   ],
   "source": [
    "# ---- EXAMPLE ----\n",
    "\n",
    "# Ask for song or band\n",
    "print('\\n')\n",
    "song_band_inquiry = input('Name a song or band: ').lower()\n",
    "\n",
    "# Show options\n",
    "options = pd.DataFrame([col for col in playlist_song_mat_train.columns if song_band_inquiry in col])[0]\n",
    "print('\\n')\n",
    "print('Suggestions:')\n",
    "print(options)\n",
    "\n",
    "# Obtain user input\n",
    "while True:\n",
    "    print('\\n')\n",
    "    options\n",
    "    try:\n",
    "        song_band_number = int(input('What number? '))\n",
    "    except:\n",
    "        print('\\n')\n",
    "        print('*** Must input an integer. ***')\n",
    "        continue\n",
    "    else: \n",
    "        if (song_band_number in range(0,len(options))):\n",
    "            song_band_choice = options[song_band_number]\n",
    "            break\n",
    "        else:\n",
    "            print('\\n')\n",
    "            print('*** Choose a number from the table. ***')\n",
    "            continue\n",
    "\t\t\t\n",
    "#==============================================================================\n",
    "#\n",
    "# RECOMMEND\n",
    "#\n",
    "#==============================================================================\n",
    "print('\\n')\n",
    "print('Top 3 suggested songs: ')\n",
    "for x_song_band, x_count in \\\n",
    "    playlist_song_mat_train[playlist_song_mat_train[song_band_choice]==1]\\\n",
    "        .sum().sort_values(ascending=False)[1:4,].iteritems():\n",
    "    print(' * ', x_song_band)"
   ]
  },
  {
   "cell_type": "markdown",
   "metadata": {},
   "source": [
    "## 2 Overview"
   ]
  },
  {
   "cell_type": "markdown",
   "metadata": {},
   "source": [
    "### 2.1 Background"
   ]
  },
  {
   "cell_type": "markdown",
   "metadata": {},
   "source": [
    "Recommender systems are one of the most common applications I try and describe when asked just what a data scientist does. From Netflix's movie suggestions to targeted advertising, it often seems like technology knows what we want even before we do. I thought it would be fun to try and build such a system. For this project, I used playlist data to offer song suggestions to a user-input song."
   ]
  },
  {
   "cell_type": "markdown",
   "metadata": {},
   "source": [
    "### 2.2 Data"
   ]
  },
  {
   "cell_type": "markdown",
   "metadata": {},
   "source": [
    "I was surprised to find that there is not a lot of widely available and open song/playlist data. \n",
    "I initially thought I could use Spotify's Million Song Playlist competition data, but it unfortunately is not yet available\n",
    "for non-competitors. Kaggle has a very large 90+ million row set that I started using, but\n",
    "it is primarily Russian and I do not have the computer resources to\n",
    "translate such a large dataset (although Google's translator package\n",
    "worked admirably during my brief testing).\n",
    "\n",
    "I settled on a moderately large (~11000 playlists consisting of ~1.88 \n",
    "million songs) dataset that was scraped in late 2010/early 2011. The raw \n",
    "data was collected by Shuo Chen from Cornell University's Department of \n",
    "Computer Science. Specifically, playlist and tag data was scraped from \n",
    "Yes.com and Last.fm, respectively; Yes.com and Last.fm thus owns the \n",
    "data.\n",
    "\n",
    "Dataset location: https://www.cs.cornell.edu/~shuochen/lme/data_page.html\n",
    "\n",
    "### References\n",
    "[1] Shuo Chen, Joshua L. Moore, Douglas Turnbull, Thorsten Joachims, \n",
    "Playlist Prediction via Metric Embedding, ACM Conference on Knowledge \n",
    "Discovery and Data Mining (KDD), 2012.\n",
    "\n",
    "[2] Joshua L. Moore, Shuo Chen, Thorsten Joachims, Douglas Turnbull, \n",
    "Learning to Embed Songs and Tags for Playlists Prediction, International \n",
    "Society for Music Information Retrieval (ISMIR), 2012.\n",
    "\n",
    "[3] Shuo Chen, Jiexun Xu, Thorsten Joachims, Multi-space Probabilistic \n",
    "Sequence Modeling, ACM Conference on Knowledge Discovery and Data Mining \n",
    "(KDD), 2013."
   ]
  },
  {
   "cell_type": "markdown",
   "metadata": {},
   "source": [
    "### 2.3 Goal"
   ]
  },
  {
   "cell_type": "markdown",
   "metadata": {},
   "source": [
    "The goal of this project is to make song recommendations based on a single user-input song.\n",
    "\n",
    "Note that the approach taken is very simple and can certainly be improved upon; I am more interested in the thought process that goes into such applications rather than a super robust and accurate model."
   ]
  },
  {
   "cell_type": "markdown",
   "metadata": {},
   "source": [
    "## 3 Model creation\n",
    "This section outlines the analysis completed. Refer to [Appendix A1](#A1) for relevant code."
   ]
  },
  {
   "cell_type": "markdown",
   "metadata": {},
   "source": [
    "### 3.1 Data preparation"
   ]
  },
  {
   "cell_type": "markdown",
   "metadata": {},
   "source": [
    "The raw dataset is a simple .csv file where the first two rows are useless for this analysis, the third consists of unique playlist IDs, and the rest include song IDs for each playlist. These song IDs are tied to their respective song/band information via the song_hash.txt file. \n",
    "\n",
    "A summary of the data preparation process is below:\n",
    "\n",
    "1. Read in the raw data.\n",
    "2. Split the each row's values, convert to integer, and compile into a list.\n",
    "3. Flatmap the playlists list and convert to a dataframe.\n",
    "4. Insert a primary key column of index numbers.\n",
    "5. Merge the song_hash.txt file onto the dataframe.\n",
    "6. Reset the index (since the merge method changes the order of things).\n",
    "\n",
    "At this point we have a tidy dataframe consisting of 1,887,938 rows and 5 columns (index, playlist, song_id, song, and band)."
   ]
  },
  {
   "cell_type": "markdown",
   "metadata": {},
   "source": [
    "### 3.2 Exploratory data analysis\n",
    "\n",
    "It is always a good idea to do at least a bit of exploratory data analysis; creating visualizations can uncover interesting trends and also help guide further analysis. We can start by looking at the distribution of songs as shown by the histogram below."
   ]
  },
  {
   "cell_type": "markdown",
   "metadata": {},
   "source": [
    "<img src=\"images/histogram_quantity_vs_song_count.jpg\" style=\"height: 400px;\">"
   ]
  },
  {
   "cell_type": "markdown",
   "metadata": {},
   "source": [
    "There is a huge spike at lower song counts which means that there are many unique songs that show up a small number of times in the dataset. The histogram below shows the same data but zoomed into song counts between 1-25."
   ]
  },
  {
   "cell_type": "markdown",
   "metadata": {},
   "source": [
    "<img src=\"images/histogram_quantity_vs_song_count2.jpg\" style=\"height: 400px;\">"
   ]
  },
  {
   "cell_type": "markdown",
   "metadata": {},
   "source": [
    "The plot above shows that there are a particularly large amount of songs (quantity) that show up five or less times in the dataset. A final song count histogram but zoomed into song counts between 5-20 is shown below."
   ]
  },
  {
   "cell_type": "markdown",
   "metadata": {},
   "source": [
    "<img src=\"images/histogram_quantity_vs_song_count3.jpg\" style=\"height: 400px;\">"
   ]
  },
  {
   "cell_type": "markdown",
   "metadata": {},
   "source": [
    "A similar set of histograms can be created for unique bands instead of songs. These are shown below."
   ]
  },
  {
   "cell_type": "markdown",
   "metadata": {},
   "source": [
    "<img src=\"images/histogram_quantity_vs_band_count.jpg\" style=\"height: 400px;\">"
   ]
  },
  {
   "cell_type": "markdown",
   "metadata": {},
   "source": [
    "<img src=\"images/histogram_quantity_vs_band_count2.jpg\" style=\"height: 400px;\">"
   ]
  },
  {
   "cell_type": "markdown",
   "metadata": {},
   "source": [
    "### 3.3 Data cleaning"
   ]
  },
  {
   "cell_type": "markdown",
   "metadata": {},
   "source": [
    "The following steps are taken to clean the data:\n",
    "1. Create and merge a song count vector onto the dataframe.\n",
    "2. Pare the data by removing any unique songs that show up less than six times in the dataset.\n",
    "3. Check for any null and NA values (there are none).\n",
    "4. Check for and remove any songs and/or bands labeled \"-\".\n",
    "5. Check for and remove any songs and/or bands labeled \"\" or \" \".\n",
    "6. Remove any escape characters \"\\\".\n",
    "7. Replace any square brackets \"[ ]\" with parentheses \"( )\".\n",
    "8. Lower the case of song and band labels.\n",
    "9. Add a new column \"song_band\" and concatenate the song and band strings like \"song [band]\"."
   ]
  },
  {
   "cell_type": "markdown",
   "metadata": {},
   "source": [
    "At this point, the tidy and clean dataset looks like:"
   ]
  },
  {
   "cell_type": "code",
   "execution_count": 40,
   "metadata": {},
   "outputs": [
    {
     "data": {
      "text/html": [
       "<div>\n",
       "<style scoped>\n",
       "    .dataframe tbody tr th:only-of-type {\n",
       "        vertical-align: middle;\n",
       "    }\n",
       "\n",
       "    .dataframe tbody tr th {\n",
       "        vertical-align: top;\n",
       "    }\n",
       "\n",
       "    .dataframe thead th {\n",
       "        text-align: right;\n",
       "    }\n",
       "</style>\n",
       "<table border=\"1\" class=\"dataframe\">\n",
       "  <thead>\n",
       "    <tr style=\"text-align: right;\">\n",
       "      <th></th>\n",
       "      <th>index</th>\n",
       "      <th>playlist</th>\n",
       "      <th>song_id</th>\n",
       "      <th>song</th>\n",
       "      <th>band</th>\n",
       "      <th>song_band</th>\n",
       "      <th>count</th>\n",
       "    </tr>\n",
       "  </thead>\n",
       "  <tbody>\n",
       "    <tr>\n",
       "      <th>0</th>\n",
       "      <td>0</td>\n",
       "      <td>0</td>\n",
       "      <td>0</td>\n",
       "      <td>gucci time (w/ swizz beatz)</td>\n",
       "      <td>gucci mane</td>\n",
       "      <td>gucci time (w/ swizz beatz) [gucci mane]</td>\n",
       "      <td>138</td>\n",
       "    </tr>\n",
       "    <tr>\n",
       "      <th>1</th>\n",
       "      <td>1</td>\n",
       "      <td>0</td>\n",
       "      <td>1</td>\n",
       "      <td>aston martin music (w/ drake &amp; chrisette miche...</td>\n",
       "      <td>rick ross</td>\n",
       "      <td>aston martin music (w/ drake &amp; chrisette miche...</td>\n",
       "      <td>2833</td>\n",
       "    </tr>\n",
       "    <tr>\n",
       "      <th>2</th>\n",
       "      <td>2</td>\n",
       "      <td>0</td>\n",
       "      <td>2</td>\n",
       "      <td>get back up (w/ chris brown)</td>\n",
       "      <td>t.i.</td>\n",
       "      <td>get back up (w/ chris brown) [t.i.]</td>\n",
       "      <td>297</td>\n",
       "    </tr>\n",
       "    <tr>\n",
       "      <th>3</th>\n",
       "      <td>3</td>\n",
       "      <td>0</td>\n",
       "      <td>3</td>\n",
       "      <td>hot toddy (w/ jay-z &amp; ester dean)</td>\n",
       "      <td>usher</td>\n",
       "      <td>hot toddy (w/ jay-z &amp; ester dean) [usher]</td>\n",
       "      <td>502</td>\n",
       "    </tr>\n",
       "    <tr>\n",
       "      <th>4</th>\n",
       "      <td>4</td>\n",
       "      <td>0</td>\n",
       "      <td>4</td>\n",
       "      <td>whip my hair</td>\n",
       "      <td>willow</td>\n",
       "      <td>whip my hair [willow]</td>\n",
       "      <td>700</td>\n",
       "    </tr>\n",
       "  </tbody>\n",
       "</table>\n",
       "</div>"
      ],
      "text/plain": [
       "   index  playlist  song_id  \\\n",
       "0      0         0        0   \n",
       "1      1         0        1   \n",
       "2      2         0        2   \n",
       "3      3         0        3   \n",
       "4      4         0        4   \n",
       "\n",
       "                                                song        band  \\\n",
       "0                        gucci time (w/ swizz beatz)  gucci mane   \n",
       "1  aston martin music (w/ drake & chrisette miche...   rick ross   \n",
       "2                       get back up (w/ chris brown)        t.i.   \n",
       "3                  hot toddy (w/ jay-z & ester dean)       usher   \n",
       "4                                       whip my hair      willow   \n",
       "\n",
       "                                           song_band  count  \n",
       "0           gucci time (w/ swizz beatz) [gucci mane]    138  \n",
       "1  aston martin music (w/ drake & chrisette miche...   2833  \n",
       "2                get back up (w/ chris brown) [t.i.]    297  \n",
       "3          hot toddy (w/ jay-z & ester dean) [usher]    502  \n",
       "4                              whip my hair [willow]    700  "
      ]
     },
     "execution_count": 40,
     "metadata": {},
     "output_type": "execute_result"
    }
   ],
   "source": [
    "df_playlists_train.head()"
   ]
  },
  {
   "cell_type": "markdown",
   "metadata": {},
   "source": [
    "### 3.4 Build the recommender system"
   ]
  },
  {
   "cell_type": "markdown",
   "metadata": {},
   "source": [
    "The first step in building the actual song recommender is to create a playlist-song matrix where each row represents a specific playlist and each column is a dummy variable for each unique song. The values of each cell is then binary (either 0 or 1) and represents whether or not a specific song shows up in a specific playlist. Note that this is a sparse matrix.\n",
    "\n",
    "First, the song dummy variables are created using Pandas' *get_dummies()* method. Then, index and playlist number columns are inserted. Once this matrix is created, it is converted to a dask dataframe which allows for parallel computing. Doing this, in addition to deleting dataframes that are no longer required, clears up memory errors I was initially getting on my personal laptop.\n",
    "\n",
    "The song-playlist dataframe is then grouped by playlist with the cells consisting of the aggregate *sum()* function. All non-zero sums are in turn converted to ones (I didn't want to over-weight songs that mistakenly are included multiple times in the same playlist(s)).\n",
    "\n",
    "The final step is then to take a user-input song and filter the song-playlist dataframe to only return playlists that include that song. The *sum()* function is finally applied to this filtered dataset across every column to provide sums of every song in that reduced dataframe (note that most are still zero). The recommendations are thus the songs that show up the most among all playlists that contain the song of interest!"
   ]
  },
  {
   "cell_type": "markdown",
   "metadata": {},
   "source": [
    "## 4 Recommendation / final validation"
   ]
  },
  {
   "cell_type": "markdown",
   "metadata": {},
   "source": [
    "As explained in the previous section, the song recommendations are simply the songs that show up the most among all playlists that contain the song of interest. No attempt has been made to increase accuracy of recommendations by, say, analyzing the accompanying tags datasets.\n",
    "\n",
    "Indeed, at this point in time, no attempt has been made to validate the recommender on the available test dataset. An outline of one approach to validate the program is outlined here:\n",
    "\n",
    "1. Use all or a sample of playlists from the test set.\n",
    "2. From the chosen test set data, extract all or a sample of unique songs.\n",
    "3. Run the selected songs through the recommender.\n",
    "4. For each selected song, compare the recommendations to the actual songs that exist in the test playlists.\n",
    "  * As an example, the accuracy of a single recommendation to *song i* might be:\n",
    "  \n",
    "  $$\n",
    "  \\left.accuracy_i = \\frac{count(song_i)}{count(songs)}\\right\\vert_{playlist_i}\n",
    "  $$\n",
    "  \n",
    "Even without having validated it, the recommender does seem to work reasonably well. If I look for suggestions based on a rock and roll song such as, for example, \"Sweet Child o' Mine\" by Guns n' Roses, I indeed get rock and roll suggestions:"
   ]
  },
  {
   "cell_type": "code",
   "execution_count": 43,
   "metadata": {
    "code_folding": [
     0
    ]
   },
   "outputs": [
    {
     "name": "stdout",
     "output_type": "stream",
     "text": [
      "\n",
      "\n",
      "Name a song or band: sweet child o' mine\n",
      "\n",
      "\n",
      "Suggestions:\n",
      "0    sweet child o' mine [guns n' roses]\n",
      "Name: 0, dtype: object\n",
      "\n",
      "\n",
      "What number? 0\n",
      "\n",
      "\n",
      "Top 3 suggested songs: \n",
      " *  welcome to the jungle [guns n' roses]\n",
      " *  sweet emotion [aerosmith]\n",
      " *  dream on [aerosmith]\n"
     ]
    }
   ],
   "source": [
    "# ---- EXAMPLE ----\n",
    "\n",
    "# Ask for song or band\n",
    "print('\\n')\n",
    "song_band_inquiry = input('Name a song or band: ').lower()\n",
    "\n",
    "# Show options\n",
    "options = pd.DataFrame([col for col in playlist_song_mat_train.columns if song_band_inquiry in col])[0]\n",
    "print('\\n')\n",
    "print('Suggestions:')\n",
    "print(options)\n",
    "\n",
    "# Obtain user input\n",
    "while True:\n",
    "    print('\\n')\n",
    "    options\n",
    "    try:\n",
    "        song_band_number = int(input('What number? '))\n",
    "    except:\n",
    "        print('\\n')\n",
    "        print('*** Must input an integer. ***')\n",
    "        continue\n",
    "    else: \n",
    "        if (song_band_number in range(0,len(options))):\n",
    "            song_band_choice = options[song_band_number]\n",
    "            break\n",
    "        else:\n",
    "            print('\\n')\n",
    "            print('*** Choose a number from the table. ***')\n",
    "            continue\n",
    "\t\t\t\n",
    "#==============================================================================\n",
    "#\n",
    "# RECOMMEND\n",
    "#\n",
    "#==============================================================================\n",
    "print('\\n')\n",
    "print('Top 3 suggested songs: ')\n",
    "for x_song_band, x_count in \\\n",
    "    playlist_song_mat_train[playlist_song_mat_train[song_band_choice]==1]\\\n",
    "        .sum().sort_values(ascending=False)[1:4,].iteritems():\n",
    "    print(' * ', x_song_band)"
   ]
  },
  {
   "cell_type": "markdown",
   "metadata": {},
   "source": [
    "On the other hand, if I look for recommendations based on a rap song like \"Boyz-n-the-Hood\" By Eazy-E the program offers raps songs:"
   ]
  },
  {
   "cell_type": "code",
   "execution_count": 52,
   "metadata": {
    "code_folding": [
     0
    ]
   },
   "outputs": [
    {
     "name": "stdout",
     "output_type": "stream",
     "text": [
      "\n",
      "\n",
      "Name a song or band: boyz-n\n",
      "\n",
      "\n",
      "Suggestions:\n",
      "0    boyz-n-the hood [dynamite hack]\n",
      "1           boyz-n-the hood [eazy-e]\n",
      "Name: 0, dtype: object\n",
      "\n",
      "\n",
      "What number? 1\n",
      "\n",
      "\n",
      "Top 3 suggested songs: \n",
      " *  deuces [chris brown & tyga]\n",
      " *  black and yellow [wiz khalifa]\n",
      " *  what's my name (w/ drake) [rihanna]\n"
     ]
    }
   ],
   "source": [
    "# ---- EXAMPLE ----\n",
    "\n",
    "# Ask for song or band\n",
    "print('\\n')\n",
    "song_band_inquiry = input('Name a song or band: ').lower()\n",
    "\n",
    "# Show options\n",
    "options = pd.DataFrame([col for col in playlist_song_mat_train.columns if song_band_inquiry in col])[0]\n",
    "print('\\n')\n",
    "print('Suggestions:')\n",
    "print(options)\n",
    "\n",
    "# Obtain user input\n",
    "while True:\n",
    "    print('\\n')\n",
    "    options\n",
    "    try:\n",
    "        song_band_number = int(input('What number? '))\n",
    "    except:\n",
    "        print('\\n')\n",
    "        print('*** Must input an integer. ***')\n",
    "        continue\n",
    "    else: \n",
    "        if (song_band_number in range(0,len(options))):\n",
    "            song_band_choice = options[song_band_number]\n",
    "            break\n",
    "        else:\n",
    "            print('\\n')\n",
    "            print('*** Choose a number from the table. ***')\n",
    "            continue\n",
    "\t\t\t\n",
    "#==============================================================================\n",
    "#\n",
    "# RECOMMEND\n",
    "#\n",
    "#==============================================================================\n",
    "print('\\n')\n",
    "print('Top 3 suggested songs: ')\n",
    "for x_song_band, x_count in \\\n",
    "    playlist_song_mat_train[playlist_song_mat_train[song_band_choice]==1]\\\n",
    "        .sum().sort_values(ascending=False)[1:4,].iteritems():\n",
    "    print(' * ', x_song_band)"
   ]
  },
  {
   "cell_type": "markdown",
   "metadata": {},
   "source": [
    "## 5 Next steps\n",
    "\n",
    "As mentioned above, this analysis is very simple and there is ample room for improvement should it be desired. Some recommendations to improve this analysis include:\n",
    "\n",
    "* Validate the model. Refer to the above section for an outline of how this might be done.\n",
    "* Analyze the effects of filtering out different song count values.\n",
    "* Analyze and use the accompanying tags datasets to increase recommendation accuracy.\n",
    "* Further clean the text data to better deal with mis-spellings, special characters, etc.\n",
    "* Find and incorporate genre data to more heavily weight songs of the same genre.\n",
    "* Find and incorporate ratings data to more heavily weight songs with higher ratings."
   ]
  },
  {
   "cell_type": "markdown",
   "metadata": {},
   "source": [
    "# Appendix\n",
    "<a id='Appendix'></a>"
   ]
  },
  {
   "cell_type": "markdown",
   "metadata": {},
   "source": [
    "## A1 Code\n",
    "<a id='A1'></a>"
   ]
  },
  {
   "cell_type": "markdown",
   "metadata": {},
   "source": [
    "```\n",
    "#==============================================================================\n",
    "#\n",
    "# IMPORT LIBRARIES\n",
    "# \n",
    "#==============================================================================\n",
    "import time\n",
    "import pandas as pd\n",
    "#pd.options.display.max_columns = None # Shows all columns\n",
    "import string as str\n",
    "import numpy as np\n",
    "import matplotlib.pyplot as plt\n",
    "import dill\n",
    "import dask\n",
    "import dask.dataframe as dd\n",
    "import re\n",
    "from pprint import pprint\n",
    "\n",
    "#==============================================================================\n",
    "# \n",
    "# READ/EXTRACT RAW DATA\n",
    "# \n",
    "#==============================================================================\n",
    "\n",
    "file_train = 'data/dataset/yes_complete/train.txt'\n",
    "\n",
    "with open(file_train) as f:\n",
    "    train_raw = f.readlines()\n",
    "    \n",
    "playlists_train_raw = train_raw[2:]\n",
    "\n",
    "# How many unique playlists?\n",
    "print('There are ', len(playlists_train_raw), ' playlists.', sep='')\n",
    "\n",
    "# Split and convert to integers\n",
    "playlists_train_list = []\n",
    "for i in range(0, len(playlists_train_raw)):\n",
    "    playlists_train_list.append(list(map(int, playlists_train_raw[i].split())))\n",
    "    \n",
    "# Flatmap the playlists list\n",
    "df_playlists_train = []\n",
    "for i in range(0, len(playlists_train_list)):\n",
    "    for j in range(0, len(playlists_train_list[i])):\n",
    "        df_playlists_train.append([i, playlists_train_list[i][j]])\n",
    "        \n",
    "df_playlists_train = pd.DataFrame(df_playlists_train, columns=['playlist', 'song_id'])\n",
    "\n",
    "# Create index primary key\n",
    "df_playlists_train.insert(loc=0, column='index', value=df_playlists_train.index)\n",
    "\n",
    "# ---- Merge songs on song_id ----\n",
    "df_song_hash = pd.read_table('data/dataset/yes_complete/song_hash.txt', header=None, names=['song_id','song','band'])\n",
    "\n",
    "df_playlists_train = df_playlists_train.merge(df_song_hash, on='song_id')\n",
    "df_playlists_train.sort_values('index', inplace=True)\n",
    "df_playlists_train.reset_index(drop=True, inplace=True)\n",
    "\n",
    "#==============================================================================\n",
    "#\n",
    "# EDA\n",
    "# \n",
    "#==============================================================================\n",
    "\n",
    "song_count = df_playlists_train.groupby(['song_id','song','band']).count().reset_index().drop(columns='index')\n",
    "song_count.columns = ['song_id','song','band','count']\n",
    "song_count = song_count.sort_values('count', ascending=False)\n",
    "song_count.reset_index(inplace=True)\n",
    "song_count = song_count[['song_id','song','band','count']]\n",
    "\n",
    "%matplotlib qt\n",
    "plt.figure(figsize=(10,4))\n",
    "song_count['count'].hist(bins=70)\n",
    "plt.xlabel('Song count')\n",
    "plt.ylabel('Quantity')\n",
    "plt.title('')\n",
    "plt.rcParams.update({'font.size': 120})\n",
    "\n",
    "%matplotlib qt\n",
    "plt.figure(figsize=(10,4))\n",
    "song_count['count'].hist(bins=10000)\n",
    "plt.xlabel('Song count')\n",
    "plt.ylabel('Quantity')\n",
    "plt.title('')\n",
    "plt.xlim(0,25)\n",
    "plt.rcParams.update({'font.size': 10})\n",
    "\n",
    "%matplotlib qt\n",
    "plt.figure(figsize=(10,4))\n",
    "song_count[song_count['count'] > 5]['count'].hist(bins=5000)\n",
    "plt.xlabel('Song count')\n",
    "plt.ylabel('Quantity')\n",
    "plt.title('')\n",
    "plt.xlim(5,20)\n",
    "plt.rcParams.update({'font.size': 40})\n",
    "\n",
    "band_count = pd.DataFrame(df_playlists_train.groupby('band')['playlist'].count().sort_values(ascending=False))\n",
    "band_count.reset_index(inplace=True)\n",
    "band_count.columns = ['band','count']\n",
    "\n",
    "%matplotlib qt\n",
    "plt.figure(figsize=(10,4))\n",
    "band_count['count'].hist(bins=70)\n",
    "plt.xlabel('Band count')\n",
    "plt.ylabel('Quantity')\n",
    "plt.title('')\n",
    "plt.rcParams.update({'font.size': 40})\n",
    "\n",
    "%matplotlib qt\n",
    "plt.figure(figsize=(10,4))\n",
    "band_count['count'].hist(bins=1000)\n",
    "plt.xlabel('Band count')\n",
    "plt.ylabel('Quantity')\n",
    "plt.title('')\n",
    "plt.xlim(0,100)\n",
    "plt.rcParams.update({'font.size': 40})\n",
    "\n",
    "#==============================================================================\n",
    "#\n",
    "# CLEAN DATA\n",
    "# \n",
    "#==============================================================================\n",
    "\n",
    "# Add count column\n",
    "df_playlists_train = pd.merge(df_playlists_train, song_count)\n",
    "df_playlists_train.sort_values(by='index', inplace=True)\n",
    "df_playlists_train.reset_index(drop=True, inplace=True)\n",
    "\n",
    "# ---- PARE DATA ----\n",
    "# Remove songs that show up less than 6 times\n",
    "df_playlists_train = df_playlists_train[df_playlists_train['count']>=6]\n",
    "\n",
    "# ---- CHECK FOR NULLS ----\n",
    "df_playlists_train.isnull().sum().sum()\n",
    "df_playlists_train.isna().sum().sum()\n",
    "\n",
    "# ---- REMOVE \"\", \" \", \"-\" ----\n",
    "df_playlists_train[df_playlists_train['song'] == '-'].head()\n",
    "df_playlists_train.drop(df_playlists_train[df_playlists_train['song']=='-'].index, inplace=True)\n",
    "df_playlists_train[df_playlists_train['song'] == '-']\n",
    "\n",
    "df_playlists_train[df_playlists_train['band'] == '-'].head()\n",
    "df_playlists_train.drop(df_playlists_train[df_playlists_train['band']=='-'].index, inplace=True)\n",
    "df_playlists_train[df_playlists_train['band']=='-']\n",
    "\n",
    "df_playlists_train[df_playlists_train['song']=='']\n",
    "df_playlists_train[df_playlists_train['band']=='']\n",
    "df_playlists_train[df_playlists_train['song']==' ']\n",
    "df_playlists_train[df_playlists_train['band']==' ']\n",
    "\n",
    "# ---- REMOVE ESCAPE CHARACTER '\\' ----\n",
    "df_playlists_train['song'] = [x.replace(\"\\\\\",\"\") for x in df_playlists_train['song']]\n",
    "df_playlists_train['band'] = [x.replace(\"\\\\\",\"\") for x in df_playlists_train['band']]\n",
    "\n",
    "# REPLACE [] WITH ()\n",
    "df_playlists_train['song'] = [x.replace(\"[\",\"(\") for x in df_playlists_train['song']]\n",
    "df_playlists_train['song'] = [x.replace(\"]\",\")\") for x in df_playlists_train['song']]\n",
    "df_playlists_train['band'] = [x.replace(\"[\",\"(\") for x in df_playlists_train['band']]\n",
    "df_playlists_train['band'] = [x.replace(\"]\",\")\") for x in df_playlists_train['band']]\n",
    "\n",
    "# LOWER SONG AND BAND\n",
    "df_playlists_train['song'] = [x.lower() for x in df_playlists_train['song']]\n",
    "df_playlists_train['band'] = [x.lower() for x in df_playlists_train['band']]\n",
    "\n",
    "# ---- CONCAT SONG AND BAND ----\n",
    "df_playlists_train['song_band'] = df_playlists_train['song'] + \" [\" + df_playlists_train['band'] + \"]\"\n",
    "\n",
    "# Rearrange columns\n",
    "df_playlists_train = df_playlists_train[['index','playlist','song_id','song','band','song_band','count']]\n",
    "\n",
    "#==============================================================================\n",
    "#\n",
    "# BUILD RECOMMENDER\n",
    "#\n",
    "#==============================================================================\n",
    "\n",
    "# ---- CREATE PLAYLIST-SONG MATRIX ----\n",
    "start_clock = time.clock()\n",
    "\n",
    "# Create song_band dummies\n",
    "#playlist_song_mat_train = pd.get_dummies(df_playlists_train['song_band'], sparse=True)\n",
    "playlist_song_mat_train = pd.get_dummies(df_playlists_train['song_band'])\n",
    "\n",
    "# Insert index and playlist columns\n",
    "playlist_song_mat_train.insert(loc=0, column='playlist', value=df_playlists_train['playlist'])\n",
    "playlist_song_mat_train.insert(loc=0, column='index', value=df_playlists_train['index'])\n",
    "\n",
    "end_clock = time.clock()\n",
    "    \n",
    "print('\\n')\n",
    "print('Runtime: ', round((end_clock - start_clock)/60, 2), ' min', sep='')\n",
    "\n",
    "# CONVERT TO DASK DATAFRAME \n",
    "start_clock = time.clock()\n",
    "dd_playlist_song_mat_train = dd.from_pandas(data=playlist_song_mat_train, npartitions=1000)\n",
    "end_clock = time.clock()\n",
    "\n",
    "print('Runtime: ', round((end_clock - start_clock)/60, 2), ' min')\n",
    "\n",
    "# CLEAR MEMORY \n",
    "del(band_count, df_song_hash, playlist_song_mat_train, \n",
    "    playlists_train_list, playlists_train_raw, song_count, train_raw)\n",
    "    \n",
    "# GROUP BY PLAYLIST \n",
    "start_clock = time.clock()\n",
    "playlist_song_mat_train = dd_playlist_song_mat_train.groupby('playlist').sum().compute()\n",
    "playlist_song_mat_train.drop(columns='index', inplace=True)\n",
    "end_clock = time.clock()\n",
    "\n",
    "print('Runtime: ', round((end_clock - start_clock)/60, 2), ' min')\n",
    "\n",
    "# CLEAR MEMORY \n",
    "del(dd_playlist_song_mat_train)\n",
    "\n",
    "# Convert every non-zero count to just 1, ie each playlist should count each unique song as appearing only once\n",
    "# regardless of how often it actually appears.\n",
    "playlist_song_mat_train = playlist_song_mat_train.astype(bool).astype(int)\n",
    "\n",
    "# ---- SAVE/LOAD DATAFRAMES ----\n",
    "import dill\n",
    "import pandas as pd\n",
    "\n",
    "# Save out dataframes\n",
    "# Dump\n",
    "#dill.dump(df_playlists_train, open(\"df_playlists_train.pkl\", \"wb\"))\n",
    "#dill.dump(playlist_song_mat_train, open(\"playlist_song_mat_train.pkl\", \"wb\"))\n",
    "\n",
    "# Load\n",
    "#df_playlists_train = dill.load(open(\"df_playlists_train.pkl\", \"rb\"))\n",
    "#playlist_song_mat_train = dill.load(open(\"playlist_song_mat_train.pkl\", \"rb\"))\n",
    "\n",
    "#==============================================================================\n",
    "#\n",
    "# RUN\n",
    "#\n",
    "#==============================================================================\n",
    "\n",
    "# ---- SONG OR BAND INQUIRY ----\n",
    "song_band_inquiry = input('What song or band do you like? ').lower()\n",
    "\n",
    "options = pd.DataFrame([col for col in playlist_song_mat_train.columns if song_band_inquiry in col])[0]\n",
    "\n",
    "while True:\n",
    "    print('\\n')\n",
    "    options\n",
    "    try:\n",
    "        song_band_number = int(input('What number? '))\n",
    "    except:\n",
    "        print('\\n')\n",
    "        print('*** Must input an integer. ***')\n",
    "        continue\n",
    "    else: \n",
    "        if (song_band_number in range(0,len(options))):\n",
    "            song_band_choice = options[song_band_number]\n",
    "            break\n",
    "        else:\n",
    "            print('\\n')\n",
    "            print('*** Choose a number from the table. ***')\n",
    "            continue\n",
    "            \n",
    "print('Top 3 suggested songs: ')\n",
    "for x_song_band, x_count in \\\n",
    "    playlist_song_mat_train[playlist_song_mat_train[song_band_choice]==1]\\\n",
    "        .sum().sort_values(ascending=False)[1:4,].iteritems():\n",
    "    print(' * ', x_song_band)\n",
    "```"
   ]
  }
 ],
 "metadata": {
  "kernelspec": {
   "display_name": "Python 3",
   "language": "python",
   "name": "python3"
  },
  "language_info": {
   "codemirror_mode": {
    "name": "ipython",
    "version": 3
   },
   "file_extension": ".py",
   "mimetype": "text/x-python",
   "name": "python",
   "nbconvert_exporter": "python",
   "pygments_lexer": "ipython3",
   "version": "3.6.5"
  },
  "notify_time": "30"
 },
 "nbformat": 4,
 "nbformat_minor": 2
}
